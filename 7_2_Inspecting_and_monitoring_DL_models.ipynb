{
  "nbformat": 4,
  "nbformat_minor": 0,
  "metadata": {
    "colab": {
      "name": "7.2-Inspecting_and_monitoring_DL_models.ipynb",
      "version": "0.3.2",
      "provenance": [],
      "collapsed_sections": [
        "r3dnK4h7vCs1"
      ],
      "include_colab_link": true
    },
    "kernelspec": {
      "name": "python3",
      "display_name": "Python 3"
    },
    "accelerator": "GPU"
  },
  "cells": [
    {
      "cell_type": "markdown",
      "metadata": {
        "id": "view-in-github",
        "colab_type": "text"
      },
      "source": [
        "<a href=\"https://colab.research.google.com/github/tcglarry/useful_keras/blob/master/7_2_Inspecting_and_monitoring_DL_models.ipynb\" target=\"_parent\"><img src=\"https://colab.research.google.com/assets/colab-badge.svg\" alt=\"Open In Colab\"/></a>"
      ]
    },
    {
      "metadata": {
        "id": "22U4wtacvCrZ",
        "colab_type": "text"
      },
      "cell_type": "markdown",
      "source": [
        "# 7.2 Inspecting and monitoring DL models \n",
        "# using Keras callbacks and TensorBoard\n",
        "## Chap 7 «Advanced Deep-learning best practices»\n",
        "## «Deep Learning with Python» book by François Chollet\n",
        "\n",
        "This notebook contains the code samples found in Chapter 7 of «Deep Learning with Python». Note that the original text features far more content, in particular further explanations and figures.\n",
        "\n",
        "修改與補充Claude COULOMBE的github :https://github.com/ClaudeCoulombe/deep-learning-with-python-notebooks (by Claude COULOMBE - PhD candidate - TÉLUQ / UQAM - Montréal.)"
      ]
    },
    {
      "metadata": {
        "id": "3khujC1uvCrb",
        "colab_type": "code",
        "outputId": "c125708d-af8e-4ebe-95ca-828829daadb0",
        "colab": {
          "base_uri": "https://localhost:8080/",
          "height": 72
        }
      },
      "cell_type": "code",
      "source": [
        "# sudo pip3 install --ignore-installed --upgrade tensorflow\n",
        "import tensorflow as tf\n",
        "import keras.backend.tensorflow_backend as KTF\n",
        "config = tf.ConfigProto()\n",
        "config.gpu_options.allow_growth = True\n",
        "session = tf.Session(config=config)\n",
        "KTF.set_session(session)\n",
        "import keras\n",
        "print(keras.__version__)\n",
        "print(tf.__version__)\n",
        "# To ignore keep_dims warning\n",
        "tf.logging.set_verbosity(tf.logging.ERROR)"
      ],
      "execution_count": 0,
      "outputs": [
        {
          "output_type": "stream",
          "text": [
            "Using TensorFlow backend.\n"
          ],
          "name": "stderr"
        },
        {
          "output_type": "stream",
          "text": [
            "2.2.4\n",
            "1.12.0\n"
          ],
          "name": "stdout"
        }
      ]
    },
    {
      "metadata": {
        "id": "tcrWMnMwxLib",
        "colab_type": "text"
      },
      "cell_type": "markdown",
      "source": [
        "##  Install some packages to visualize the network structure\n",
        "\n",
        "\n"
      ]
    },
    {
      "metadata": {
        "id": "BDNuWfzUw5Lc",
        "colab_type": "code",
        "outputId": "57ff7aea-5ce4-45ee-c392-2d4cb8c57c83",
        "colab": {
          "base_uri": "https://localhost:8080/",
          "height": 3140
        }
      },
      "cell_type": "code",
      "source": [
        "!pip install graphviz \n",
        "!apt-get install graphviz "
      ],
      "execution_count": 0,
      "outputs": [
        {
          "output_type": "stream",
          "text": [
            "Collecting graphviz\n",
            "  Downloading https://files.pythonhosted.org/packages/1f/e2/ef2581b5b86625657afd32030f90cf2717456c1d2b711ba074bf007c0f1a/graphviz-0.10.1-py2.py3-none-any.whl\n",
            "Installing collected packages: graphviz\n",
            "Successfully installed graphviz-0.10.1\n",
            "Reading package lists... Done\n",
            "Building dependency tree       \n",
            "Reading state information... Done\n",
            "The following additional packages will be installed:\n",
            "  fontconfig libann0 libcairo2 libcdt5 libcgraph6 libdatrie1 libgd3\n",
            "  libgts-0.7-5 libgts-bin libgvc6 libgvpr2 libjbig0 liblab-gamut1 libltdl7\n",
            "  libpango-1.0-0 libpangocairo-1.0-0 libpangoft2-1.0-0 libpathplan4\n",
            "  libpixman-1-0 libthai-data libthai0 libtiff5 libwebp6 libxaw7 libxcb-render0\n",
            "  libxcb-shm0 libxmu6 libxpm4 libxt6\n",
            "Suggested packages:\n",
            "  gsfonts graphviz-doc libgd-tools\n",
            "The following NEW packages will be installed:\n",
            "  fontconfig graphviz libann0 libcairo2 libcdt5 libcgraph6 libdatrie1 libgd3\n",
            "  libgts-0.7-5 libgts-bin libgvc6 libgvpr2 libjbig0 liblab-gamut1 libltdl7\n",
            "  libpango-1.0-0 libpangocairo-1.0-0 libpangoft2-1.0-0 libpathplan4\n",
            "  libpixman-1-0 libthai-data libthai0 libtiff5 libwebp6 libxaw7 libxcb-render0\n",
            "  libxcb-shm0 libxmu6 libxpm4 libxt6\n",
            "0 upgraded, 30 newly installed, 0 to remove and 5 not upgraded.\n",
            "Need to get 4,154 kB of archives.\n",
            "After this operation, 16.1 MB of additional disk space will be used.\n",
            "Get:1 http://archive.ubuntu.com/ubuntu bionic/main amd64 fontconfig amd64 2.12.6-0ubuntu2 [169 kB]\n",
            "Get:2 http://archive.ubuntu.com/ubuntu bionic/universe amd64 libann0 amd64 1.1.2+doc-6 [24.8 kB]\n",
            "Get:3 http://archive.ubuntu.com/ubuntu bionic/universe amd64 libcdt5 amd64 2.40.1-2 [19.6 kB]\n",
            "Get:4 http://archive.ubuntu.com/ubuntu bionic/universe amd64 libcgraph6 amd64 2.40.1-2 [40.8 kB]\n",
            "Get:5 http://archive.ubuntu.com/ubuntu bionic/main amd64 libjbig0 amd64 2.1-3.1build1 [26.7 kB]\n",
            "Get:6 http://archive.ubuntu.com/ubuntu bionic/main amd64 libtiff5 amd64 4.0.9-5 [152 kB]\n",
            "Get:7 http://archive.ubuntu.com/ubuntu bionic/main amd64 libwebp6 amd64 0.6.1-2 [185 kB]\n",
            "Get:8 http://archive.ubuntu.com/ubuntu bionic/main amd64 libxpm4 amd64 1:3.5.12-1 [34.0 kB]\n",
            "Get:9 http://archive.ubuntu.com/ubuntu bionic-updates/main amd64 libgd3 amd64 2.2.5-4ubuntu0.2 [119 kB]\n",
            "Get:10 http://archive.ubuntu.com/ubuntu bionic/universe amd64 libgts-0.7-5 amd64 0.7.6+darcs121130-4 [150 kB]\n",
            "Get:11 http://archive.ubuntu.com/ubuntu bionic/main amd64 libpixman-1-0 amd64 0.34.0-2 [229 kB]\n",
            "Get:12 http://archive.ubuntu.com/ubuntu bionic/main amd64 libxcb-render0 amd64 1.13-1 [14.7 kB]\n",
            "Get:13 http://archive.ubuntu.com/ubuntu bionic/main amd64 libxcb-shm0 amd64 1.13-1 [5,572 B]\n",
            "Get:14 http://archive.ubuntu.com/ubuntu bionic/main amd64 libcairo2 amd64 1.15.10-2 [580 kB]\n",
            "Get:15 http://archive.ubuntu.com/ubuntu bionic/main amd64 libltdl7 amd64 2.4.6-2 [38.8 kB]\n",
            "Get:16 http://archive.ubuntu.com/ubuntu bionic/main amd64 libthai-data all 0.1.27-2 [133 kB]\n",
            "Get:17 http://archive.ubuntu.com/ubuntu bionic/main amd64 libdatrie1 amd64 0.2.10-7 [17.8 kB]\n",
            "Get:18 http://archive.ubuntu.com/ubuntu bionic/main amd64 libthai0 amd64 0.1.27-2 [18.0 kB]\n",
            "Get:19 http://archive.ubuntu.com/ubuntu bionic-updates/main amd64 libpango-1.0-0 amd64 1.40.14-1ubuntu0.1 [153 kB]\n",
            "Get:20 http://archive.ubuntu.com/ubuntu bionic-updates/main amd64 libpangoft2-1.0-0 amd64 1.40.14-1ubuntu0.1 [33.2 kB]\n",
            "Get:21 http://archive.ubuntu.com/ubuntu bionic-updates/main amd64 libpangocairo-1.0-0 amd64 1.40.14-1ubuntu0.1 [20.8 kB]\n",
            "Get:22 http://archive.ubuntu.com/ubuntu bionic/universe amd64 libpathplan4 amd64 2.40.1-2 [22.6 kB]\n",
            "Get:23 http://archive.ubuntu.com/ubuntu bionic/universe amd64 libgvc6 amd64 2.40.1-2 [601 kB]\n",
            "Get:24 http://archive.ubuntu.com/ubuntu bionic/universe amd64 libgvpr2 amd64 2.40.1-2 [169 kB]\n",
            "Get:25 http://archive.ubuntu.com/ubuntu bionic/universe amd64 liblab-gamut1 amd64 2.40.1-2 [178 kB]\n",
            "Get:26 http://archive.ubuntu.com/ubuntu bionic/main amd64 libxt6 amd64 1:1.1.5-1 [160 kB]\n",
            "Get:27 http://archive.ubuntu.com/ubuntu bionic/main amd64 libxmu6 amd64 2:1.1.2-2 [46.0 kB]\n",
            "Get:28 http://archive.ubuntu.com/ubuntu bionic/main amd64 libxaw7 amd64 2:1.0.13-1 [173 kB]\n",
            "Get:29 http://archive.ubuntu.com/ubuntu bionic/universe amd64 graphviz amd64 2.40.1-2 [601 kB]\n",
            "Get:30 http://archive.ubuntu.com/ubuntu bionic/universe amd64 libgts-bin amd64 0.7.6+darcs121130-4 [41.3 kB]\n",
            "Fetched 4,154 kB in 2s (2,285 kB/s)\n",
            "Selecting previously unselected package fontconfig.\n",
            "(Reading database ... 22280 files and directories currently installed.)\n",
            "Preparing to unpack .../00-fontconfig_2.12.6-0ubuntu2_amd64.deb ...\n",
            "Unpacking fontconfig (2.12.6-0ubuntu2) ...\n",
            "Selecting previously unselected package libann0.\n",
            "Preparing to unpack .../01-libann0_1.1.2+doc-6_amd64.deb ...\n",
            "Unpacking libann0 (1.1.2+doc-6) ...\n",
            "Selecting previously unselected package libcdt5.\n",
            "Preparing to unpack .../02-libcdt5_2.40.1-2_amd64.deb ...\n",
            "Unpacking libcdt5 (2.40.1-2) ...\n",
            "Selecting previously unselected package libcgraph6.\n",
            "Preparing to unpack .../03-libcgraph6_2.40.1-2_amd64.deb ...\n",
            "Unpacking libcgraph6 (2.40.1-2) ...\n",
            "Selecting previously unselected package libjbig0:amd64.\n",
            "Preparing to unpack .../04-libjbig0_2.1-3.1build1_amd64.deb ...\n",
            "Unpacking libjbig0:amd64 (2.1-3.1build1) ...\n",
            "Selecting previously unselected package libtiff5:amd64.\n",
            "Preparing to unpack .../05-libtiff5_4.0.9-5_amd64.deb ...\n",
            "Unpacking libtiff5:amd64 (4.0.9-5) ...\n",
            "Selecting previously unselected package libwebp6:amd64.\n",
            "Preparing to unpack .../06-libwebp6_0.6.1-2_amd64.deb ...\n",
            "Unpacking libwebp6:amd64 (0.6.1-2) ...\n",
            "Selecting previously unselected package libxpm4:amd64.\n",
            "Preparing to unpack .../07-libxpm4_1%3a3.5.12-1_amd64.deb ...\n",
            "Unpacking libxpm4:amd64 (1:3.5.12-1) ...\n",
            "Selecting previously unselected package libgd3:amd64.\n",
            "Preparing to unpack .../08-libgd3_2.2.5-4ubuntu0.2_amd64.deb ...\n",
            "Unpacking libgd3:amd64 (2.2.5-4ubuntu0.2) ...\n",
            "Selecting previously unselected package libgts-0.7-5:amd64.\n",
            "Preparing to unpack .../09-libgts-0.7-5_0.7.6+darcs121130-4_amd64.deb ...\n",
            "Unpacking libgts-0.7-5:amd64 (0.7.6+darcs121130-4) ...\n",
            "Selecting previously unselected package libpixman-1-0:amd64.\n",
            "Preparing to unpack .../10-libpixman-1-0_0.34.0-2_amd64.deb ...\n",
            "Unpacking libpixman-1-0:amd64 (0.34.0-2) ...\n",
            "Selecting previously unselected package libxcb-render0:amd64.\n",
            "Preparing to unpack .../11-libxcb-render0_1.13-1_amd64.deb ...\n",
            "Unpacking libxcb-render0:amd64 (1.13-1) ...\n",
            "Selecting previously unselected package libxcb-shm0:amd64.\n",
            "Preparing to unpack .../12-libxcb-shm0_1.13-1_amd64.deb ...\n",
            "Unpacking libxcb-shm0:amd64 (1.13-1) ...\n",
            "Selecting previously unselected package libcairo2:amd64.\n",
            "Preparing to unpack .../13-libcairo2_1.15.10-2_amd64.deb ...\n",
            "Unpacking libcairo2:amd64 (1.15.10-2) ...\n",
            "Selecting previously unselected package libltdl7:amd64.\n",
            "Preparing to unpack .../14-libltdl7_2.4.6-2_amd64.deb ...\n",
            "Unpacking libltdl7:amd64 (2.4.6-2) ...\n",
            "Selecting previously unselected package libthai-data.\n",
            "Preparing to unpack .../15-libthai-data_0.1.27-2_all.deb ...\n",
            "Unpacking libthai-data (0.1.27-2) ...\n",
            "Selecting previously unselected package libdatrie1:amd64.\n",
            "Preparing to unpack .../16-libdatrie1_0.2.10-7_amd64.deb ...\n",
            "Unpacking libdatrie1:amd64 (0.2.10-7) ...\n",
            "Selecting previously unselected package libthai0:amd64.\n",
            "Preparing to unpack .../17-libthai0_0.1.27-2_amd64.deb ...\n",
            "Unpacking libthai0:amd64 (0.1.27-2) ...\n",
            "Selecting previously unselected package libpango-1.0-0:amd64.\n",
            "Preparing to unpack .../18-libpango-1.0-0_1.40.14-1ubuntu0.1_amd64.deb ...\n",
            "Unpacking libpango-1.0-0:amd64 (1.40.14-1ubuntu0.1) ...\n",
            "Selecting previously unselected package libpangoft2-1.0-0:amd64.\n",
            "Preparing to unpack .../19-libpangoft2-1.0-0_1.40.14-1ubuntu0.1_amd64.deb ...\n",
            "Unpacking libpangoft2-1.0-0:amd64 (1.40.14-1ubuntu0.1) ...\n",
            "Selecting previously unselected package libpangocairo-1.0-0:amd64.\n",
            "Preparing to unpack .../20-libpangocairo-1.0-0_1.40.14-1ubuntu0.1_amd64.deb ...\n",
            "Unpacking libpangocairo-1.0-0:amd64 (1.40.14-1ubuntu0.1) ...\n",
            "Selecting previously unselected package libpathplan4.\n",
            "Preparing to unpack .../21-libpathplan4_2.40.1-2_amd64.deb ...\n",
            "Unpacking libpathplan4 (2.40.1-2) ...\n",
            "Selecting previously unselected package libgvc6.\n",
            "Preparing to unpack .../22-libgvc6_2.40.1-2_amd64.deb ...\n",
            "Unpacking libgvc6 (2.40.1-2) ...\n",
            "Selecting previously unselected package libgvpr2.\n",
            "Preparing to unpack .../23-libgvpr2_2.40.1-2_amd64.deb ...\n",
            "Unpacking libgvpr2 (2.40.1-2) ...\n",
            "Selecting previously unselected package liblab-gamut1.\n",
            "Preparing to unpack .../24-liblab-gamut1_2.40.1-2_amd64.deb ...\n",
            "Unpacking liblab-gamut1 (2.40.1-2) ...\n",
            "Selecting previously unselected package libxt6:amd64.\n",
            "Preparing to unpack .../25-libxt6_1%3a1.1.5-1_amd64.deb ...\n",
            "Unpacking libxt6:amd64 (1:1.1.5-1) ...\n",
            "Selecting previously unselected package libxmu6:amd64.\n",
            "Preparing to unpack .../26-libxmu6_2%3a1.1.2-2_amd64.deb ...\n",
            "Unpacking libxmu6:amd64 (2:1.1.2-2) ...\n",
            "Selecting previously unselected package libxaw7:amd64.\n",
            "Preparing to unpack .../27-libxaw7_2%3a1.0.13-1_amd64.deb ...\n",
            "Unpacking libxaw7:amd64 (2:1.0.13-1) ...\n",
            "Selecting previously unselected package graphviz.\n",
            "Preparing to unpack .../28-graphviz_2.40.1-2_amd64.deb ...\n",
            "Unpacking graphviz (2.40.1-2) ...\n",
            "Selecting previously unselected package libgts-bin.\n",
            "Preparing to unpack .../29-libgts-bin_0.7.6+darcs121130-4_amd64.deb ...\n",
            "Unpacking libgts-bin (0.7.6+darcs121130-4) ...\n",
            "Setting up libgts-0.7-5:amd64 (0.7.6+darcs121130-4) ...\n",
            "Setting up libpathplan4 (2.40.1-2) ...\n",
            "Setting up liblab-gamut1 (2.40.1-2) ...\n",
            "Setting up libxcb-render0:amd64 (1.13-1) ...\n",
            "Setting up libjbig0:amd64 (2.1-3.1build1) ...\n",
            "Setting up libdatrie1:amd64 (0.2.10-7) ...\n",
            "Setting up libtiff5:amd64 (4.0.9-5) ...\n",
            "Setting up libpixman-1-0:amd64 (0.34.0-2) ...\n",
            "Processing triggers for libc-bin (2.27-3ubuntu1) ...\n",
            "Setting up libltdl7:amd64 (2.4.6-2) ...\n",
            "Setting up libann0 (1.1.2+doc-6) ...\n",
            "Setting up libxcb-shm0:amd64 (1.13-1) ...\n",
            "Setting up libxpm4:amd64 (1:3.5.12-1) ...\n",
            "Setting up libxt6:amd64 (1:1.1.5-1) ...\n",
            "Setting up libgts-bin (0.7.6+darcs121130-4) ...\n",
            "Setting up libthai-data (0.1.27-2) ...\n",
            "Setting up libcdt5 (2.40.1-2) ...\n",
            "Setting up fontconfig (2.12.6-0ubuntu2) ...\n",
            "Regenerating fonts cache... done.\n",
            "Setting up libcgraph6 (2.40.1-2) ...\n",
            "Setting up libwebp6:amd64 (0.6.1-2) ...\n",
            "Setting up libcairo2:amd64 (1.15.10-2) ...\n",
            "Setting up libgvpr2 (2.40.1-2) ...\n",
            "Setting up libgd3:amd64 (2.2.5-4ubuntu0.2) ...\n",
            "Setting up libthai0:amd64 (0.1.27-2) ...\n",
            "Setting up libxmu6:amd64 (2:1.1.2-2) ...\n",
            "Setting up libpango-1.0-0:amd64 (1.40.14-1ubuntu0.1) ...\n",
            "Setting up libxaw7:amd64 (2:1.0.13-1) ...\n",
            "Setting up libpangoft2-1.0-0:amd64 (1.40.14-1ubuntu0.1) ...\n",
            "Setting up libpangocairo-1.0-0:amd64 (1.40.14-1ubuntu0.1) ...\n",
            "Setting up libgvc6 (2.40.1-2) ...\n",
            "Setting up graphviz (2.40.1-2) ...\n",
            "Processing triggers for libc-bin (2.27-3ubuntu1) ...\n"
          ],
          "name": "stdout"
        }
      ]
    },
    {
      "metadata": {
        "id": "ikjjtc_lvp7v",
        "colab_type": "code",
        "outputId": "2054ccbd-2726-4c7e-de50-4febdb488ba0",
        "colab": {
          "base_uri": "https://localhost:8080/",
          "height": 191
        }
      },
      "cell_type": "code",
      "source": [
        "# Install pydot to visualize the network structure\n",
        "!pip install pydot"
      ],
      "execution_count": 0,
      "outputs": [
        {
          "output_type": "stream",
          "text": [
            "Collecting pydot\n",
            "\u001b[?25l  Downloading https://files.pythonhosted.org/packages/c3/f1/e61d6dfe6c1768ed2529761a68f70939e2569da043e9f15a8d84bf56cadf/pydot-1.2.4.tar.gz (132kB)\n",
            "\r\u001b[K    7% |██▌                             | 10kB 21.4MB/s eta 0:00:01\r\u001b[K    15% |█████                           | 20kB 2.9MB/s eta 0:00:01\r\u001b[K    23% |███████▌                        | 30kB 3.3MB/s eta 0:00:01\r\u001b[K    31% |██████████                      | 40kB 3.1MB/s eta 0:00:01\r\u001b[K    38% |████████████▍                   | 51kB 3.4MB/s eta 0:00:01\r\u001b[K    46% |███████████████                 | 61kB 4.0MB/s eta 0:00:01\r\u001b[K    54% |█████████████████▍              | 71kB 4.2MB/s eta 0:00:01\r\u001b[K    62% |███████████████████▉            | 81kB 4.1MB/s eta 0:00:01\r\u001b[K    69% |██████████████████████▍         | 92kB 4.5MB/s eta 0:00:01\r\u001b[K    77% |████████████████████████▉       | 102kB 4.7MB/s eta 0:00:01\r\u001b[K    85% |███████████████████████████▎    | 112kB 4.7MB/s eta 0:00:01\r\u001b[K    93% |█████████████████████████████▉  | 122kB 5.9MB/s eta 0:00:01\r\u001b[K    100% |████████████████████████████████| 133kB 5.9MB/s \n",
            "\u001b[?25hRequirement already satisfied: pyparsing>=2.1.4 in /usr/local/lib/python3.6/dist-packages (from pydot) (2.3.0)\n",
            "Building wheels for collected packages: pydot\n",
            "  Running setup.py bdist_wheel for pydot ... \u001b[?25l-\b \bdone\n",
            "\u001b[?25h  Stored in directory: /root/.cache/pip/wheels/6a/a5/14/25541ebcdeaf97a37b6d05c7ff15f5bd20f5e91b99d313e5b4\n",
            "Successfully built pydot\n",
            "Installing collected packages: pydot\n",
            "Successfully installed pydot-1.2.4\n"
          ],
          "name": "stdout"
        }
      ]
    },
    {
      "metadata": {
        "id": "vR2KUIrbwHXC",
        "colab_type": "code",
        "outputId": "6727c5d5-fe3c-4c76-a681-9007b2a9f2d0",
        "colab": {
          "base_uri": "https://localhost:8080/",
          "height": 124
        }
      },
      "cell_type": "code",
      "source": [
        "! pip install pydot-ng"
      ],
      "execution_count": 0,
      "outputs": [
        {
          "output_type": "stream",
          "text": [
            "Collecting pydot-ng\n",
            "  Downloading https://files.pythonhosted.org/packages/3c/5b/9a08333f2d70d404ffe42cea4f50159c4ad94feaa4d7585551c05cacef46/pydot_ng-2.0.0-py2.py3-none-any.whl\n",
            "Requirement already satisfied: pyparsing>=2.0.1 in /usr/local/lib/python3.6/dist-packages (from pydot-ng) (2.3.0)\n",
            "Installing collected packages: pydot-ng\n",
            "Successfully installed pydot-ng-2.0.0\n"
          ],
          "name": "stdout"
        }
      ]
    },
    {
      "metadata": {
        "id": "Qk_sxXLQxzDb",
        "colab_type": "text"
      },
      "cell_type": "markdown",
      "source": [
        "### After fininishing the installation, you have to restart the runtime!!"
      ]
    },
    {
      "metadata": {
        "id": "kzRenJDNvCro",
        "colab_type": "text"
      },
      "cell_type": "markdown",
      "source": [
        "## 7.2. Inspecting and monitoring DL models using Keras call-backs and TensorBoard \n",
        "\n",
        "In this section, we’ll review ways to gain greater access to and control over what goes on inside your model during training. Launching a training run on a large dataset for tens of epochs using model.fit() or model.fit_generator() can be a bit like launching a paper airplane: past the initial impulse, you don’t have any control over its trajectory or its landing spot. If you want to avoid bad outcomes (and thus wasted paper airplanes), it’s smarter to use not a paper plane, but a drone that can sense its environment, send data back to its operator, and automatically make steering decisions based on its current state. The techniques we present here will transform the call to model.fit() from a paper airplane into a smart, autonomous drone that can self-introspect and dynamically take action. \n",
        "\n",
        "### 7.2.1. Using callbacks to act on a model during training \n",
        "\n",
        "When you’re training a model, there are many things you can’t predict from the start. In particular, you can’t tell how many epochs will be needed to get to an optimal validation loss. The examples so far have adopted the strategy of training for enough epochs that you begin overfitting, using the first run to figure out the proper number of epochs to train for, and then finally launching a new training run from scratch using this optimal number. Of course, this approach is wasteful. \n",
        "\n",
        "A much better way to handle this is to stop training when you measure that the validation loss in no longer improving. This can be achieved using a Keras callback. A callback is an object (a class instance implementing specific methods) that is passed to the model in the call to fit and that is called by the model at various points during training. It has access to all the available data about the state of the model and its performance, and it can take action: interrupt training, save a model, load a different weight set, or otherwise alter the state of the model.\n",
        "\n",
        "Here are some examples of ways you can use callbacks: \n",
        "\n",
        "* **Model checkpointing** — Saving the current weights of the model at different points during training. \n",
        "* **Early stopping** — Interrupting training when the validation loss is no longer improving (and of course, saving the best model obtained during training). \n",
        "* **Dynamically adjusting the value of certain parameters during training** — Such as the learning rate of the optimizer. \n",
        "* **Logging / Visualizing training and validation metrics during training** or visualizing the representations learned by the model as they’re updated — The Keras progress bar that you’re familiar with is a callback!\n",
        "\n",
        "The keras.callbacks module includes a number of built-in callbacks (this is not an exhaustive list):\n",
        "\n",
        "https://keras.io/callbacks/\n",
        "\n",
        "* keras.callbacks.ModelCheckpoint\n",
        "* keras.callbacks.EarlyStopping\n",
        "* keras.callbacks.LearningRateScheduler\n",
        "* keras.callbacks.ReduceLROnPlateau\n",
        "* keras.callbacks.CSVLogger\n",
        "\n",
        "### The ModelCheckpoint and EarlyStopping callbacks\n",
        "\n",
        "You can use the `EarlyStopping` callback to interrupt training once a target metric being monitored has stopped improving for a fixed number of epochs. For instance, this callback allows you to interrupt training as soon as you start overfitting, thus avoiding having to retrain your model for a smaller number of epochs. This callback is typically used in combination with `ModelCheckpoint`, which lets you continually save the model during training (and, optionally, save only the current best model so far: the version of the model that achieved the best performance at the end of an epoch)"
      ]
    },
    {
      "metadata": {
        "id": "QQl57IvlvCrr",
        "colab_type": "text"
      },
      "cell_type": "markdown",
      "source": [
        "```Python\n",
        "\n",
        "import keras\n",
        "\n",
        "# Callbacks are passed to the model via the callbacks argument in fit, \n",
        "# which takes a list of callbacks. You can pass any number of callbacks.\n",
        "callbacks_list = [\n",
        "    # Interrupts training when improvement stops\n",
        "    keras.callbacks.EarlyStopping(\n",
        "        # Monitors the model’s validation accuracy\n",
        "        monitor='val_acc',\n",
        "        # Interrupts training when accuracy has stopped \n",
        "        # improving for more than one epoch (that is, two epochs)\n",
        "        patience=1,\n",
        "    ),\n",
        "    # Saves the current weights after every epoch\n",
        "    keras.callbacks.ModelCheckpoint(\n",
        "        # Path to the destination model file\n",
        "        filepath='my_model_callback.h5',\n",
        "        # These two arguments mean you won’t overwrite the model file \n",
        "        # unless val_loss has improved, \n",
        "        monitor='val_loss',\n",
        "        # which allows you to keep the best model seen during training\n",
        "        save_best_only=True,\n",
        "    )\n",
        "]\n",
        "\n",
        "# You monitor accuracy, so it should be part of the model’s metrics.\n",
        "model.compile(optimizer='rmsprop',\n",
        "              loss='binary_crossentropy', \n",
        "              metrics=['acc'])\n",
        "\n",
        "# Note that because the callback will monitor validation loss and validation accuracy,\n",
        "# you need to pass validation_data to the call to fit.\n",
        "model.fit(x, y,\n",
        "          epochs=10,\n",
        "          batch_size=32,\n",
        "          callbacks=callbacks_list,\n",
        "          validation_data=(x_val, y_val)\n",
        "         )\n",
        "```"
      ]
    },
    {
      "metadata": {
        "id": "bKIknm9rvCrs",
        "colab_type": "text"
      },
      "cell_type": "markdown",
      "source": [
        "### Train a CNN model using the Functional API and the MNIST data\n",
        "### with EarlyStopping and ModelCheckpoint callbacks\n",
        "\n",
        "Inspired by: \n",
        "https://github.com/keras-team/keras/blob/master/examples/mnist_cnn.py"
      ]
    },
    {
      "metadata": {
        "id": "0f7t6LeGvCrv",
        "colab_type": "code",
        "outputId": "9c1be191-e2a2-43b8-901e-dcb50afada2d",
        "colab": {
          "base_uri": "https://localhost:8080/",
          "height": 104
        }
      },
      "cell_type": "code",
      "source": [
        "'''Trains a simple convnet on the MNIST dataset.\n",
        "Gets to 99.25% test accuracy after 12 epochs\n",
        "(there is still a lot of margin for parameter tuning).\n",
        "16 seconds per epoch on a GRID K520 GPU.\n",
        "'''\n",
        "\n",
        "from __future__ import print_function\n",
        "import keras\n",
        "from keras.datasets import mnist\n",
        "from keras.models import Sequential\n",
        "from keras import layers\n",
        "from keras.layers import Dense, Dropout, Flatten\n",
        "from keras.layers import Conv2D, MaxPooling2D\n",
        "from keras import backend as K\n",
        "\n",
        "batch_size = 128\n",
        "num_classes = 10\n",
        "epochs = 12\n",
        "\n",
        "# input image dimensions\n",
        "img_rows, img_cols = 28, 28\n",
        "\n",
        "# the data, split between train and test sets\n",
        "(x_train, y_train), (x_test, y_test) = mnist.load_data()\n",
        "\n",
        "if K.image_data_format() == 'channels_first':\n",
        "    x_train = x_train.reshape(x_train.shape[0], 1, img_rows, img_cols)\n",
        "    x_test = x_test.reshape(x_test.shape[0], 1, img_rows, img_cols)\n",
        "    input_shape = (1, img_rows, img_cols)\n",
        "else:\n",
        "    x_train = x_train.reshape(x_train.shape[0], img_rows, img_cols, 1)\n",
        "    x_test = x_test.reshape(x_test.shape[0], img_rows, img_cols, 1)\n",
        "    input_shape = (img_rows, img_cols, 1)\n",
        "\n",
        "x_train = x_train.astype('float32')\n",
        "x_test = x_test.astype('float32')\n",
        "x_train /= 255\n",
        "x_test /= 255\n",
        "print('x_train shape:', x_train.shape)\n",
        "print(x_train.shape[0], 'train samples')\n",
        "print(x_test.shape[0], 'test samples')\n",
        "\n",
        "# convert class vectors to binary class matrices\n",
        "y_train = keras.utils.to_categorical(y_train, num_classes)\n",
        "y_test = keras.utils.to_categorical(y_test, num_classes)\n",
        "\n",
        "def cnn_layers(inputs):\n",
        "    x = layers.Conv2D(32, (3, 3),\n",
        "                      activation='relu', padding='valid')(inputs)\n",
        "    x = layers.MaxPooling2D(pool_size=(2, 2))(x)\n",
        "    x = layers.Conv2D(64, (3, 3), activation='relu')(x)\n",
        "    x = layers.MaxPooling2D(pool_size=(2, 2))(x)\n",
        "    x = layers.Flatten()(x)\n",
        "    x = layers.Dense(512, activation='relu')(x)\n",
        "    x = layers.Dropout(0.5)(x)\n",
        "    predictions = layers.Dense(num_classes,\n",
        "                               activation='softmax',\n",
        "                               name='x_train_out')(x)\n",
        "    return predictions\n",
        "\n",
        "model_input = layers.Input(shape=(28, 28, 1), dtype='float32', name='images')\n",
        "model_output = cnn_layers(model_input)\n",
        "model = keras.models.Model(inputs=model_input, outputs=model_output)\n",
        "\n",
        "model.compile(loss=keras.losses.categorical_crossentropy,\n",
        "              optimizer=keras.optimizers.Adadelta(),\n",
        "              metrics=['accuracy'])"
      ],
      "execution_count": 0,
      "outputs": [
        {
          "output_type": "stream",
          "text": [
            "Downloading data from https://s3.amazonaws.com/img-datasets/mnist.npz\n",
            "11493376/11490434 [==============================] - 1s 0us/step\n",
            "x_train shape: (60000, 28, 28, 1)\n",
            "60000 train samples\n",
            "10000 test samples\n"
          ],
          "name": "stdout"
        }
      ]
    },
    {
      "metadata": {
        "id": "FmRWzHWPvCr5",
        "colab_type": "code",
        "outputId": "05cb43bc-c604-4173-fc26-247ad743c69a",
        "colab": {
          "base_uri": "https://localhost:8080/",
          "height": 1293
        }
      },
      "cell_type": "code",
      "source": [
        "model.summary()\n",
        "\n",
        "from IPython.display import SVG\n",
        "from keras.utils.vis_utils import model_to_dot\n",
        "\n",
        "SVG(model_to_dot(model).create(prog='dot', format='svg'))"
      ],
      "execution_count": 0,
      "outputs": [
        {
          "output_type": "stream",
          "text": [
            "_________________________________________________________________\n",
            "Layer (type)                 Output Shape              Param #   \n",
            "=================================================================\n",
            "images (InputLayer)          (None, 28, 28, 1)         0         \n",
            "_________________________________________________________________\n",
            "conv2d_1 (Conv2D)            (None, 26, 26, 32)        320       \n",
            "_________________________________________________________________\n",
            "max_pooling2d_1 (MaxPooling2 (None, 13, 13, 32)        0         \n",
            "_________________________________________________________________\n",
            "conv2d_2 (Conv2D)            (None, 11, 11, 64)        18496     \n",
            "_________________________________________________________________\n",
            "max_pooling2d_2 (MaxPooling2 (None, 5, 5, 64)          0         \n",
            "_________________________________________________________________\n",
            "flatten_1 (Flatten)          (None, 1600)              0         \n",
            "_________________________________________________________________\n",
            "dense_1 (Dense)              (None, 512)               819712    \n",
            "_________________________________________________________________\n",
            "dropout_1 (Dropout)          (None, 512)               0         \n",
            "_________________________________________________________________\n",
            "x_train_out (Dense)          (None, 10)                5130      \n",
            "=================================================================\n",
            "Total params: 843,658\n",
            "Trainable params: 843,658\n",
            "Non-trainable params: 0\n",
            "_________________________________________________________________\n"
          ],
          "name": "stdout"
        },
        {
          "output_type": "execute_result",
          "data": {
            "text/plain": [
              "<IPython.core.display.SVG object>"
            ],
            "image/svg+xml": "<svg height=\"629pt\" viewBox=\"0.00 0.00 229.00 629.00\" width=\"229pt\" xmlns=\"http://www.w3.org/2000/svg\" xmlns:xlink=\"http://www.w3.org/1999/xlink\">\n<g class=\"graph\" id=\"graph0\" transform=\"scale(1 1) rotate(0) translate(4 625)\">\n<title>G</title>\n<polygon fill=\"#ffffff\" points=\"-4,4 -4,-625 225,-625 225,4 -4,4\" stroke=\"transparent\"/>\n<!-- 140397339618440 -->\n<g class=\"node\" id=\"node1\">\n<title>140397339618440</title>\n<polygon fill=\"none\" points=\"46.5,-584.5 46.5,-620.5 174.5,-620.5 174.5,-584.5 46.5,-584.5\" stroke=\"#000000\"/>\n<text fill=\"#000000\" font-family=\"Times,serif\" font-size=\"14.00\" text-anchor=\"middle\" x=\"110.5\" y=\"-598.8\">images: InputLayer</text>\n</g>\n<!-- 140397339616424 -->\n<g class=\"node\" id=\"node2\">\n<title>140397339616424</title>\n<polygon fill=\"none\" points=\"44,-511.5 44,-547.5 177,-547.5 177,-511.5 44,-511.5\" stroke=\"#000000\"/>\n<text fill=\"#000000\" font-family=\"Times,serif\" font-size=\"14.00\" text-anchor=\"middle\" x=\"110.5\" y=\"-525.8\">conv2d_1: Conv2D</text>\n</g>\n<!-- 140397339618440&#45;&gt;140397339616424 -->\n<g class=\"edge\" id=\"edge1\">\n<title>140397339618440-&gt;140397339616424</title>\n<path d=\"M110.5,-584.4551C110.5,-576.3828 110.5,-566.6764 110.5,-557.6817\" fill=\"none\" stroke=\"#000000\"/>\n<polygon fill=\"#000000\" points=\"114.0001,-557.5903 110.5,-547.5904 107.0001,-557.5904 114.0001,-557.5903\" stroke=\"#000000\"/>\n</g>\n<!-- 140397339617880 -->\n<g class=\"node\" id=\"node3\">\n<title>140397339617880</title>\n<polygon fill=\"none\" points=\"0,-438.5 0,-474.5 221,-474.5 221,-438.5 0,-438.5\" stroke=\"#000000\"/>\n<text fill=\"#000000\" font-family=\"Times,serif\" font-size=\"14.00\" text-anchor=\"middle\" x=\"110.5\" y=\"-452.8\">max_pooling2d_1: MaxPooling2D</text>\n</g>\n<!-- 140397339616424&#45;&gt;140397339617880 -->\n<g class=\"edge\" id=\"edge2\">\n<title>140397339616424-&gt;140397339617880</title>\n<path d=\"M110.5,-511.4551C110.5,-503.3828 110.5,-493.6764 110.5,-484.6817\" fill=\"none\" stroke=\"#000000\"/>\n<polygon fill=\"#000000\" points=\"114.0001,-484.5903 110.5,-474.5904 107.0001,-484.5904 114.0001,-484.5903\" stroke=\"#000000\"/>\n</g>\n<!-- 140397339618776 -->\n<g class=\"node\" id=\"node4\">\n<title>140397339618776</title>\n<polygon fill=\"none\" points=\"44,-365.5 44,-401.5 177,-401.5 177,-365.5 44,-365.5\" stroke=\"#000000\"/>\n<text fill=\"#000000\" font-family=\"Times,serif\" font-size=\"14.00\" text-anchor=\"middle\" x=\"110.5\" y=\"-379.8\">conv2d_2: Conv2D</text>\n</g>\n<!-- 140397339617880&#45;&gt;140397339618776 -->\n<g class=\"edge\" id=\"edge3\">\n<title>140397339617880-&gt;140397339618776</title>\n<path d=\"M110.5,-438.4551C110.5,-430.3828 110.5,-420.6764 110.5,-411.6817\" fill=\"none\" stroke=\"#000000\"/>\n<polygon fill=\"#000000\" points=\"114.0001,-411.5903 110.5,-401.5904 107.0001,-411.5904 114.0001,-411.5903\" stroke=\"#000000\"/>\n</g>\n<!-- 140397234210576 -->\n<g class=\"node\" id=\"node5\">\n<title>140397234210576</title>\n<polygon fill=\"none\" points=\"0,-292.5 0,-328.5 221,-328.5 221,-292.5 0,-292.5\" stroke=\"#000000\"/>\n<text fill=\"#000000\" font-family=\"Times,serif\" font-size=\"14.00\" text-anchor=\"middle\" x=\"110.5\" y=\"-306.8\">max_pooling2d_2: MaxPooling2D</text>\n</g>\n<!-- 140397339618776&#45;&gt;140397234210576 -->\n<g class=\"edge\" id=\"edge4\">\n<title>140397339618776-&gt;140397234210576</title>\n<path d=\"M110.5,-365.4551C110.5,-357.3828 110.5,-347.6764 110.5,-338.6817\" fill=\"none\" stroke=\"#000000\"/>\n<polygon fill=\"#000000\" points=\"114.0001,-338.5903 110.5,-328.5904 107.0001,-338.5904 114.0001,-338.5903\" stroke=\"#000000\"/>\n</g>\n<!-- 140397234211304 -->\n<g class=\"node\" id=\"node6\">\n<title>140397234211304</title>\n<polygon fill=\"none\" points=\"54,-219.5 54,-255.5 167,-255.5 167,-219.5 54,-219.5\" stroke=\"#000000\"/>\n<text fill=\"#000000\" font-family=\"Times,serif\" font-size=\"14.00\" text-anchor=\"middle\" x=\"110.5\" y=\"-233.8\">flatten_1: Flatten</text>\n</g>\n<!-- 140397234210576&#45;&gt;140397234211304 -->\n<g class=\"edge\" id=\"edge5\">\n<title>140397234210576-&gt;140397234211304</title>\n<path d=\"M110.5,-292.4551C110.5,-284.3828 110.5,-274.6764 110.5,-265.6817\" fill=\"none\" stroke=\"#000000\"/>\n<polygon fill=\"#000000\" points=\"114.0001,-265.5903 110.5,-255.5904 107.0001,-265.5904 114.0001,-265.5903\" stroke=\"#000000\"/>\n</g>\n<!-- 140397234329528 -->\n<g class=\"node\" id=\"node7\">\n<title>140397234329528</title>\n<polygon fill=\"none\" points=\"57,-146.5 57,-182.5 164,-182.5 164,-146.5 57,-146.5\" stroke=\"#000000\"/>\n<text fill=\"#000000\" font-family=\"Times,serif\" font-size=\"14.00\" text-anchor=\"middle\" x=\"110.5\" y=\"-160.8\">dense_1: Dense</text>\n</g>\n<!-- 140397234211304&#45;&gt;140397234329528 -->\n<g class=\"edge\" id=\"edge6\">\n<title>140397234211304-&gt;140397234329528</title>\n<path d=\"M110.5,-219.4551C110.5,-211.3828 110.5,-201.6764 110.5,-192.6817\" fill=\"none\" stroke=\"#000000\"/>\n<polygon fill=\"#000000\" points=\"114.0001,-192.5903 110.5,-182.5904 107.0001,-192.5904 114.0001,-192.5903\" stroke=\"#000000\"/>\n</g>\n<!-- 140397233919480 -->\n<g class=\"node\" id=\"node8\">\n<title>140397233919480</title>\n<polygon fill=\"none\" points=\"43.5,-73.5 43.5,-109.5 177.5,-109.5 177.5,-73.5 43.5,-73.5\" stroke=\"#000000\"/>\n<text fill=\"#000000\" font-family=\"Times,serif\" font-size=\"14.00\" text-anchor=\"middle\" x=\"110.5\" y=\"-87.8\">dropout_1: Dropout</text>\n</g>\n<!-- 140397234329528&#45;&gt;140397233919480 -->\n<g class=\"edge\" id=\"edge7\">\n<title>140397234329528-&gt;140397233919480</title>\n<path d=\"M110.5,-146.4551C110.5,-138.3828 110.5,-128.6764 110.5,-119.6817\" fill=\"none\" stroke=\"#000000\"/>\n<polygon fill=\"#000000\" points=\"114.0001,-119.5903 110.5,-109.5904 107.0001,-119.5904 114.0001,-119.5903\" stroke=\"#000000\"/>\n</g>\n<!-- 140397233919760 -->\n<g class=\"node\" id=\"node9\">\n<title>140397233919760</title>\n<polygon fill=\"none\" points=\"47.5,-.5 47.5,-36.5 173.5,-36.5 173.5,-.5 47.5,-.5\" stroke=\"#000000\"/>\n<text fill=\"#000000\" font-family=\"Times,serif\" font-size=\"14.00\" text-anchor=\"middle\" x=\"110.5\" y=\"-14.8\">x_train_out: Dense</text>\n</g>\n<!-- 140397233919480&#45;&gt;140397233919760 -->\n<g class=\"edge\" id=\"edge8\">\n<title>140397233919480-&gt;140397233919760</title>\n<path d=\"M110.5,-73.4551C110.5,-65.3828 110.5,-55.6764 110.5,-46.6817\" fill=\"none\" stroke=\"#000000\"/>\n<polygon fill=\"#000000\" points=\"114.0001,-46.5903 110.5,-36.5904 107.0001,-46.5904 114.0001,-46.5903\" stroke=\"#000000\"/>\n</g>\n</g>\n</svg>"
          },
          "metadata": {
            "tags": []
          },
          "execution_count": 3
        }
      ]
    },
    {
      "metadata": {
        "id": "pufcBwRWvCsD",
        "colab_type": "text"
      },
      "cell_type": "markdown",
      "source": [
        "#### Training the model"
      ]
    },
    {
      "metadata": {
        "id": "XfXxwJpIvCsF",
        "colab_type": "code",
        "outputId": "220c920e-b7c2-4d48-c854-e915a4dc9395",
        "colab": {
          "base_uri": "https://localhost:8080/",
          "height": 173
        }
      },
      "cell_type": "code",
      "source": [
        "# Callbacks are passed to the model via the callbacks argument in fit, \n",
        "# which takes a list of callbacks. You can pass any number of callbacks.\n",
        "callbacks_list = [\n",
        "    # Interrupts training when improvement stops\n",
        "    keras.callbacks.EarlyStopping(\n",
        "        # Monitors the model’s validation accuracy\n",
        "        monitor='val_acc',\n",
        "        # Interrupts training when accuracy has stopped \n",
        "        # improving for more than one epoch (that is, two epochs)\n",
        "        patience=1,\n",
        "    ),\n",
        "    # Saves the current weights after every epoch\n",
        "    keras.callbacks.ModelCheckpoint(\n",
        "        # Path to the destination model file\n",
        "        filepath='my_model_callback.h5',\n",
        "        # These two arguments mean you won’t overwrite the model file \n",
        "        # unless val_loss has improved, \n",
        "        monitor='val_loss',\n",
        "        # which allows you to keep the best model seen during training\n",
        "        save_best_only=True,\n",
        "    )\n",
        "]\n",
        "\n",
        "history = model.fit(x_train, y_train,\n",
        "                    batch_size=batch_size,\n",
        "                    epochs=epochs,\n",
        "                    verbose=1,\n",
        "                    callbacks=callbacks_list,\n",
        "                    # C.COULOMBE, in order to keep a test dataset\n",
        "                    # just create a validation dataset by splitting\n",
        "                    # the training dataset\n",
        "                    validation_split=0.2\n",
        "#                     validation_data=(x_test, y_test)\n",
        "                   )"
      ],
      "execution_count": 0,
      "outputs": [
        {
          "output_type": "stream",
          "text": [
            "Train on 48000 samples, validate on 12000 samples\n",
            "Epoch 1/12\n",
            "48000/48000 [==============================] - 8s 170us/step - loss: 0.2664 - acc: 0.9168 - val_loss: 0.0859 - val_acc: 0.9728\n",
            "Epoch 2/12\n",
            "48000/48000 [==============================] - 5s 107us/step - loss: 0.0779 - acc: 0.9757 - val_loss: 0.0519 - val_acc: 0.9852\n",
            "Epoch 3/12\n",
            "48000/48000 [==============================] - 5s 105us/step - loss: 0.0540 - acc: 0.9829 - val_loss: 0.0418 - val_acc: 0.9879\n",
            "Epoch 4/12\n",
            "48000/48000 [==============================] - 5s 104us/step - loss: 0.0436 - acc: 0.9871 - val_loss: 0.0408 - val_acc: 0.9879\n"
          ],
          "name": "stdout"
        }
      ]
    },
    {
      "metadata": {
        "id": "1WevHvzIvCsM",
        "colab_type": "code",
        "outputId": "fa1e1aaa-5f0e-4d55-fe20-6da6c808351e",
        "colab": {
          "base_uri": "https://localhost:8080/",
          "height": 897
        }
      },
      "cell_type": "code",
      "source": [
        "import matplotlib.pyplot as plt\n",
        "\n",
        "# acc = history.history['acc']\n",
        "# val_acc = history.history['val_acc']\n",
        "# loss = history.history['loss']\n",
        "# val_loss = history.history['val_loss']\n",
        "\n",
        "acc = history.history['acc'][1:]\n",
        "val_acc = history.history['val_acc'][1:]\n",
        "loss = history.history['loss'][1:]\n",
        "val_loss = history.history['val_loss'][1:]\n",
        "\n",
        "# epochs = range(len(acc))\n",
        "epochs = range(1,len(acc)+1)\n",
        "\n",
        "plt.figure(figsize=(10,7))\n",
        "\n",
        "plt.plot(epochs, acc, 'bo', label='Training acc')\n",
        "plt.plot(epochs, val_acc, 'b', label='Validation acc')\n",
        "plt.title('Training and validation accuracy')\n",
        "plt.xlabel('Epochs')\n",
        "plt.ylabel('Accuracy')\n",
        "plt.legend()\n",
        "\n",
        "plt.figure(figsize=(10,7))\n",
        "\n",
        "plt.plot(epochs, loss, 'bo', label='Training loss')\n",
        "plt.plot(epochs, val_loss, 'b', label='Validation loss')\n",
        "plt.title('Training and validation loss')\n",
        "plt.xlabel('Epochs')\n",
        "plt.ylabel('Loss')\n",
        "plt.legend()\n",
        "\n",
        "plt.show()"
      ],
      "execution_count": 0,
      "outputs": [
        {
          "output_type": "display_data",
          "data": {
            "image/png": "[encoded data removed]",
            "text/plain": [
              "<matplotlib.figure.Figure at 0x7fb0c669f828>"
            ]
          },
          "metadata": {
            "tags": []
          }
        },
        {
          "output_type": "display_data",
          "data": {
            "image/png": "[encoded data removed]",
            "text/plain": [
              "<matplotlib.figure.Figure at 0x7fb0c66a8a58>"
            ]
          },
          "metadata": {
            "tags": []
          }
        }
      ]
    },
    {
      "metadata": {
        "id": "YcecS39JvCsT",
        "colab_type": "code",
        "outputId": "3bce65e4-4e4b-4ae8-83de-a60214594d65",
        "colab": {
          "base_uri": "https://localhost:8080/",
          "height": 51
        }
      },
      "cell_type": "code",
      "source": [
        "score = model.evaluate(x_test, y_test, verbose=0)\n",
        "print('Test loss:', score[0])\n",
        "print('Test accuracy:', score[1])"
      ],
      "execution_count": 0,
      "outputs": [
        {
          "output_type": "stream",
          "text": [
            "Test loss: 0.031877049914028614\n",
            "Test accuracy: 0.9893\n"
          ],
          "name": "stdout"
        }
      ]
    },
    {
      "metadata": {
        "id": "tgOjOZwmvCsY",
        "colab_type": "text"
      },
      "cell_type": "markdown",
      "source": [
        "### The ReduceLROnPlateau callback\n",
        "\n",
        "You can use this callback to reduce the learning rate when the validation loss has stopped improving. Reducing or increasing the learning rate in case of a loss plateau is is an effective strategy to get out of local minima during training. The following example uses the ReduceLROnPlateau callback:\n",
        "\n",
        "```Python\n",
        "callbacks_list = [ \n",
        "    keras.callbacks.ReduceLROnPlateau(\n",
        "        # Monitors the model’s validation loss\n",
        "        monitor='val_loss',\n",
        "        # Divides the learning rate by 10 when triggered\n",
        "        factor=0.1,\n",
        "        # The callback is triggered after the validation loss \n",
        "        # has stopped improving for 10 epochs.\n",
        "        patience=10,\n",
        "    ) \n",
        "] \n",
        "\n",
        "model.fit(x, y,\n",
        "    epochs=10,\n",
        "    batch_size=32,\n",
        "    callbacks=callbacks_list,\n",
        "    validation_data=(x_val, y_val)\n",
        ")  \n",
        "```"
      ]
    },
    {
      "metadata": {
        "id": "JnYaRmjbvCsb",
        "colab_type": "text"
      },
      "cell_type": "markdown",
      "source": [
        "### Train a CNN model using the Functional API and the MNIST data\n",
        "### with ReduceLROnPlateau callback\n",
        "\n",
        "Inspired by: \n",
        "https://github.com/keras-team/keras/blob/master/examples/mnist_cnn.py"
      ]
    },
    {
      "metadata": {
        "id": "RUrmEOYzvCsc",
        "colab_type": "code",
        "outputId": "39dedee1-40e4-4d32-a449-39e3ed235f98",
        "colab": {
          "base_uri": "https://localhost:8080/",
          "height": 72
        }
      },
      "cell_type": "code",
      "source": [
        "'''Trains a simple convnet on the MNIST dataset.\n",
        "Gets to 99.25% test accuracy after 12 epochs\n",
        "(there is still a lot of margin for parameter tuning).\n",
        "16 seconds per epoch on a GRID K520 GPU.\n",
        "'''\n",
        "\n",
        "from __future__ import print_function\n",
        "import keras\n",
        "from keras.datasets import mnist\n",
        "from keras.models import Sequential\n",
        "from keras import layers\n",
        "from keras.layers import Dense, Dropout, Flatten\n",
        "from keras.layers import Conv2D, MaxPooling2D\n",
        "from keras import backend as K\n",
        "\n",
        "batch_size = 128\n",
        "num_classes = 10\n",
        "epochs = 12\n",
        "\n",
        "# input image dimensions\n",
        "img_rows, img_cols = 28, 28\n",
        "\n",
        "# the data, split between train and test sets\n",
        "(x_train, y_train), (x_test, y_test) = mnist.load_data()\n",
        "\n",
        "if K.image_data_format() == 'channels_first':\n",
        "    x_train = x_train.reshape(x_train.shape[0], 1, img_rows, img_cols)\n",
        "    x_test = x_test.reshape(x_test.shape[0], 1, img_rows, img_cols)\n",
        "    input_shape = (1, img_rows, img_cols)\n",
        "else:\n",
        "    x_train = x_train.reshape(x_train.shape[0], img_rows, img_cols, 1)\n",
        "    x_test = x_test.reshape(x_test.shape[0], img_rows, img_cols, 1)\n",
        "    input_shape = (img_rows, img_cols, 1)\n",
        "\n",
        "x_train = x_train.astype('float32')\n",
        "x_test = x_test.astype('float32')\n",
        "x_train /= 255\n",
        "x_test /= 255\n",
        "print('x_train shape:', x_train.shape)\n",
        "print(x_train.shape[0], 'train samples')\n",
        "print(x_test.shape[0], 'test samples')\n",
        "\n",
        "# convert class vectors to binary class matrices\n",
        "y_train = keras.utils.to_categorical(y_train, num_classes)\n",
        "y_test = keras.utils.to_categorical(y_test, num_classes)\n",
        "\n",
        "def cnn_layers(inputs):\n",
        "    x = layers.Conv2D(32, (3, 3),\n",
        "                      activation='relu', padding='valid')(inputs)\n",
        "    x = layers.MaxPooling2D(pool_size=(2, 2))(x)\n",
        "    x = layers.Conv2D(64, (3, 3), activation='relu')(x)\n",
        "    x = layers.MaxPooling2D(pool_size=(2, 2))(x)\n",
        "    x = layers.Flatten()(x)\n",
        "    x = layers.Dense(512, activation='relu')(x)\n",
        "    x = layers.Dropout(0.5)(x)\n",
        "    predictions = layers.Dense(num_classes,\n",
        "                               activation='softmax',\n",
        "                               name='x_train_out')(x)\n",
        "    return predictions\n",
        "\n",
        "def get_lr_metric(optimizer):\n",
        "    def lr(y_true, y_pred):\n",
        "        return optimizer.lr\n",
        "    return lr\n",
        "optimizer = keras.optimizers.Adadelta()\n",
        "lr_metric = get_lr_metric(optimizer)\n",
        "model_input = layers.Input(shape=(28, 28, 1), dtype='float32', name='images')\n",
        "model_output = cnn_layers(model_input)\n",
        "model = keras.models.Model(inputs=model_input, outputs=model_output)\n",
        "\n",
        "model.compile(loss=keras.losses.categorical_crossentropy,\n",
        "              optimizer=optimizer,\n",
        "              metrics=['accuracy',lr_metric])"
      ],
      "execution_count": 0,
      "outputs": [
        {
          "output_type": "stream",
          "text": [
            "x_train shape: (60000, 28, 28, 1)\n",
            "60000 train samples\n",
            "10000 test samples\n"
          ],
          "name": "stdout"
        }
      ]
    },
    {
      "metadata": {
        "id": "psDCyUVwvCsg",
        "colab_type": "code",
        "outputId": "add52be3-63f5-4004-c3f6-be176543424a",
        "colab": {
          "base_uri": "https://localhost:8080/",
          "height": 1285
        }
      },
      "cell_type": "code",
      "source": [
        "model.summary()\n",
        "\n",
        "from IPython.display import SVG\n",
        "from keras.utils.vis_utils import model_to_dot\n",
        "\n",
        "SVG(model_to_dot(model).create(prog='dot', format='svg'))"
      ],
      "execution_count": 0,
      "outputs": [
        {
          "output_type": "stream",
          "text": [
            "_________________________________________________________________\n",
            "Layer (type)                 Output Shape              Param #   \n",
            "=================================================================\n",
            "images (InputLayer)          (None, 28, 28, 1)         0         \n",
            "_________________________________________________________________\n",
            "conv2d_5 (Conv2D)            (None, 26, 26, 32)        320       \n",
            "_________________________________________________________________\n",
            "max_pooling2d_5 (MaxPooling2 (None, 13, 13, 32)        0         \n",
            "_________________________________________________________________\n",
            "conv2d_6 (Conv2D)            (None, 11, 11, 64)        18496     \n",
            "_________________________________________________________________\n",
            "max_pooling2d_6 (MaxPooling2 (None, 5, 5, 64)          0         \n",
            "_________________________________________________________________\n",
            "flatten_3 (Flatten)          (None, 1600)              0         \n",
            "_________________________________________________________________\n",
            "dense_3 (Dense)              (None, 512)               819712    \n",
            "_________________________________________________________________\n",
            "dropout_3 (Dropout)          (None, 512)               0         \n",
            "_________________________________________________________________\n",
            "x_train_out (Dense)          (None, 10)                5130      \n",
            "=================================================================\n",
            "Total params: 843,658\n",
            "Trainable params: 843,658\n",
            "Non-trainable params: 0\n",
            "_________________________________________________________________\n"
          ],
          "name": "stdout"
        },
        {
          "output_type": "execute_result",
          "data": {
            "text/plain": [
              "<IPython.core.display.SVG object>"
            ],
            "image/svg+xml": "<svg height=\"629pt\" viewBox=\"0.00 0.00 229.00 629.00\" width=\"229pt\" xmlns=\"http://www.w3.org/2000/svg\" xmlns:xlink=\"http://www.w3.org/1999/xlink\">\n<g class=\"graph\" id=\"graph0\" transform=\"scale(1 1) rotate(0) translate(4 625)\">\n<title>G</title>\n<polygon fill=\"#ffffff\" points=\"-4,4 -4,-625 225,-625 225,4 -4,4\" stroke=\"transparent\"/>\n<!-- 140397179234008 -->\n<g class=\"node\" id=\"node1\">\n<title>140397179234008</title>\n<polygon fill=\"none\" points=\"46.5,-584.5 46.5,-620.5 174.5,-620.5 174.5,-584.5 46.5,-584.5\" stroke=\"#000000\"/>\n<text fill=\"#000000\" font-family=\"Times,serif\" font-size=\"14.00\" text-anchor=\"middle\" x=\"110.5\" y=\"-598.8\">images: InputLayer</text>\n</g>\n<!-- 140397219354496 -->\n<g class=\"node\" id=\"node2\">\n<title>140397219354496</title>\n<polygon fill=\"none\" points=\"44,-511.5 44,-547.5 177,-547.5 177,-511.5 44,-511.5\" stroke=\"#000000\"/>\n<text fill=\"#000000\" font-family=\"Times,serif\" font-size=\"14.00\" text-anchor=\"middle\" x=\"110.5\" y=\"-525.8\">conv2d_5: Conv2D</text>\n</g>\n<!-- 140397179234008&#45;&gt;140397219354496 -->\n<g class=\"edge\" id=\"edge1\">\n<title>140397179234008-&gt;140397219354496</title>\n<path d=\"M110.5,-584.4551C110.5,-576.3828 110.5,-566.6764 110.5,-557.6817\" fill=\"none\" stroke=\"#000000\"/>\n<polygon fill=\"#000000\" points=\"114.0001,-557.5903 110.5,-547.5904 107.0001,-557.5904 114.0001,-557.5903\" stroke=\"#000000\"/>\n</g>\n<!-- 140397179233784 -->\n<g class=\"node\" id=\"node3\">\n<title>140397179233784</title>\n<polygon fill=\"none\" points=\"0,-438.5 0,-474.5 221,-474.5 221,-438.5 0,-438.5\" stroke=\"#000000\"/>\n<text fill=\"#000000\" font-family=\"Times,serif\" font-size=\"14.00\" text-anchor=\"middle\" x=\"110.5\" y=\"-452.8\">max_pooling2d_5: MaxPooling2D</text>\n</g>\n<!-- 140397219354496&#45;&gt;140397179233784 -->\n<g class=\"edge\" id=\"edge2\">\n<title>140397219354496-&gt;140397179233784</title>\n<path d=\"M110.5,-511.4551C110.5,-503.3828 110.5,-493.6764 110.5,-484.6817\" fill=\"none\" stroke=\"#000000\"/>\n<polygon fill=\"#000000\" points=\"114.0001,-484.5903 110.5,-474.5904 107.0001,-484.5904 114.0001,-484.5903\" stroke=\"#000000\"/>\n</g>\n<!-- 140397179234232 -->\n<g class=\"node\" id=\"node4\">\n<title>140397179234232</title>\n<polygon fill=\"none\" points=\"44,-365.5 44,-401.5 177,-401.5 177,-365.5 44,-365.5\" stroke=\"#000000\"/>\n<text fill=\"#000000\" font-family=\"Times,serif\" font-size=\"14.00\" text-anchor=\"middle\" x=\"110.5\" y=\"-379.8\">conv2d_6: Conv2D</text>\n</g>\n<!-- 140397179233784&#45;&gt;140397179234232 -->\n<g class=\"edge\" id=\"edge3\">\n<title>140397179233784-&gt;140397179234232</title>\n<path d=\"M110.5,-438.4551C110.5,-430.3828 110.5,-420.6764 110.5,-411.6817\" fill=\"none\" stroke=\"#000000\"/>\n<polygon fill=\"#000000\" points=\"114.0001,-411.5903 110.5,-401.5904 107.0001,-411.5904 114.0001,-411.5903\" stroke=\"#000000\"/>\n</g>\n<!-- 140397179405648 -->\n<g class=\"node\" id=\"node5\">\n<title>140397179405648</title>\n<polygon fill=\"none\" points=\"0,-292.5 0,-328.5 221,-328.5 221,-292.5 0,-292.5\" stroke=\"#000000\"/>\n<text fill=\"#000000\" font-family=\"Times,serif\" font-size=\"14.00\" text-anchor=\"middle\" x=\"110.5\" y=\"-306.8\">max_pooling2d_6: MaxPooling2D</text>\n</g>\n<!-- 140397179234232&#45;&gt;140397179405648 -->\n<g class=\"edge\" id=\"edge4\">\n<title>140397179234232-&gt;140397179405648</title>\n<path d=\"M110.5,-365.4551C110.5,-357.3828 110.5,-347.6764 110.5,-338.6817\" fill=\"none\" stroke=\"#000000\"/>\n<polygon fill=\"#000000\" points=\"114.0001,-338.5903 110.5,-328.5904 107.0001,-338.5904 114.0001,-338.5903\" stroke=\"#000000\"/>\n</g>\n<!-- 140397179408168 -->\n<g class=\"node\" id=\"node6\">\n<title>140397179408168</title>\n<polygon fill=\"none\" points=\"54,-219.5 54,-255.5 167,-255.5 167,-219.5 54,-219.5\" stroke=\"#000000\"/>\n<text fill=\"#000000\" font-family=\"Times,serif\" font-size=\"14.00\" text-anchor=\"middle\" x=\"110.5\" y=\"-233.8\">flatten_3: Flatten</text>\n</g>\n<!-- 140397179405648&#45;&gt;140397179408168 -->\n<g class=\"edge\" id=\"edge5\">\n<title>140397179405648-&gt;140397179408168</title>\n<path d=\"M110.5,-292.4551C110.5,-284.3828 110.5,-274.6764 110.5,-265.6817\" fill=\"none\" stroke=\"#000000\"/>\n<polygon fill=\"#000000\" points=\"114.0001,-265.5903 110.5,-255.5904 107.0001,-265.5904 114.0001,-265.5903\" stroke=\"#000000\"/>\n</g>\n<!-- 140397179494640 -->\n<g class=\"node\" id=\"node7\">\n<title>140397179494640</title>\n<polygon fill=\"none\" points=\"57,-146.5 57,-182.5 164,-182.5 164,-146.5 57,-146.5\" stroke=\"#000000\"/>\n<text fill=\"#000000\" font-family=\"Times,serif\" font-size=\"14.00\" text-anchor=\"middle\" x=\"110.5\" y=\"-160.8\">dense_3: Dense</text>\n</g>\n<!-- 140397179408168&#45;&gt;140397179494640 -->\n<g class=\"edge\" id=\"edge6\">\n<title>140397179408168-&gt;140397179494640</title>\n<path d=\"M110.5,-219.4551C110.5,-211.3828 110.5,-201.6764 110.5,-192.6817\" fill=\"none\" stroke=\"#000000\"/>\n<polygon fill=\"#000000\" points=\"114.0001,-192.5903 110.5,-182.5904 107.0001,-192.5904 114.0001,-192.5903\" stroke=\"#000000\"/>\n</g>\n<!-- 140397178920520 -->\n<g class=\"node\" id=\"node8\">\n<title>140397178920520</title>\n<polygon fill=\"none\" points=\"43.5,-73.5 43.5,-109.5 177.5,-109.5 177.5,-73.5 43.5,-73.5\" stroke=\"#000000\"/>\n<text fill=\"#000000\" font-family=\"Times,serif\" font-size=\"14.00\" text-anchor=\"middle\" x=\"110.5\" y=\"-87.8\">dropout_3: Dropout</text>\n</g>\n<!-- 140397179494640&#45;&gt;140397178920520 -->\n<g class=\"edge\" id=\"edge7\">\n<title>140397179494640-&gt;140397178920520</title>\n<path d=\"M110.5,-146.4551C110.5,-138.3828 110.5,-128.6764 110.5,-119.6817\" fill=\"none\" stroke=\"#000000\"/>\n<polygon fill=\"#000000\" points=\"114.0001,-119.5903 110.5,-109.5904 107.0001,-119.5904 114.0001,-119.5903\" stroke=\"#000000\"/>\n</g>\n<!-- 140397178919680 -->\n<g class=\"node\" id=\"node9\">\n<title>140397178919680</title>\n<polygon fill=\"none\" points=\"47.5,-.5 47.5,-36.5 173.5,-36.5 173.5,-.5 47.5,-.5\" stroke=\"#000000\"/>\n<text fill=\"#000000\" font-family=\"Times,serif\" font-size=\"14.00\" text-anchor=\"middle\" x=\"110.5\" y=\"-14.8\">x_train_out: Dense</text>\n</g>\n<!-- 140397178920520&#45;&gt;140397178919680 -->\n<g class=\"edge\" id=\"edge8\">\n<title>140397178920520-&gt;140397178919680</title>\n<path d=\"M110.5,-73.4551C110.5,-65.3828 110.5,-55.6764 110.5,-46.6817\" fill=\"none\" stroke=\"#000000\"/>\n<polygon fill=\"#000000\" points=\"114.0001,-46.5903 110.5,-36.5904 107.0001,-46.5904 114.0001,-46.5903\" stroke=\"#000000\"/>\n</g>\n</g>\n</svg>"
          },
          "metadata": {
            "tags": []
          },
          "execution_count": 11
        }
      ]
    },
    {
      "metadata": {
        "id": "zFxFe1KlvCsl",
        "colab_type": "text"
      },
      "cell_type": "markdown",
      "source": [
        "#### Training the model"
      ]
    },
    {
      "metadata": {
        "scrolled": true,
        "id": "li174WegvCsl",
        "colab_type": "code",
        "outputId": "ed0d5787-f54d-42b1-978a-a1bb8241dfa2",
        "colab": {
          "base_uri": "https://localhost:8080/",
          "height": 1092
        }
      },
      "cell_type": "code",
      "source": [
        "!pip install tensorboardcolab\n",
        "import numpy\n",
        "from tensorboardcolab import *\n",
        "tbc=TensorBoardColab()\n",
        "class MyCallback(keras.callbacks.Callback):\n",
        "    def on_epoch_end(self, epoch, logs=None):\n",
        "        lr = self.model.optimizer.lr\n",
        "        #decay = self.model.optimizer.decay\n",
        "        iterations = self.model.optimizer.iterations\n",
        "        #lr_with_decay = lr / (1. + decay * K.cast(iterations, K.dtype(decay)))\n",
        "        print('iterations:',K.eval(iterations), \"lr:\", K.eval(lr))\n",
        "\n",
        "# Callbacks are passed to the model via the callbacks argument in fit, \n",
        "# which takes a list of callbacks. You can pass any number of callbacks.\n",
        "callbacks_list = [ \n",
        "    keras.callbacks.ReduceLROnPlateau(\n",
        "        # Monitors the model’s validation loss\n",
        "        monitor='val_loss',\n",
        "        # Divides the learning rate by 10 when triggered\n",
        "        factor=0.1,\n",
        "        # The callback is triggered after the validation loss \n",
        "        # has stopped improving for 1 epochs.\n",
        "        patience=1,\n",
        "        verbose=1,\n",
        "        min_lr= 0.0001\n",
        "    ) ,TensorBoardColabCallback(tbc,histogram_freq=1), MyCallback()\n",
        "    \n",
        "] \n",
        "\n",
        "history = model.fit(x_train, y_train,\n",
        "                    # C.COULOMBE More epochs in order to \n",
        "                    # get more learning rate changes\n",
        "                    epochs=15,\n",
        "                    batch_size=32,\n",
        "                    verbose=1,\n",
        "                    callbacks=callbacks_list,\n",
        "                    # C.COULOMBE, in order to keep a test dataset\n",
        "                    # just create a validation dataset by splitting\n",
        "                    # the training dataset\n",
        "                    validation_split=0.2\n",
        "#                     validation_data=(x_test, y_test)\n",
        "                   )"
      ],
      "execution_count": 0,
      "outputs": [
        {
          "output_type": "stream",
          "text": [
            "Requirement already satisfied: tensorboardcolab in /usr/local/lib/python3.6/dist-packages (0.0.19)\n",
            "Wait for 8 seconds...\n",
            "TensorBoard link:\n",
            "http://c3a65eeb.ngrok.io\n",
            "Train on 48000 samples, validate on 12000 samples\n",
            "Epoch 1/15\n",
            "48000/48000 [==============================] - 17s 358us/step - loss: 0.1631 - acc: 0.9486 - lr: 1.0000 - val_loss: 0.0537 - val_acc: 0.9841 - val_lr: 1.0000\n",
            "iterations: 1500 lr: 1.0\n",
            "Epoch 2/15\n",
            "48000/48000 [==============================] - 16s 337us/step - loss: 0.0565 - acc: 0.9823 - lr: 1.0000 - val_loss: 0.0395 - val_acc: 0.9888 - val_lr: 1.0000\n",
            "iterations: 3000 lr: 1.0\n",
            "Epoch 3/15\n",
            "48000/48000 [==============================] - 16s 337us/step - loss: 0.0403 - acc: 0.9878 - lr: 1.0000 - val_loss: 0.0359 - val_acc: 0.9901 - val_lr: 1.0000\n",
            "iterations: 4500 lr: 1.0\n",
            "Epoch 4/15\n",
            "48000/48000 [==============================] - 16s 337us/step - loss: 0.0311 - acc: 0.9903 - lr: 1.0000 - val_loss: 0.0322 - val_acc: 0.9909 - val_lr: 1.0000\n",
            "iterations: 6000 lr: 1.0\n",
            "Epoch 5/15\n",
            "48000/48000 [==============================] - 16s 338us/step - loss: 0.0256 - acc: 0.9924 - lr: 1.0000 - val_loss: 0.0323 - val_acc: 0.9906 - val_lr: 1.0000\n",
            "\n",
            "Epoch 00005: ReduceLROnPlateau reducing learning rate to 0.1.\n",
            "iterations: 7500 lr: 0.1\n",
            "Epoch 6/15\n",
            "48000/48000 [==============================] - 16s 339us/step - loss: 0.0171 - acc: 0.9948 - lr: 0.1000 - val_loss: 0.0305 - val_acc: 0.9924 - val_lr: 0.1000\n",
            "iterations: 9000 lr: 0.1\n",
            "Epoch 7/15\n",
            "48000/48000 [==============================] - 16s 337us/step - loss: 0.0140 - acc: 0.9958 - lr: 0.1000 - val_loss: 0.0310 - val_acc: 0.9923 - val_lr: 0.1000\n",
            "\n",
            "Epoch 00007: ReduceLROnPlateau reducing learning rate to 0.010000000149011612.\n",
            "iterations: 10500 lr: 0.01\n",
            "Epoch 8/15\n",
            "48000/48000 [==============================] - 16s 334us/step - loss: 0.0142 - acc: 0.9954 - lr: 0.0100 - val_loss: 0.0308 - val_acc: 0.9922 - val_lr: 0.0100\n",
            "\n",
            "Epoch 00008: ReduceLROnPlateau reducing learning rate to 0.0009999999776482583.\n",
            "iterations: 12000 lr: 0.0009999999\n",
            "Epoch 9/15\n",
            "48000/48000 [==============================] - 16s 337us/step - loss: 0.0137 - acc: 0.9956 - lr: 1.0000e-03 - val_loss: 0.0308 - val_acc: 0.9922 - val_lr: 1.0000e-03\n",
            "\n",
            "Epoch 00009: ReduceLROnPlateau reducing learning rate to 0.0001.\n",
            "iterations: 13500 lr: 1e-04\n",
            "Epoch 10/15\n",
            "48000/48000 [==============================] - 16s 330us/step - loss: 0.0132 - acc: 0.9962 - lr: 1.0000e-04 - val_loss: 0.0308 - val_acc: 0.9922 - val_lr: 1.0000e-04\n",
            "iterations: 15000 lr: 1e-04\n",
            "Epoch 11/15\n",
            "48000/48000 [==============================] - 16s 331us/step - loss: 0.0139 - acc: 0.9955 - lr: 1.0000e-04 - val_loss: 0.0308 - val_acc: 0.9922 - val_lr: 1.0000e-04\n",
            "iterations: 16500 lr: 1e-04\n",
            "Epoch 12/15\n",
            "48000/48000 [==============================] - 16s 332us/step - loss: 0.0137 - acc: 0.9958 - lr: 1.0000e-04 - val_loss: 0.0308 - val_acc: 0.9922 - val_lr: 1.0000e-04\n",
            "iterations: 18000 lr: 1e-04\n",
            "Epoch 13/15\n",
            "48000/48000 [==============================] - 16s 335us/step - loss: 0.0139 - acc: 0.9958 - lr: 1.0000e-04 - val_loss: 0.0308 - val_acc: 0.9922 - val_lr: 1.0000e-04\n",
            "iterations: 19500 lr: 1e-04\n",
            "Epoch 14/15\n",
            "48000/48000 [==============================] - 16s 334us/step - loss: 0.0135 - acc: 0.9962 - lr: 1.0000e-04 - val_loss: 0.0308 - val_acc: 0.9922 - val_lr: 1.0000e-04\n",
            "iterations: 21000 lr: 1e-04\n",
            "Epoch 15/15\n",
            "48000/48000 [==============================] - 16s 336us/step - loss: 0.0134 - acc: 0.9960 - lr: 1.0000e-04 - val_loss: 0.0307 - val_acc: 0.9922 - val_lr: 1.0000e-04\n",
            "iterations: 22500 lr: 1e-04\n"
          ],
          "name": "stdout"
        }
      ]
    },
    {
      "metadata": {
        "id": "jznAtu8uvCsq",
        "colab_type": "code",
        "outputId": "953efab9-aa80-4d5c-bc01-e77d32f2bb5b",
        "colab": {
          "base_uri": "https://localhost:8080/",
          "height": 1337
        }
      },
      "cell_type": "code",
      "source": [
        "import matplotlib.pyplot as plt\n",
        "\n",
        "acc = history.history['acc'][1:]\n",
        "val_acc = history.history['val_acc'][1:]\n",
        "loss = history.history['loss'][1:]\n",
        "val_loss = history.history['val_loss'][1:]\n",
        "lr = history.history['lr'][1:]\n",
        "\n",
        "# epochs = range(len(acc))\n",
        "epochs = range(1,len(acc)+1)\n",
        "\n",
        "plt.figure(figsize=(10,7))\n",
        "\n",
        "plt.plot(epochs, acc, 'bo', label='Training acc')\n",
        "plt.plot(epochs, val_acc, 'b', label='Validation acc')\n",
        "plt.title('Training and validation accuracy')\n",
        "plt.xlabel('Epochs')\n",
        "plt.ylabel('Accuracy')\n",
        "plt.legend()\n",
        "\n",
        "plt.figure(figsize=(10,7))\n",
        "\n",
        "plt.plot(epochs, loss, 'bo', label='Training loss')\n",
        "plt.plot(epochs, val_loss, 'b', label='Validation loss')\n",
        "plt.title('Training and validation loss')\n",
        "plt.xlabel('Epochs')\n",
        "plt.ylabel('Loss')\n",
        "plt.legend()\n",
        "\n",
        "plt.figure(figsize=(10,7))\n",
        "\n",
        "plt.plot(epochs, lr, 'b', label='Learning Rate')\n",
        "plt.title('Learning Rate')\n",
        "plt.xlabel('Epochs')\n",
        "plt.ylabel('Learning Rate')\n",
        "plt.legend()\n",
        "\n",
        "plt.show()"
      ],
      "execution_count": 0,
      "outputs": [
        {
          "output_type": "display_data",
          "data": {
            "image/png": "[encoded data removed]",
            "text/plain": [
              "<matplotlib.figure.Figure at 0x7fcbf94cca58>"
            ]
          },
          "metadata": {
            "tags": []
          }
        },
        {
          "output_type": "display_data",
          "data": {
            "image/png": "[encoded data removed]",
            "text/plain": [
              "<matplotlib.figure.Figure at 0x7fcbf9598b38>"
            ]
          },
          "metadata": {
            "tags": []
          }
        },
        {
          "output_type": "display_data",
          "data": {
            "image/png": "[encoded data removed]",
            "text/plain": [
              "<matplotlib.figure.Figure at 0x7fcbf943f048>"
            ]
          },
          "metadata": {
            "tags": []
          }
        }
      ]
    },
    {
      "metadata": {
        "id": "4pVoGPWEvCsv",
        "colab_type": "code",
        "outputId": "d69d2b6e-c099-461d-a7f8-74bcc36efc05",
        "colab": {
          "base_uri": "https://localhost:8080/",
          "height": 54
        }
      },
      "cell_type": "code",
      "source": [
        "score = model.evaluate(x_test, y_test, verbose=0)\n",
        "print('Test loss:', score[0])\n",
        "print('Test accuracy:', score[1])"
      ],
      "execution_count": 0,
      "outputs": [
        {
          "output_type": "stream",
          "text": [
            "Test loss: 0.01894705172325375\n",
            "Test accuracy: 0.9946\n"
          ],
          "name": "stdout"
        }
      ]
    },
    {
      "metadata": {
        "id": "iT_xbO49SikV",
        "colab_type": "code",
        "colab": {}
      },
      "cell_type": "code",
      "source": [
        "predicts = model.predict(x_test)"
      ],
      "execution_count": 0,
      "outputs": []
    },
    {
      "metadata": {
        "id": "uj47FfK2TBd9",
        "colab_type": "code",
        "colab": {}
      },
      "cell_type": "code",
      "source": [
        "import numpy as np\n",
        "final_preds_one_hot = np.zeros_like(predicts)"
      ],
      "execution_count": 0,
      "outputs": []
    },
    {
      "metadata": {
        "id": "jrTVEzNXTJIu",
        "colab_type": "code",
        "outputId": "e64ed2c2-ac69-4c8c-fcf3-ead1f9e5b73a",
        "colab": {
          "base_uri": "https://localhost:8080/",
          "height": 145
        }
      },
      "cell_type": "code",
      "source": [
        "final_preds_one_hot"
      ],
      "execution_count": 0,
      "outputs": [
        {
          "output_type": "execute_result",
          "data": {
            "text/plain": [
              "array([[0., 0., 0., ..., 0., 0., 0.],\n",
              "       [0., 0., 0., ..., 0., 0., 0.],\n",
              "       [0., 0., 0., ..., 0., 0., 0.],\n",
              "       ...,\n",
              "       [0., 0., 0., ..., 0., 0., 0.],\n",
              "       [0., 0., 0., ..., 0., 0., 0.],\n",
              "       [0., 0., 0., ..., 0., 0., 0.]], dtype=float32)"
            ]
          },
          "metadata": {
            "tags": []
          },
          "execution_count": 11
        }
      ]
    },
    {
      "metadata": {
        "id": "NGAhcJpiTTRj",
        "colab_type": "code",
        "colab": {}
      },
      "cell_type": "code",
      "source": [
        "final_preds_one_hot[np.arange(len(predicts)), predicts.argmax(1)] = 1"
      ],
      "execution_count": 0,
      "outputs": []
    },
    {
      "metadata": {
        "id": "Vahz6wWwTNs3",
        "colab_type": "code",
        "outputId": "71617468-af54-4f30-c6f4-9a72d5cc4ede",
        "colab": {
          "base_uri": "https://localhost:8080/",
          "height": 145
        }
      },
      "cell_type": "code",
      "source": [
        "final_preds_one_hot"
      ],
      "execution_count": 0,
      "outputs": [
        {
          "output_type": "execute_result",
          "data": {
            "text/plain": [
              "array([[0., 0., 0., ..., 1., 0., 0.],\n",
              "       [0., 0., 1., ..., 0., 0., 0.],\n",
              "       [0., 1., 0., ..., 0., 0., 0.],\n",
              "       ...,\n",
              "       [0., 0., 0., ..., 0., 0., 0.],\n",
              "       [0., 0., 0., ..., 0., 0., 0.],\n",
              "       [0., 0., 0., ..., 0., 0., 0.]], dtype=float32)"
            ]
          },
          "metadata": {
            "tags": []
          },
          "execution_count": 13
        }
      ]
    },
    {
      "metadata": {
        "id": "ffj3PS1tSpwR",
        "colab_type": "code",
        "outputId": "5845255d-64e5-44ff-9127-4ae979a82017",
        "colab": {
          "base_uri": "https://localhost:8080/",
          "height": 72
        }
      },
      "cell_type": "code",
      "source": [
        "predicts[0]"
      ],
      "execution_count": 0,
      "outputs": [
        {
          "output_type": "execute_result",
          "data": {
            "text/plain": [
              "array([4.1359399e-10, 5.7165467e-10, 1.0106379e-08, 1.2521413e-08,\n",
              "       2.4910920e-12, 4.2495688e-11, 3.8414594e-14, 1.0000000e+00,\n",
              "       2.3614909e-11, 6.6452164e-09], dtype=float32)"
            ]
          },
          "metadata": {
            "tags": []
          },
          "execution_count": 8
        }
      ]
    },
    {
      "metadata": {
        "id": "eYslA9yISyBC",
        "colab_type": "code",
        "outputId": "f716c663-fe24-4ddd-9b2e-f29cc7ada4df",
        "colab": {
          "base_uri": "https://localhost:8080/",
          "height": 35
        }
      },
      "cell_type": "code",
      "source": [
        "predicts.argmax(1)"
      ],
      "execution_count": 0,
      "outputs": [
        {
          "output_type": "execute_result",
          "data": {
            "text/plain": [
              "array([7, 2, 1, ..., 4, 5, 6])"
            ]
          },
          "metadata": {
            "tags": []
          },
          "execution_count": 15
        }
      ]
    },
    {
      "metadata": {
        "id": "bqUcqsB8vCsy",
        "colab_type": "text"
      },
      "cell_type": "markdown",
      "source": [
        "### Writing your own callback (先跳過, 大家短期內還不會用到)\n",
        "\n",
        "If you need to take a specific action during training that isn’t covered by one of the built-in callbacks, you can write your own callback. Callbacks are implemented by subclassing the class `keras.callbacks.Callback`. You can then implement any number of the following transparently named methods, which are called at various points during training: \n",
        "\n",
        "```Python\n",
        "# Called at the start of every epoch\n",
        "on_epoch_begin\n",
        "# Called at the end of every epoch\n",
        "on_epoch_end\n",
        "# Called right before processing each batch\n",
        "on_batch_begin\n",
        "# Called right after processing each batch\n",
        "on_batch_end\n",
        "# Called at the start of training \n",
        "on_train_begin\n",
        "# Called at the end of training\n",
        "on_train_end  \n",
        "```\n",
        "\n",
        "These methods all are called with a logs argument, which is a dictionary containing information about the previous batch, epoch, or training run: training and validation metrics, and so on. Additionally, the callback has access to the following attributes: \n",
        "\n",
        "* `self.model` — The model instance from which the callback is being called \n",
        "* `self.validation_data` — The value of what was passed to fit as validation data \n",
        "\n",
        "Here’s a simple example of a custom callback that saves to disk (as Numpy arrays) the activations (weights ?) of every layer of the model at the end of every epoch, computed on the first sample of the validation set: \n",
        "\n",
        "```Python\n",
        "import keras\n",
        "import numpy as np\n",
        "from keras import layers\n",
        "\n",
        "class ActivationLogger(keras.callbacks.Callback):\n",
        "\n",
        "    def set_model(self, model):\n",
        "        # Called by the parent model before training, \n",
        "        # to inform the callback of what model will be calling it\n",
        "        self.model = model\n",
        "        layer_outputs = [layer.output for layer in model.layers]\n",
        "        # Model instance that returns the activations of every layer\n",
        "        self.activations_model = keras.models.Model(model.input,layer_outputs)\n",
        "    \n",
        "    def on_epoch_end(self, epoch, logs=None):\n",
        "        if self.validation_data is None:\n",
        "            raise RuntimeError('Requires validation_data.')\n",
        "        # Obtains the first input sample of the validation data\n",
        "        validation_sample = self.validation_data[0][0:1]\n",
        "        activations = self.activations_model.predict(validation_sample)\n",
        "        # Saves arrays to disk\n",
        "        f = open('activations_at_epoch_' + str(epoch) + '.npz', 'wb')\n",
        "        np.savez(f,*activations)\n",
        "        f.close() \n",
        "```"
      ]
    },
    {
      "metadata": {
        "id": "M2aCGBg0vCsz",
        "colab_type": "text"
      },
      "cell_type": "markdown",
      "source": [
        "This is all you need to know about callbacks—the rest is technical details, which you can easily look up. Now you’re equipped to perform any sort of logging or preprogrammed intervention on a Keras model during training."
      ]
    },
    {
      "metadata": {
        "id": "r3dnK4h7vCs1",
        "colab_type": "text"
      },
      "cell_type": "markdown",
      "source": [
        "### Train a CNN model using the Functional API and the MNIST data\n",
        "### with custom ActivationLogger callback\n",
        "\n",
        "Inspired by: \n",
        "https://github.com/keras-team/keras/blob/master/examples/mnist_cnn.py"
      ]
    },
    {
      "metadata": {
        "id": "x7Bmx8GUvCs2",
        "colab_type": "code",
        "colab": {}
      },
      "cell_type": "code",
      "source": [
        "'''Trains a simple convnet on the MNIST dataset.\n",
        "Gets to 99.25% test accuracy after 12 epochs\n",
        "(there is still a lot of margin for parameter tuning).\n",
        "16 seconds per epoch on a GRID K520 GPU.\n",
        "'''\n",
        "\n",
        "from __future__ import print_function\n",
        "import keras\n",
        "from keras import layers\n",
        "from keras.datasets import mnist\n",
        "from keras.models import Sequential\n",
        "from keras.layers import Dense, Dropout, Flatten\n",
        "from keras.layers import Conv2D, MaxPooling2D\n",
        "from keras import backend as K\n",
        "import numpy as np\n",
        "import tensorflow as tf\n",
        "\n",
        "batch_size = 128\n",
        "num_classes = 10\n",
        "epochs = 12\n",
        "\n",
        "# input image dimensions\n",
        "img_rows, img_cols = 28, 28\n",
        "\n",
        "# the data, split between train and test sets\n",
        "(x_train, y_train), (x_test, y_test) = mnist.load_data()\n",
        "\n",
        "if K.image_data_format() == 'channels_first':\n",
        "    x_train = x_train.reshape(x_train.shape[0], 1, img_rows, img_cols)\n",
        "    x_test = x_test.reshape(x_test.shape[0], 1, img_rows, img_cols)\n",
        "    input_shape = (1, img_rows, img_cols)\n",
        "else:\n",
        "    x_train = x_train.reshape(x_train.shape[0], img_rows, img_cols, 1)\n",
        "    x_test = x_test.reshape(x_test.shape[0], img_rows, img_cols, 1)\n",
        "    input_shape = (img_rows, img_cols, 1)\n",
        "\n",
        "x_train = x_train.astype('float32')\n",
        "x_test = x_test.astype('float32')\n",
        "x_train /= 255\n",
        "x_test /= 255\n",
        "print('x_train shape:', x_train.shape)\n",
        "print(x_train.shape[0], 'train samples')\n",
        "print(x_test.shape[0], 'test samples')\n",
        "\n",
        "# convert class vectors to binary class matrices\n",
        "y_train = keras.utils.to_categorical(y_train, num_classes)\n",
        "y_test = keras.utils.to_categorical(y_test, num_classes)\n",
        "\n",
        "def cnn_layers(inputs):\n",
        "    x = layers.Conv2D(32, (3, 3),\n",
        "                      activation='relu', padding='valid')(inputs)\n",
        "    x = layers.MaxPooling2D(pool_size=(2, 2))(x)\n",
        "    x = layers.Conv2D(64, (3, 3), activation='relu')(x)\n",
        "    x = layers.MaxPooling2D(pool_size=(2, 2))(x)\n",
        "    x = layers.Flatten()(x)\n",
        "    x = layers.Dense(512, activation='relu')(x)\n",
        "    x = layers.Dropout(0.5)(x)\n",
        "    predictions = layers.Dense(num_classes,\n",
        "                               activation='softmax',\n",
        "                               name='x_train_out')(x)\n",
        "    return predictions\n",
        "\n",
        "model_input = layers.Input(shape=(28, 28, 1), dtype='float32', name='images')\n",
        "model_output = cnn_layers(model_input)\n",
        "model = keras.models.Model(inputs=model_input, outputs=model_output)\n",
        "\n",
        "model.compile(loss=keras.losses.categorical_crossentropy,\n",
        "              optimizer=keras.optimizers.Adadelta(),\n",
        "              metrics=['accuracy'])"
      ],
      "execution_count": 0,
      "outputs": []
    },
    {
      "metadata": {
        "id": "SlgY29u1vCs6",
        "colab_type": "code",
        "colab": {}
      },
      "cell_type": "code",
      "source": [
        "model.summary()\n",
        "\n",
        "from IPython.display import SVG\n",
        "from keras.utils.vis_utils import model_to_dot\n",
        "\n",
        "SVG(model_to_dot(model).create(prog='dot', format='svg'))"
      ],
      "execution_count": 0,
      "outputs": []
    },
    {
      "metadata": {
        "id": "OvIDzWjfvCs_",
        "colab_type": "text"
      },
      "cell_type": "markdown",
      "source": [
        "#### Training the model"
      ]
    },
    {
      "metadata": {
        "id": "A4GMA1SSvCtA",
        "colab_type": "code",
        "colab": {}
      },
      "cell_type": "code",
      "source": [
        "class ActivationLogger(keras.callbacks.Callback):\n",
        "\n",
        "    def set_model(self, model):\n",
        "        # Called by the parent model before training, \n",
        "        # to inform the callback of what model will be calling it\n",
        "        self.model = model\n",
        "        # Here the model has 9 layers\n",
        "        layer_outputs = [layer.output for layer in model.layers]\n",
        "        # Model instance that returns the activations of every layer\n",
        "        #  self.activations_model = keras.models.Model(inputs=model.inputs[0],outputs=layer_outputs)\n",
        "        self.activations_model = keras.models.Model(model.input,layer_outputs)\n",
        "\n",
        "    def on_epoch_end(self, epoch, logs=None):\n",
        "        if self.validation_data is None:\n",
        "            raise RuntimeError('Requires validation_data.')\n",
        "        # Obtains the first input sample of the validation data\n",
        "        validation_sample_x = self.validation_data[0][0:1]\n",
        "        validation_sample_y = self.validation_data[1]\n",
        "        # predict(self, x, batch_size=None, verbose=0, steps=None)\n",
        "        # x: The input data, as a Numpy array (or list of Numpy arrays if the model has multiple outputs).\n",
        "        activations = self.activations_model.predict(validation_sample_x)\n",
        "        # Saves arrays to disk\n",
        "        f = open('activations_at_epoch_' + str(epoch) + '.npz', 'wb')\n",
        "        # Since we have several arrays of different dimensions, we expand the arguments:\n",
        "        np.savez(f,*activations)\n",
        "        f.close()\n",
        "        \n",
        "# Callbacks are passed to the model via the callbacks argument in fit, \n",
        "# which takes a list of callbacks. You can pass any number of callbacks.\n",
        "callbacks_list = [ \n",
        "    ActivationLogger() \n",
        "] \n",
        "\n",
        "history = model.fit(x_train, y_train,\n",
        "                    epochs=12,\n",
        "                    batch_size=batch_size,\n",
        "                    verbose=1,\n",
        "                    callbacks=callbacks_list,\n",
        "                    # C.COULOMBE, in order to keep a test dataset\n",
        "                    # just create a validation dataset by splitting\n",
        "                    # the training dataset\n",
        "                    validation_split=0.2\n",
        "                   )"
      ],
      "execution_count": 0,
      "outputs": []
    },
    {
      "metadata": {
        "id": "7yX5gbEBvCtG",
        "colab_type": "text"
      },
      "cell_type": "markdown",
      "source": [
        "#### Recover the layers activation weights"
      ]
    },
    {
      "metadata": {
        "id": "OVdBeKMJvCtH",
        "colab_type": "code",
        "colab": {}
      },
      "cell_type": "code",
      "source": [
        "# For example, recover the arrays of weights for the last epoch 12 => 11 \n",
        "# and the last layer 9 => 8\n",
        "last_epoch_activations = np.load('activations_at_epoch_11.npz')\n",
        "activations = [last_epoch_activations[key] for key in last_epoch_activations]\n",
        "print(len(activations))\n",
        "print(activations[8])"
      ],
      "execution_count": 0,
      "outputs": []
    },
    {
      "metadata": {
        "collapsed": true,
        "id": "XsDmFBSivCtK",
        "colab_type": "text"
      },
      "cell_type": "markdown",
      "source": [
        "This is all you need to know about callbacks—the rest is technical details, which you can easily look up. Now you’re equipped to perform any sort of logging or preprogrammed intervention on a Keras model during training."
      ]
    },
    {
      "metadata": {
        "id": "C5XwW1-uvCtL",
        "colab_type": "text"
      },
      "cell_type": "markdown",
      "source": [
        "### 7.2.2. Introduction to TensorBoard: the TensorFlow visualization framework \n",
        "\n",
        "To do good research or develop good models, you need rich, frequent feedback about what’s going on inside your models during your experiments. That’s the point of running experiments: to get information about how well a model performs—as much information as possible. Making progress is an iterative process, or loop: you start with an idea and express it as an experiment, attempting to validate or invalidate your idea. You run this experiment and process the information it generates. This inspires your next idea. The more iterations of this loop you’re able to run, the more refined and powerful your ideas become. Keras helps you go from idea to experiment in the least possible time, and fast GPUs can help you get from experiment to result as quickly as possible. \n",
        "\n",
        "But what about processing the experiment results? That’s where TensorBoard comes in.\n",
        "\n",
        "This section introduces TensorBoard, a browser-based visualization tool that comes packaged with TensorFlow. Note that it’s only available for Keras models when you’re using Keras with the TensorFlow backend. \n",
        "\n",
        "The key purpose of TensorBoard is to help you visually monitor everything that goes on inside your model during training. If you’re monitoring more information than just the model’s final loss, you can develop a clearer vision of what the model does and doesn’t do, and you can make progress more quickly. TensorBoard gives you access to several neat features, all in your browser: \n",
        "\n",
        "* Visually monitoring metrics during training Visualizing your model architecture\n",
        "* Visualizing your model architecture\n",
        "* Visualizing histograms of activations and gradients \n",
        "* Exploring embeddings in 3D \n",
        "\n",
        "Let’s demonstrate these features on a simple example. You’ll train a 1D convnet on the IMDB sentiment-analysis task. \n",
        "\n",
        "The model is similar to the one you saw in the last section of chapter 6. You’ll consider only the top 2,000 words in the IMDB vocabulary, to make visualizing word embeddings more tractable. \n",
        "\n",
        "#### IMDB Text-classification model to use with TensorBoard"
      ]
    },
    {
      "metadata": {
        "id": "ArAK6lrGvCtL",
        "colab_type": "code",
        "outputId": "7549f559-1242-428a-d30b-30410f665df0",
        "colab": {
          "base_uri": "https://localhost:8080/",
          "height": 51
        }
      },
      "cell_type": "code",
      "source": [
        "import keras \n",
        "from keras import layers \n",
        "from keras.datasets import imdb \n",
        "from keras.preprocessing import sequence \n",
        "import keras.backend as K\n",
        "K.clear_session()\n",
        "\n",
        "# Number of words to consider as features\n",
        "max_features = 2000\n",
        "# Cuts off texts after this number of words (among max_features most common words)\n",
        "max_len = 500\n",
        "\n",
        "(x_train, y_train), (x_test, y_test) = imdb.load_data(num_words=max_features) \n",
        "x_train = sequence.pad_sequences(x_train, maxlen=max_len) \n",
        "x_test = sequence.pad_sequences(x_test, maxlen=max_len) \n",
        "\n",
        "model = keras.models.Sequential()\n",
        "model.add(layers.Embedding(max_features,128,\n",
        "                           input_length=max_len,\n",
        "                           name='embed'))\n",
        "model.add(layers.Conv1D(32, 7, activation='relu'))\n",
        "model.add(layers.MaxPooling1D(5))\n",
        "model.add(layers.Conv1D(32, 7, activation='relu'))\n",
        "model.add(layers.GlobalMaxPooling1D())\n",
        "model.add(layers.Dense(1))"
      ],
      "execution_count": 0,
      "outputs": [
        {
          "output_type": "stream",
          "text": [
            "Downloading data from https://s3.amazonaws.com/text-datasets/imdb.npz\n",
            "17465344/17464789 [==============================] - 1s 0us/step\n"
          ],
          "name": "stdout"
        }
      ]
    },
    {
      "metadata": {
        "id": "kpGdx8EovCtN",
        "colab_type": "code",
        "outputId": "450e3fc9-a04d-4819-de0d-3bc3c769470f",
        "colab": {
          "base_uri": "https://localhost:8080/",
          "height": 988
        }
      },
      "cell_type": "code",
      "source": [
        "model.summary()\n",
        "\n",
        "from IPython.display import SVG\n",
        "from keras.utils.vis_utils import model_to_dot\n",
        "\n",
        "SVG(model_to_dot(model).create(prog='dot', format='svg'))"
      ],
      "execution_count": 0,
      "outputs": [
        {
          "output_type": "stream",
          "text": [
            "_________________________________________________________________\n",
            "Layer (type)                 Output Shape              Param #   \n",
            "=================================================================\n",
            "embed (Embedding)            (None, 500, 128)          256000    \n",
            "_________________________________________________________________\n",
            "conv1d_1 (Conv1D)            (None, 494, 32)           28704     \n",
            "_________________________________________________________________\n",
            "max_pooling1d_1 (MaxPooling1 (None, 98, 32)            0         \n",
            "_________________________________________________________________\n",
            "conv1d_2 (Conv1D)            (None, 92, 32)            7200      \n",
            "_________________________________________________________________\n",
            "global_max_pooling1d_1 (Glob (None, 32)                0         \n",
            "_________________________________________________________________\n",
            "dense_1 (Dense)              (None, 1)                 33        \n",
            "=================================================================\n",
            "Total params: 291,937\n",
            "Trainable params: 291,937\n",
            "Non-trainable params: 0\n",
            "_________________________________________________________________\n"
          ],
          "name": "stdout"
        },
        {
          "output_type": "execute_result",
          "data": {
            "text/plain": [
              "<IPython.core.display.SVG object>"
            ],
            "image/svg+xml": "<svg height=\"483pt\" viewBox=\"0.00 0.00 312.00 483.00\" width=\"312pt\" xmlns=\"http://www.w3.org/2000/svg\" xmlns:xlink=\"http://www.w3.org/1999/xlink\">\n<g class=\"graph\" id=\"graph0\" transform=\"scale(1 1) rotate(0) translate(4 479)\">\n<title>G</title>\n<polygon fill=\"#ffffff\" points=\"-4,4 -4,-479 308,-479 308,4 -4,4\" stroke=\"transparent\"/>\n<!-- 140397177584832 -->\n<g class=\"node\" id=\"node1\">\n<title>140397177584832</title>\n<polygon fill=\"none\" points=\"87,-365.5 87,-401.5 217,-401.5 217,-365.5 87,-365.5\" stroke=\"#000000\"/>\n<text fill=\"#000000\" font-family=\"Times,serif\" font-size=\"14.00\" text-anchor=\"middle\" x=\"152\" y=\"-379.8\">embed: Embedding</text>\n</g>\n<!-- 140397183418208 -->\n<g class=\"node\" id=\"node2\">\n<title>140397183418208</title>\n<polygon fill=\"none\" points=\"85.5,-292.5 85.5,-328.5 218.5,-328.5 218.5,-292.5 85.5,-292.5\" stroke=\"#000000\"/>\n<text fill=\"#000000\" font-family=\"Times,serif\" font-size=\"14.00\" text-anchor=\"middle\" x=\"152\" y=\"-306.8\">conv1d_1: Conv1D</text>\n</g>\n<!-- 140397177584832&#45;&gt;140397183418208 -->\n<g class=\"edge\" id=\"edge2\">\n<title>140397177584832-&gt;140397183418208</title>\n<path d=\"M152,-365.4551C152,-357.3828 152,-347.6764 152,-338.6817\" fill=\"none\" stroke=\"#000000\"/>\n<polygon fill=\"#000000\" points=\"155.5001,-338.5903 152,-328.5904 148.5001,-338.5904 155.5001,-338.5903\" stroke=\"#000000\"/>\n</g>\n<!-- 140397218972056 -->\n<g class=\"node\" id=\"node3\">\n<title>140397218972056</title>\n<polygon fill=\"none\" points=\"41.5,-219.5 41.5,-255.5 262.5,-255.5 262.5,-219.5 41.5,-219.5\" stroke=\"#000000\"/>\n<text fill=\"#000000\" font-family=\"Times,serif\" font-size=\"14.00\" text-anchor=\"middle\" x=\"152\" y=\"-233.8\">max_pooling1d_1: MaxPooling1D</text>\n</g>\n<!-- 140397183418208&#45;&gt;140397218972056 -->\n<g class=\"edge\" id=\"edge3\">\n<title>140397183418208-&gt;140397218972056</title>\n<path d=\"M152,-292.4551C152,-284.3828 152,-274.6764 152,-265.6817\" fill=\"none\" stroke=\"#000000\"/>\n<polygon fill=\"#000000\" points=\"155.5001,-265.5903 152,-255.5904 148.5001,-265.5904 155.5001,-265.5903\" stroke=\"#000000\"/>\n</g>\n<!-- 140397228813560 -->\n<g class=\"node\" id=\"node4\">\n<title>140397228813560</title>\n<polygon fill=\"none\" points=\"85.5,-146.5 85.5,-182.5 218.5,-182.5 218.5,-146.5 85.5,-146.5\" stroke=\"#000000\"/>\n<text fill=\"#000000\" font-family=\"Times,serif\" font-size=\"14.00\" text-anchor=\"middle\" x=\"152\" y=\"-160.8\">conv1d_2: Conv1D</text>\n</g>\n<!-- 140397218972056&#45;&gt;140397228813560 -->\n<g class=\"edge\" id=\"edge4\">\n<title>140397218972056-&gt;140397228813560</title>\n<path d=\"M152,-219.4551C152,-211.3828 152,-201.6764 152,-192.6817\" fill=\"none\" stroke=\"#000000\"/>\n<polygon fill=\"#000000\" points=\"155.5001,-192.5903 152,-182.5904 148.5001,-192.5904 155.5001,-192.5903\" stroke=\"#000000\"/>\n</g>\n<!-- 140397179012992 -->\n<g class=\"node\" id=\"node5\">\n<title>140397179012992</title>\n<polygon fill=\"none\" points=\"0,-73.5 0,-109.5 304,-109.5 304,-73.5 0,-73.5\" stroke=\"#000000\"/>\n<text fill=\"#000000\" font-family=\"Times,serif\" font-size=\"14.00\" text-anchor=\"middle\" x=\"152\" y=\"-87.8\">global_max_pooling1d_1: GlobalMaxPooling1D</text>\n</g>\n<!-- 140397228813560&#45;&gt;140397179012992 -->\n<g class=\"edge\" id=\"edge5\">\n<title>140397228813560-&gt;140397179012992</title>\n<path d=\"M152,-146.4551C152,-138.3828 152,-128.6764 152,-119.6817\" fill=\"none\" stroke=\"#000000\"/>\n<polygon fill=\"#000000\" points=\"155.5001,-119.5903 152,-109.5904 148.5001,-119.5904 155.5001,-119.5903\" stroke=\"#000000\"/>\n</g>\n<!-- 140397218621424 -->\n<g class=\"node\" id=\"node6\">\n<title>140397218621424</title>\n<polygon fill=\"none\" points=\"98.5,-.5 98.5,-36.5 205.5,-36.5 205.5,-.5 98.5,-.5\" stroke=\"#000000\"/>\n<text fill=\"#000000\" font-family=\"Times,serif\" font-size=\"14.00\" text-anchor=\"middle\" x=\"152\" y=\"-14.8\">dense_1: Dense</text>\n</g>\n<!-- 140397179012992&#45;&gt;140397218621424 -->\n<g class=\"edge\" id=\"edge6\">\n<title>140397179012992-&gt;140397218621424</title>\n<path d=\"M152,-73.4551C152,-65.3828 152,-55.6764 152,-46.6817\" fill=\"none\" stroke=\"#000000\"/>\n<polygon fill=\"#000000\" points=\"155.5001,-46.5903 152,-36.5904 148.5001,-46.5904 155.5001,-46.5903\" stroke=\"#000000\"/>\n</g>\n<!-- 140397183230808 -->\n<g class=\"node\" id=\"node7\">\n<title>140397183230808</title>\n<polygon fill=\"none\" points=\"87.5,-438.5 87.5,-474.5 216.5,-474.5 216.5,-438.5 87.5,-438.5\" stroke=\"#000000\"/>\n<text fill=\"#000000\" font-family=\"Times,serif\" font-size=\"14.00\" text-anchor=\"middle\" x=\"152\" y=\"-452.8\">140397183230808</text>\n</g>\n<!-- 140397183230808&#45;&gt;140397177584832 -->\n<g class=\"edge\" id=\"edge1\">\n<title>140397183230808-&gt;140397177584832</title>\n<path d=\"M152,-438.4551C152,-430.3828 152,-420.6764 152,-411.6817\" fill=\"none\" stroke=\"#000000\"/>\n<polygon fill=\"#000000\" points=\"155.5001,-411.5903 152,-401.5904 148.5001,-411.5904 155.5001,-411.5903\" stroke=\"#000000\"/>\n</g>\n</g>\n</svg>"
          },
          "metadata": {
            "tags": []
          },
          "execution_count": 14
        }
      ]
    },
    {
      "metadata": {
        "id": "vVGfGRCKk26K",
        "colab_type": "code",
        "outputId": "e692a782-0d3b-4dd7-cf22-799a3da421c9",
        "colab": {
          "base_uri": "https://localhost:8080/",
          "height": 34
        }
      },
      "cell_type": "code",
      "source": [
        "x_train.shape"
      ],
      "execution_count": 0,
      "outputs": [
        {
          "output_type": "execute_result",
          "data": {
            "text/plain": [
              "(25000, 500)"
            ]
          },
          "metadata": {
            "tags": []
          },
          "execution_count": 15
        }
      ]
    },
    {
      "metadata": {
        "id": "MQvpv5afvCtP",
        "colab_type": "code",
        "colab": {}
      },
      "cell_type": "code",
      "source": [
        "model.compile(optimizer='rmsprop',\n",
        "              loss='binary_crossentropy',\n",
        "              metrics=['acc'])"
      ],
      "execution_count": 0,
      "outputs": []
    },
    {
      "metadata": {
        "id": "Kxjz3rLOvCtV",
        "colab_type": "text"
      },
      "cell_type": "markdown",
      "source": [
        "Before you start using TensorBoard, you need to create a directory where you’ll store the log files it generates.\n",
        "\n",
        "Creating a directory for TensorBoard log files\n",
        "\n",
        "    > mkdir my_log_dir\n",
        "    \n",
        "Let’s launch the training with a TensorBoard callback instance. This callback will write log events to disk at the specified location.\n",
        "\n",
        "#### Training the model with a TensorBoard callback"
      ]
    },
    {
      "metadata": {
        "scrolled": false,
        "id": "yoszxAwivCtW",
        "colab_type": "code",
        "outputId": "364261f4-8c53-4c46-ab6a-d6a8baa06dab",
        "colab": {
          "base_uri": "https://localhost:8080/",
          "height": 323
        }
      },
      "cell_type": "code",
      "source": [
        "  \n",
        "# Tensorboard\n",
        "\n",
        "#安裝tensorboard colab\n",
        "!pip install tensorboardcolab\n",
        "import numpy\n",
        "from tensorboardcolab import *\n",
        "tbc=TensorBoardColab()\n",
        "\n",
        "callbacks = [\n",
        "    TensorBoardColabCallback(tbc,histogram_freq=1,embeddings_freq=1, embeddings_layer_names = None, embeddings_data=x_train[0:100])\n",
        "    \n",
        "] \n",
        "\n",
        "history = model.fit(x_train, y_train,\n",
        "                    epochs=3,\n",
        "                    batch_size=64,\n",
        "                    validation_split=0.2,\n",
        "                    callbacks=callbacks)"
      ],
      "execution_count": 0,
      "outputs": [
        {
          "output_type": "stream",
          "text": [
            "Collecting tensorboardcolab\n",
            "  Downloading https://files.pythonhosted.org/packages/73/3d/eaf745e162e471c5bb2737a407d8626fb8684a88cf085045456aeb841d3c/tensorboardcolab-0.0.19.tar.gz\n",
            "Building wheels for collected packages: tensorboardcolab\n",
            "  Running setup.py bdist_wheel for tensorboardcolab ... \u001b[?25l-\b \bdone\n",
            "\u001b[?25h  Stored in directory: /root/.cache/pip/wheels/ab/74/02/cda602d1dc28b2f12eab313c49b9bfa14d6371326bc2590e06\n",
            "Successfully built tensorboardcolab\n",
            "Installing collected packages: tensorboardcolab\n",
            "Successfully installed tensorboardcolab-0.0.19\n",
            "Wait for 8 seconds...\n",
            "TensorBoard link:\n",
            "http://7ede96b8.ngrok.io\n",
            "Train on 20000 samples, validate on 5000 samples\n",
            "Epoch 1/3\n",
            "20000/20000 [==============================] - 5s 228us/step - loss: 0.5853 - acc: 0.7074 - val_loss: 0.4344 - val_acc: 0.8296\n",
            "Epoch 2/3\n",
            "20000/20000 [==============================] - 4s 203us/step - loss: 0.4524 - acc: 0.7820 - val_loss: 0.7156 - val_acc: 0.7102\n",
            "Epoch 3/3\n",
            "20000/20000 [==============================] - 4s 197us/step - loss: 0.3904 - acc: 0.7394 - val_loss: 0.7184 - val_acc: 0.6624\n"
          ],
          "name": "stdout"
        }
      ]
    },
    {
      "metadata": {
        "id": "0NSQiKQnvCtb",
        "colab_type": "text"
      },
      "cell_type": "markdown",
      "source": [
        "At this point, you can launch the TensorBoard server from the command line, instructing it to read the logs the callback is currently writing.\n",
        "\n",
        "The tensorboard utility should have been automatically installed on your machine the moment you installed TensorFlow (for example, via pip): \n",
        "\n",
        "    > cd <path-to-the-notebook-directory>\n",
        "    > tensorboard --logdir=my_log_dir \n",
        "\n",
        "You can then browse to http://localhost:6006 and look at your model training (see figure 7.10). In addition to live graphs of the training and validation metrics,  \n",
        "\n",
        "<center>Figure 7.10. TensorBoard: metrics monitoring</center>\n",
        "<img src=\"https://cdn-images-1.medium.com/max/750/1*ik2dzj_Z0GvOG6uETvQhJw.png\" width=600>\n",
        "\n",
        "you get access to the Histograms tab, where you can find pretty visualizations of histograms of activation values taken by your layers (see figure 7.11).\n",
        "\n",
        "<center>Figure 7.11. TensorBoard: activation histograms</center>\n",
        "<img src=\"https://cdn-images-1.medium.com/max/750/1*rKv6i1nwC1m4CMSV3BZAhA.png\" width=600>\n",
        "\n",
        "The Embeddings tab gives you a way to inspect the embedding locations and spatial relationships of the 2 000 (or 10,000) words in the input vocabulary, as learned by the initial Embedding layer. Because the embedding space is 128-dimensional, TensorBoard automatically reduces it to 2D or 3D using a dimensionality-reduction algorithm of your choice: either principal component analysis (PCA) or t-distributed stochastic neighbor embedding (t-SNE). \n",
        "\n",
        "In figure 7.12 below, in the point cloud, you can clearly see two clusters: words with a positive connotation and words with a negative connotation. The visualization makes it immediately obvious that embeddings trained jointly with a specific objective result in models that are completely specific to the underlying task—that’s the reason using pretrained generic word embeddings is rarely a good idea.\n",
        "\n",
        "<center>Figure 7.12.a TensorBoard: interactive 3D word-embedding visualization - PCA</center>\n",
        "<img src=\"https://cdn-images-1.medium.com/max/1500/1*vJ1uwS2fYmW8B74Xdq3fJQ.png\" width=600>\n",
        "\n",
        "<center>Figure 7.12.b TensorBoard: interactive 3D word-embedding visualization - T-SNE</center>\n",
        "<img src=\"https://cdn-images-1.medium.com/max/1500/1*y87HCKKBsdRaDy-y_oE4jQ.png\" width=600>\n",
        "\n",
        "The Graphs tab shows an interactive visualization of the graph of low-level TensorFlow operations underlying your Keras model (see figure 7.13). As you can see, there’s a lot more going on than you would expect. The model you just built may look simple when defined in Keras—a small stack of basic layers—but under the hood, you need to construct a fairly complex graph structure to make it work. A lot of it is related to the gradient-descent process. This complexity differential between what you see and what you’re manipulating is the key motivation for using Keras as your way of building models, instead of working with raw TensorFlow to define everything from scratch. Keras makes your workflow dramatically simpler. Figure 7.13. TensorBoard: TensorFlow graph visualization\n",
        "\n",
        "<center>Figure 7.13. TensorBoard: TensorFlow graph visualization</center>\n",
        "<img src=\"https://cdn-images-1.medium.com/max/1500/1*8yNvoDNaXF-g4l5nP1cXmg.png\" width=600>\n",
        "\n",
        "Note that Keras also provides another, cleaner way to plot models as graphs of layers rather than graphs of TensorFlow operations: the utility keras.utils.plot_model. Using it requires that you’ve installed the Python pydot and pydot-ng libraries as well as the graphviz library. Let’s take a quick look: from keras.utils import plot_model plot_model(model, to_file='model.png') This creates the PNG image shown in figure 7.14."
      ]
    },
    {
      "metadata": {
        "id": "RDps-x_mvCtc",
        "colab_type": "text"
      },
      "cell_type": "markdown",
      "source": [
        "#### A model plot as a graph of layers, generated with plot_model"
      ]
    },
    {
      "metadata": {
        "id": "sfWr2bMkvCte",
        "colab_type": "code",
        "outputId": "022bd272-4e0e-4e73-c740-fb65e58c6327",
        "colab": {
          "base_uri": "https://localhost:8080/",
          "height": 665
        }
      },
      "cell_type": "code",
      "source": [
        "from keras.utils import plot_model \n",
        "plot_model(model, to_file='model.png')\n",
        "\n",
        "from IPython.display import SVG\n",
        "from keras.utils.vis_utils import model_to_dot\n",
        "\n",
        "SVG(model_to_dot(model).create(prog='dot', format='svg'))"
      ],
      "execution_count": 0,
      "outputs": [
        {
          "output_type": "execute_result",
          "data": {
            "text/plain": [
              "<IPython.core.display.SVG object>"
            ],
            "image/svg+xml": "<svg height=\"483pt\" viewBox=\"0.00 0.00 312.00 483.00\" width=\"312pt\" xmlns=\"http://www.w3.org/2000/svg\" xmlns:xlink=\"http://www.w3.org/1999/xlink\">\n<g class=\"graph\" id=\"graph0\" transform=\"scale(1 1) rotate(0) translate(4 479)\">\n<title>G</title>\n<polygon fill=\"#ffffff\" points=\"-4,4 -4,-479 308,-479 308,4 -4,4\" stroke=\"transparent\"/>\n<!-- 140397177584832 -->\n<g class=\"node\" id=\"node1\">\n<title>140397177584832</title>\n<polygon fill=\"none\" points=\"87,-365.5 87,-401.5 217,-401.5 217,-365.5 87,-365.5\" stroke=\"#000000\"/>\n<text fill=\"#000000\" font-family=\"Times,serif\" font-size=\"14.00\" text-anchor=\"middle\" x=\"152\" y=\"-379.8\">embed: Embedding</text>\n</g>\n<!-- 140397183418208 -->\n<g class=\"node\" id=\"node2\">\n<title>140397183418208</title>\n<polygon fill=\"none\" points=\"85.5,-292.5 85.5,-328.5 218.5,-328.5 218.5,-292.5 85.5,-292.5\" stroke=\"#000000\"/>\n<text fill=\"#000000\" font-family=\"Times,serif\" font-size=\"14.00\" text-anchor=\"middle\" x=\"152\" y=\"-306.8\">conv1d_1: Conv1D</text>\n</g>\n<!-- 140397177584832&#45;&gt;140397183418208 -->\n<g class=\"edge\" id=\"edge2\">\n<title>140397177584832-&gt;140397183418208</title>\n<path d=\"M152,-365.4551C152,-357.3828 152,-347.6764 152,-338.6817\" fill=\"none\" stroke=\"#000000\"/>\n<polygon fill=\"#000000\" points=\"155.5001,-338.5903 152,-328.5904 148.5001,-338.5904 155.5001,-338.5903\" stroke=\"#000000\"/>\n</g>\n<!-- 140397218972056 -->\n<g class=\"node\" id=\"node3\">\n<title>140397218972056</title>\n<polygon fill=\"none\" points=\"41.5,-219.5 41.5,-255.5 262.5,-255.5 262.5,-219.5 41.5,-219.5\" stroke=\"#000000\"/>\n<text fill=\"#000000\" font-family=\"Times,serif\" font-size=\"14.00\" text-anchor=\"middle\" x=\"152\" y=\"-233.8\">max_pooling1d_1: MaxPooling1D</text>\n</g>\n<!-- 140397183418208&#45;&gt;140397218972056 -->\n<g class=\"edge\" id=\"edge3\">\n<title>140397183418208-&gt;140397218972056</title>\n<path d=\"M152,-292.4551C152,-284.3828 152,-274.6764 152,-265.6817\" fill=\"none\" stroke=\"#000000\"/>\n<polygon fill=\"#000000\" points=\"155.5001,-265.5903 152,-255.5904 148.5001,-265.5904 155.5001,-265.5903\" stroke=\"#000000\"/>\n</g>\n<!-- 140397228813560 -->\n<g class=\"node\" id=\"node4\">\n<title>140397228813560</title>\n<polygon fill=\"none\" points=\"85.5,-146.5 85.5,-182.5 218.5,-182.5 218.5,-146.5 85.5,-146.5\" stroke=\"#000000\"/>\n<text fill=\"#000000\" font-family=\"Times,serif\" font-size=\"14.00\" text-anchor=\"middle\" x=\"152\" y=\"-160.8\">conv1d_2: Conv1D</text>\n</g>\n<!-- 140397218972056&#45;&gt;140397228813560 -->\n<g class=\"edge\" id=\"edge4\">\n<title>140397218972056-&gt;140397228813560</title>\n<path d=\"M152,-219.4551C152,-211.3828 152,-201.6764 152,-192.6817\" fill=\"none\" stroke=\"#000000\"/>\n<polygon fill=\"#000000\" points=\"155.5001,-192.5903 152,-182.5904 148.5001,-192.5904 155.5001,-192.5903\" stroke=\"#000000\"/>\n</g>\n<!-- 140397179012992 -->\n<g class=\"node\" id=\"node5\">\n<title>140397179012992</title>\n<polygon fill=\"none\" points=\"0,-73.5 0,-109.5 304,-109.5 304,-73.5 0,-73.5\" stroke=\"#000000\"/>\n<text fill=\"#000000\" font-family=\"Times,serif\" font-size=\"14.00\" text-anchor=\"middle\" x=\"152\" y=\"-87.8\">global_max_pooling1d_1: GlobalMaxPooling1D</text>\n</g>\n<!-- 140397228813560&#45;&gt;140397179012992 -->\n<g class=\"edge\" id=\"edge5\">\n<title>140397228813560-&gt;140397179012992</title>\n<path d=\"M152,-146.4551C152,-138.3828 152,-128.6764 152,-119.6817\" fill=\"none\" stroke=\"#000000\"/>\n<polygon fill=\"#000000\" points=\"155.5001,-119.5903 152,-109.5904 148.5001,-119.5904 155.5001,-119.5903\" stroke=\"#000000\"/>\n</g>\n<!-- 140397218621424 -->\n<g class=\"node\" id=\"node6\">\n<title>140397218621424</title>\n<polygon fill=\"none\" points=\"98.5,-.5 98.5,-36.5 205.5,-36.5 205.5,-.5 98.5,-.5\" stroke=\"#000000\"/>\n<text fill=\"#000000\" font-family=\"Times,serif\" font-size=\"14.00\" text-anchor=\"middle\" x=\"152\" y=\"-14.8\">dense_1: Dense</text>\n</g>\n<!-- 140397179012992&#45;&gt;140397218621424 -->\n<g class=\"edge\" id=\"edge6\">\n<title>140397179012992-&gt;140397218621424</title>\n<path d=\"M152,-73.4551C152,-65.3828 152,-55.6764 152,-46.6817\" fill=\"none\" stroke=\"#000000\"/>\n<polygon fill=\"#000000\" points=\"155.5001,-46.5903 152,-36.5904 148.5001,-46.5904 155.5001,-46.5903\" stroke=\"#000000\"/>\n</g>\n<!-- 140397183230808 -->\n<g class=\"node\" id=\"node7\">\n<title>140397183230808</title>\n<polygon fill=\"none\" points=\"87.5,-438.5 87.5,-474.5 216.5,-474.5 216.5,-438.5 87.5,-438.5\" stroke=\"#000000\"/>\n<text fill=\"#000000\" font-family=\"Times,serif\" font-size=\"14.00\" text-anchor=\"middle\" x=\"152\" y=\"-452.8\">140397183230808</text>\n</g>\n<!-- 140397183230808&#45;&gt;140397177584832 -->\n<g class=\"edge\" id=\"edge1\">\n<title>140397183230808-&gt;140397177584832</title>\n<path d=\"M152,-438.4551C152,-430.3828 152,-420.6764 152,-411.6817\" fill=\"none\" stroke=\"#000000\"/>\n<polygon fill=\"#000000\" points=\"155.5001,-411.5903 152,-401.5904 148.5001,-411.5904 155.5001,-411.5903\" stroke=\"#000000\"/>\n</g>\n</g>\n</svg>"
          },
          "metadata": {
            "tags": []
          },
          "execution_count": 19
        }
      ]
    },
    {
      "metadata": {
        "id": "M-q8GpIuvCti",
        "colab_type": "text"
      },
      "cell_type": "markdown",
      "source": [
        "#### A model plot as a graph of layers with shape information"
      ]
    },
    {
      "metadata": {
        "id": "8YLIXjBUvCtk",
        "colab_type": "code",
        "outputId": "06709c12-1383-4f5f-cba3-3430dacd649a",
        "colab": {
          "base_uri": "https://localhost:8080/",
          "height": 745
        }
      },
      "cell_type": "code",
      "source": [
        "from keras.utils import plot_model \n",
        "plot_model(model, to_file='model.png')\n",
        "\n",
        "from IPython.display import SVG\n",
        "from keras.utils.vis_utils import model_to_dot\n",
        "\n",
        "SVG(model_to_dot(model,show_shapes=True).create(prog='dot', format='svg'))"
      ],
      "execution_count": 0,
      "outputs": [
        {
          "output_type": "execute_result",
          "data": {
            "text/plain": [
              "<IPython.core.display.SVG object>"
            ],
            "image/svg+xml": "<svg height=\"543pt\" viewBox=\"0.00 0.00 472.00 543.00\" width=\"472pt\" xmlns=\"http://www.w3.org/2000/svg\" xmlns:xlink=\"http://www.w3.org/1999/xlink\">\n<g class=\"graph\" id=\"graph0\" transform=\"scale(1 1) rotate(0) translate(4 539)\">\n<title>G</title>\n<polygon fill=\"#ffffff\" points=\"-4,4 -4,-539 468,-539 468,4 -4,4\" stroke=\"transparent\"/>\n<!-- 140397177584832 -->\n<g class=\"node\" id=\"node1\">\n<title>140397177584832</title>\n<polygon fill=\"none\" points=\"79.5,-415.5 79.5,-461.5 384.5,-461.5 384.5,-415.5 79.5,-415.5\" stroke=\"#000000\"/>\n<text fill=\"#000000\" font-family=\"Times,serif\" font-size=\"14.00\" text-anchor=\"middle\" x=\"144.5\" y=\"-434.8\">embed: Embedding</text>\n<polyline fill=\"none\" points=\"209.5,-415.5 209.5,-461.5 \" stroke=\"#000000\"/>\n<text fill=\"#000000\" font-family=\"Times,serif\" font-size=\"14.00\" text-anchor=\"middle\" x=\"238.5\" y=\"-446.3\">input:</text>\n<polyline fill=\"none\" points=\"209.5,-438.5 267.5,-438.5 \" stroke=\"#000000\"/>\n<text fill=\"#000000\" font-family=\"Times,serif\" font-size=\"14.00\" text-anchor=\"middle\" x=\"238.5\" y=\"-423.3\">output:</text>\n<polyline fill=\"none\" points=\"267.5,-415.5 267.5,-461.5 \" stroke=\"#000000\"/>\n<text fill=\"#000000\" font-family=\"Times,serif\" font-size=\"14.00\" text-anchor=\"middle\" x=\"326\" y=\"-446.3\">(None, 500)</text>\n<polyline fill=\"none\" points=\"267.5,-438.5 384.5,-438.5 \" stroke=\"#000000\"/>\n<text fill=\"#000000\" font-family=\"Times,serif\" font-size=\"14.00\" text-anchor=\"middle\" x=\"326\" y=\"-423.3\">(None, 500, 128)</text>\n</g>\n<!-- 140397183418208 -->\n<g class=\"node\" id=\"node2\">\n<title>140397183418208</title>\n<polygon fill=\"none\" points=\"78,-332.5 78,-378.5 386,-378.5 386,-332.5 78,-332.5\" stroke=\"#000000\"/>\n<text fill=\"#000000\" font-family=\"Times,serif\" font-size=\"14.00\" text-anchor=\"middle\" x=\"144.5\" y=\"-351.8\">conv1d_1: Conv1D</text>\n<polyline fill=\"none\" points=\"211,-332.5 211,-378.5 \" stroke=\"#000000\"/>\n<text fill=\"#000000\" font-family=\"Times,serif\" font-size=\"14.00\" text-anchor=\"middle\" x=\"240\" y=\"-363.3\">input:</text>\n<polyline fill=\"none\" points=\"211,-355.5 269,-355.5 \" stroke=\"#000000\"/>\n<text fill=\"#000000\" font-family=\"Times,serif\" font-size=\"14.00\" text-anchor=\"middle\" x=\"240\" y=\"-340.3\">output:</text>\n<polyline fill=\"none\" points=\"269,-332.5 269,-378.5 \" stroke=\"#000000\"/>\n<text fill=\"#000000\" font-family=\"Times,serif\" font-size=\"14.00\" text-anchor=\"middle\" x=\"327.5\" y=\"-363.3\">(None, 500, 128)</text>\n<polyline fill=\"none\" points=\"269,-355.5 386,-355.5 \" stroke=\"#000000\"/>\n<text fill=\"#000000\" font-family=\"Times,serif\" font-size=\"14.00\" text-anchor=\"middle\" x=\"327.5\" y=\"-340.3\">(None, 494, 32)</text>\n</g>\n<!-- 140397177584832&#45;&gt;140397183418208 -->\n<g class=\"edge\" id=\"edge2\">\n<title>140397177584832-&gt;140397183418208</title>\n<path d=\"M232,-415.3799C232,-407.1745 232,-397.7679 232,-388.8786\" fill=\"none\" stroke=\"#000000\"/>\n<polygon fill=\"#000000\" points=\"235.5001,-388.784 232,-378.784 228.5001,-388.784 235.5001,-388.784\" stroke=\"#000000\"/>\n</g>\n<!-- 140397218972056 -->\n<g class=\"node\" id=\"node3\">\n<title>140397218972056</title>\n<polygon fill=\"none\" points=\"37.5,-249.5 37.5,-295.5 426.5,-295.5 426.5,-249.5 37.5,-249.5\" stroke=\"#000000\"/>\n<text fill=\"#000000\" font-family=\"Times,serif\" font-size=\"14.00\" text-anchor=\"middle\" x=\"148\" y=\"-268.8\">max_pooling1d_1: MaxPooling1D</text>\n<polyline fill=\"none\" points=\"258.5,-249.5 258.5,-295.5 \" stroke=\"#000000\"/>\n<text fill=\"#000000\" font-family=\"Times,serif\" font-size=\"14.00\" text-anchor=\"middle\" x=\"287.5\" y=\"-280.3\">input:</text>\n<polyline fill=\"none\" points=\"258.5,-272.5 316.5,-272.5 \" stroke=\"#000000\"/>\n<text fill=\"#000000\" font-family=\"Times,serif\" font-size=\"14.00\" text-anchor=\"middle\" x=\"287.5\" y=\"-257.3\">output:</text>\n<polyline fill=\"none\" points=\"316.5,-249.5 316.5,-295.5 \" stroke=\"#000000\"/>\n<text fill=\"#000000\" font-family=\"Times,serif\" font-size=\"14.00\" text-anchor=\"middle\" x=\"371.5\" y=\"-280.3\">(None, 494, 32)</text>\n<polyline fill=\"none\" points=\"316.5,-272.5 426.5,-272.5 \" stroke=\"#000000\"/>\n<text fill=\"#000000\" font-family=\"Times,serif\" font-size=\"14.00\" text-anchor=\"middle\" x=\"371.5\" y=\"-257.3\">(None, 98, 32)</text>\n</g>\n<!-- 140397183418208&#45;&gt;140397218972056 -->\n<g class=\"edge\" id=\"edge3\">\n<title>140397183418208-&gt;140397218972056</title>\n<path d=\"M232,-332.3799C232,-324.1745 232,-314.7679 232,-305.8786\" fill=\"none\" stroke=\"#000000\"/>\n<polygon fill=\"#000000\" points=\"235.5001,-305.784 232,-295.784 228.5001,-305.784 235.5001,-305.784\" stroke=\"#000000\"/>\n</g>\n<!-- 140397228813560 -->\n<g class=\"node\" id=\"node4\">\n<title>140397228813560</title>\n<polygon fill=\"none\" points=\"85.5,-166.5 85.5,-212.5 378.5,-212.5 378.5,-166.5 85.5,-166.5\" stroke=\"#000000\"/>\n<text fill=\"#000000\" font-family=\"Times,serif\" font-size=\"14.00\" text-anchor=\"middle\" x=\"152\" y=\"-185.8\">conv1d_2: Conv1D</text>\n<polyline fill=\"none\" points=\"218.5,-166.5 218.5,-212.5 \" stroke=\"#000000\"/>\n<text fill=\"#000000\" font-family=\"Times,serif\" font-size=\"14.00\" text-anchor=\"middle\" x=\"247.5\" y=\"-197.3\">input:</text>\n<polyline fill=\"none\" points=\"218.5,-189.5 276.5,-189.5 \" stroke=\"#000000\"/>\n<text fill=\"#000000\" font-family=\"Times,serif\" font-size=\"14.00\" text-anchor=\"middle\" x=\"247.5\" y=\"-174.3\">output:</text>\n<polyline fill=\"none\" points=\"276.5,-166.5 276.5,-212.5 \" stroke=\"#000000\"/>\n<text fill=\"#000000\" font-family=\"Times,serif\" font-size=\"14.00\" text-anchor=\"middle\" x=\"327.5\" y=\"-197.3\">(None, 98, 32)</text>\n<polyline fill=\"none\" points=\"276.5,-189.5 378.5,-189.5 \" stroke=\"#000000\"/>\n<text fill=\"#000000\" font-family=\"Times,serif\" font-size=\"14.00\" text-anchor=\"middle\" x=\"327.5\" y=\"-174.3\">(None, 92, 32)</text>\n</g>\n<!-- 140397218972056&#45;&gt;140397228813560 -->\n<g class=\"edge\" id=\"edge4\">\n<title>140397218972056-&gt;140397228813560</title>\n<path d=\"M232,-249.3799C232,-241.1745 232,-231.7679 232,-222.8786\" fill=\"none\" stroke=\"#000000\"/>\n<polygon fill=\"#000000\" points=\"235.5001,-222.784 232,-212.784 228.5001,-222.784 235.5001,-222.784\" stroke=\"#000000\"/>\n</g>\n<!-- 140397179012992 -->\n<g class=\"node\" id=\"node5\">\n<title>140397179012992</title>\n<polygon fill=\"none\" points=\"0,-83.5 0,-129.5 464,-129.5 464,-83.5 0,-83.5\" stroke=\"#000000\"/>\n<text fill=\"#000000\" font-family=\"Times,serif\" font-size=\"14.00\" text-anchor=\"middle\" x=\"152\" y=\"-102.8\">global_max_pooling1d_1: GlobalMaxPooling1D</text>\n<polyline fill=\"none\" points=\"304,-83.5 304,-129.5 \" stroke=\"#000000\"/>\n<text fill=\"#000000\" font-family=\"Times,serif\" font-size=\"14.00\" text-anchor=\"middle\" x=\"333\" y=\"-114.3\">input:</text>\n<polyline fill=\"none\" points=\"304,-106.5 362,-106.5 \" stroke=\"#000000\"/>\n<text fill=\"#000000\" font-family=\"Times,serif\" font-size=\"14.00\" text-anchor=\"middle\" x=\"333\" y=\"-91.3\">output:</text>\n<polyline fill=\"none\" points=\"362,-83.5 362,-129.5 \" stroke=\"#000000\"/>\n<text fill=\"#000000\" font-family=\"Times,serif\" font-size=\"14.00\" text-anchor=\"middle\" x=\"413\" y=\"-114.3\">(None, 92, 32)</text>\n<polyline fill=\"none\" points=\"362,-106.5 464,-106.5 \" stroke=\"#000000\"/>\n<text fill=\"#000000\" font-family=\"Times,serif\" font-size=\"14.00\" text-anchor=\"middle\" x=\"413\" y=\"-91.3\">(None, 32)</text>\n</g>\n<!-- 140397228813560&#45;&gt;140397179012992 -->\n<g class=\"edge\" id=\"edge5\">\n<title>140397228813560-&gt;140397179012992</title>\n<path d=\"M232,-166.3799C232,-158.1745 232,-148.7679 232,-139.8786\" fill=\"none\" stroke=\"#000000\"/>\n<polygon fill=\"#000000\" points=\"235.5001,-139.784 232,-129.784 228.5001,-139.784 235.5001,-139.784\" stroke=\"#000000\"/>\n</g>\n<!-- 140397218621424 -->\n<g class=\"node\" id=\"node6\">\n<title>140397218621424</title>\n<polygon fill=\"none\" points=\"109.5,-.5 109.5,-46.5 354.5,-46.5 354.5,-.5 109.5,-.5\" stroke=\"#000000\"/>\n<text fill=\"#000000\" font-family=\"Times,serif\" font-size=\"14.00\" text-anchor=\"middle\" x=\"163\" y=\"-19.8\">dense_1: Dense</text>\n<polyline fill=\"none\" points=\"216.5,-.5 216.5,-46.5 \" stroke=\"#000000\"/>\n<text fill=\"#000000\" font-family=\"Times,serif\" font-size=\"14.00\" text-anchor=\"middle\" x=\"245.5\" y=\"-31.3\">input:</text>\n<polyline fill=\"none\" points=\"216.5,-23.5 274.5,-23.5 \" stroke=\"#000000\"/>\n<text fill=\"#000000\" font-family=\"Times,serif\" font-size=\"14.00\" text-anchor=\"middle\" x=\"245.5\" y=\"-8.3\">output:</text>\n<polyline fill=\"none\" points=\"274.5,-.5 274.5,-46.5 \" stroke=\"#000000\"/>\n<text fill=\"#000000\" font-family=\"Times,serif\" font-size=\"14.00\" text-anchor=\"middle\" x=\"314.5\" y=\"-31.3\">(None, 32)</text>\n<polyline fill=\"none\" points=\"274.5,-23.5 354.5,-23.5 \" stroke=\"#000000\"/>\n<text fill=\"#000000\" font-family=\"Times,serif\" font-size=\"14.00\" text-anchor=\"middle\" x=\"314.5\" y=\"-8.3\">(None, 1)</text>\n</g>\n<!-- 140397179012992&#45;&gt;140397218621424 -->\n<g class=\"edge\" id=\"edge6\">\n<title>140397179012992-&gt;140397218621424</title>\n<path d=\"M232,-83.3799C232,-75.1745 232,-65.7679 232,-56.8786\" fill=\"none\" stroke=\"#000000\"/>\n<polygon fill=\"#000000\" points=\"235.5001,-56.784 232,-46.784 228.5001,-56.784 235.5001,-56.784\" stroke=\"#000000\"/>\n</g>\n<!-- 140397183230808 -->\n<g class=\"node\" id=\"node7\">\n<title>140397183230808</title>\n<polygon fill=\"none\" points=\"167.5,-498.5 167.5,-534.5 296.5,-534.5 296.5,-498.5 167.5,-498.5\" stroke=\"#000000\"/>\n<text fill=\"#000000\" font-family=\"Times,serif\" font-size=\"14.00\" text-anchor=\"middle\" x=\"232\" y=\"-512.8\">140397183230808</text>\n</g>\n<!-- 140397183230808&#45;&gt;140397177584832 -->\n<g class=\"edge\" id=\"edge1\">\n<title>140397183230808-&gt;140397177584832</title>\n<path d=\"M232,-498.4092C232,-490.4308 232,-480.795 232,-471.606\" fill=\"none\" stroke=\"#000000\"/>\n<polygon fill=\"#000000\" points=\"235.5001,-471.5333 232,-461.5333 228.5001,-471.5334 235.5001,-471.5333\" stroke=\"#000000\"/>\n</g>\n</g>\n</svg>"
          },
          "metadata": {
            "tags": []
          },
          "execution_count": 20
        }
      ]
    },
    {
      "metadata": {
        "id": "SI4nJ9HMIdsY",
        "colab_type": "code",
        "outputId": "cd35886a-c0b0-44de-e08c-be1c5e2d9bd4",
        "colab": {
          "base_uri": "https://localhost:8080/",
          "height": 34
        }
      },
      "cell_type": "code",
      "source": [
        "model_json = model.to_json()\n",
        "with open(\"imdb_cnn_model.json\", \"w\") as json_file:\n",
        "    json_file.write(model_json)\n",
        "# serialize weights to HDF5\n",
        "model.save_weights(\"imdb_cnn_model.h5\")\n",
        "print(\"Saved model to disk\")"
      ],
      "execution_count": 0,
      "outputs": [
        {
          "output_type": "stream",
          "text": [
            "Saved model to disk\n"
          ],
          "name": "stdout"
        }
      ]
    }
  ]
}