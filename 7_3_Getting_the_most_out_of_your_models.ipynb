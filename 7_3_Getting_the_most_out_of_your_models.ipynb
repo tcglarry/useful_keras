{
  "nbformat": 4,
  "nbformat_minor": 0,
  "metadata": {
    "colab": {
      "name": "7.3-Getting_the_most_out_of_your_models.ipynb",
      "version": "0.3.2",
      "provenance": [],
      "collapsed_sections": [],
      "include_colab_link": true
    },
    "kernelspec": {
      "name": "python3",
      "display_name": "Python 3"
    },
    "accelerator": "GPU"
  },
  "cells": [
    {
      "cell_type": "markdown",
      "metadata": {
        "id": "view-in-github",
        "colab_type": "text"
      },
      "source": [
        "<a href=\"https://colab.research.google.com/github/tcglarry/useful_keras/blob/master/7_3_Getting_the_most_out_of_your_models.ipynb\" target=\"_parent\"><img src=\"https://colab.research.google.com/assets/colab-badge.svg\" alt=\"Open In Colab\"/></a>"
      ]
    },
    {
      "metadata": {
        "id": "uBHic00A-j51",
        "colab_type": "text"
      },
      "cell_type": "markdown",
      "source": [
        "# 7.3 Getting the most out of your models \n",
        "## Chap 7 «Advanced Deep-learning best practices»\n",
        "## «Deep Learning with Python» book by François Chollet\n",
        "\n",
        "This notebook contains the code samples found in Chapter 7 of «Deep Learning with Python». Note that the original text features far more content, in particular further explanations and figures. \n",
        "\n",
        "修改與補充Claude COULOMBE的github :https://github.com/ClaudeCoulombe/deep-learning-with-python-notebooks (by Claude COULOMBE - PhD candidate - TÉLUQ / UQAM - Montréal.)"
      ]
    },
    {
      "metadata": {
        "id": "3hHC6NWB-j55",
        "colab_type": "code",
        "outputId": "47e0764d-c55d-476c-ea07-2005a3e13eb1",
        "colab": {
          "base_uri": "https://localhost:8080/",
          "height": 54
        }
      },
      "cell_type": "code",
      "source": [
        "# sudo pip3 install --ignore-installed --upgrade tensorflow\n",
        "from __future__ import print_function\n",
        "import tensorflow as tf\n",
        "import keras.backend.tensorflow_backend as KTF\n",
        "config = tf.ConfigProto()\n",
        "config.gpu_options.allow_growth = True\n",
        "session = tf.Session(config=config)\n",
        "KTF.set_session(session)\n",
        "import keras\n",
        "#import tensorflow as tf\n",
        "print(keras.__version__)\n",
        "print(tf.__version__)\n",
        "# To ignore keep_dims warning\n",
        "tf.logging.set_verbosity(tf.logging.ERROR)"
      ],
      "execution_count": 0,
      "outputs": [
        {
          "output_type": "stream",
          "text": [
            "2.2.4\n",
            "1.12.0\n"
          ],
          "name": "stdout"
        }
      ]
    },
    {
      "metadata": {
        "id": "ozweuJUQRRWI",
        "colab_type": "code",
        "outputId": "1c41bff5-1e8c-47e8-d3c4-a8cf34643d88",
        "colab": {
          "base_uri": "https://localhost:8080/",
          "height": 3492
        }
      },
      "cell_type": "code",
      "source": [
        "!pip install graphviz \n",
        "!apt-get install graphviz \n",
        "# Install pydot to visualize the network structure\n",
        "!pip install pydot\n",
        "!pip install pydot-ng\n",
        "\n",
        "#After fininishing the installation, you have to restart the colab runtime!!"
      ],
      "execution_count": 0,
      "outputs": [
        {
          "output_type": "stream",
          "text": [
            "Collecting graphviz\n",
            "  Downloading https://files.pythonhosted.org/packages/1f/e2/ef2581b5b86625657afd32030f90cf2717456c1d2b711ba074bf007c0f1a/graphviz-0.10.1-py2.py3-none-any.whl\n",
            "Installing collected packages: graphviz\n",
            "Successfully installed graphviz-0.10.1\n",
            "Reading package lists... Done\n",
            "Building dependency tree       \n",
            "Reading state information... Done\n",
            "The following additional packages will be installed:\n",
            "  fontconfig libann0 libcairo2 libcdt5 libcgraph6 libdatrie1 libgd3\n",
            "  libgts-0.7-5 libgts-bin libgvc6 libgvpr2 libjbig0 liblab-gamut1 libltdl7\n",
            "  libpango-1.0-0 libpangocairo-1.0-0 libpangoft2-1.0-0 libpathplan4\n",
            "  libpixman-1-0 libthai-data libthai0 libtiff5 libwebp6 libxaw7 libxcb-render0\n",
            "  libxcb-shm0 libxmu6 libxpm4 libxt6\n",
            "Suggested packages:\n",
            "  gsfonts graphviz-doc libgd-tools\n",
            "The following NEW packages will be installed:\n",
            "  fontconfig graphviz libann0 libcairo2 libcdt5 libcgraph6 libdatrie1 libgd3\n",
            "  libgts-0.7-5 libgts-bin libgvc6 libgvpr2 libjbig0 liblab-gamut1 libltdl7\n",
            "  libpango-1.0-0 libpangocairo-1.0-0 libpangoft2-1.0-0 libpathplan4\n",
            "  libpixman-1-0 libthai-data libthai0 libtiff5 libwebp6 libxaw7 libxcb-render0\n",
            "  libxcb-shm0 libxmu6 libxpm4 libxt6\n",
            "0 upgraded, 30 newly installed, 0 to remove and 8 not upgraded.\n",
            "Need to get 4,154 kB of archives.\n",
            "After this operation, 16.1 MB of additional disk space will be used.\n",
            "Get:1 http://archive.ubuntu.com/ubuntu bionic/main amd64 fontconfig amd64 2.12.6-0ubuntu2 [169 kB]\n",
            "Get:2 http://archive.ubuntu.com/ubuntu bionic/universe amd64 libann0 amd64 1.1.2+doc-6 [24.8 kB]\n",
            "Get:3 http://archive.ubuntu.com/ubuntu bionic/universe amd64 libcdt5 amd64 2.40.1-2 [19.6 kB]\n",
            "Get:4 http://archive.ubuntu.com/ubuntu bionic/universe amd64 libcgraph6 amd64 2.40.1-2 [40.8 kB]\n",
            "Get:5 http://archive.ubuntu.com/ubuntu bionic/main amd64 libjbig0 amd64 2.1-3.1build1 [26.7 kB]\n",
            "Get:6 http://archive.ubuntu.com/ubuntu bionic/main amd64 libtiff5 amd64 4.0.9-5 [152 kB]\n",
            "Get:7 http://archive.ubuntu.com/ubuntu bionic/main amd64 libwebp6 amd64 0.6.1-2 [185 kB]\n",
            "Get:8 http://archive.ubuntu.com/ubuntu bionic/main amd64 libxpm4 amd64 1:3.5.12-1 [34.0 kB]\n",
            "Get:9 http://archive.ubuntu.com/ubuntu bionic-updates/main amd64 libgd3 amd64 2.2.5-4ubuntu0.2 [119 kB]\n",
            "Get:10 http://archive.ubuntu.com/ubuntu bionic/universe amd64 libgts-0.7-5 amd64 0.7.6+darcs121130-4 [150 kB]\n",
            "Get:11 http://archive.ubuntu.com/ubuntu bionic/main amd64 libpixman-1-0 amd64 0.34.0-2 [229 kB]\n",
            "Get:12 http://archive.ubuntu.com/ubuntu bionic/main amd64 libxcb-render0 amd64 1.13-1 [14.7 kB]\n",
            "Get:13 http://archive.ubuntu.com/ubuntu bionic/main amd64 libxcb-shm0 amd64 1.13-1 [5,572 B]\n",
            "Get:14 http://archive.ubuntu.com/ubuntu bionic/main amd64 libcairo2 amd64 1.15.10-2 [580 kB]\n",
            "Get:15 http://archive.ubuntu.com/ubuntu bionic/main amd64 libltdl7 amd64 2.4.6-2 [38.8 kB]\n",
            "Get:16 http://archive.ubuntu.com/ubuntu bionic/main amd64 libthai-data all 0.1.27-2 [133 kB]\n",
            "Get:17 http://archive.ubuntu.com/ubuntu bionic/main amd64 libdatrie1 amd64 0.2.10-7 [17.8 kB]\n",
            "Get:18 http://archive.ubuntu.com/ubuntu bionic/main amd64 libthai0 amd64 0.1.27-2 [18.0 kB]\n",
            "Get:19 http://archive.ubuntu.com/ubuntu bionic-updates/main amd64 libpango-1.0-0 amd64 1.40.14-1ubuntu0.1 [153 kB]\n",
            "Get:20 http://archive.ubuntu.com/ubuntu bionic-updates/main amd64 libpangoft2-1.0-0 amd64 1.40.14-1ubuntu0.1 [33.2 kB]\n",
            "Get:21 http://archive.ubuntu.com/ubuntu bionic-updates/main amd64 libpangocairo-1.0-0 amd64 1.40.14-1ubuntu0.1 [20.8 kB]\n",
            "Get:22 http://archive.ubuntu.com/ubuntu bionic/universe amd64 libpathplan4 amd64 2.40.1-2 [22.6 kB]\n",
            "Get:23 http://archive.ubuntu.com/ubuntu bionic/universe amd64 libgvc6 amd64 2.40.1-2 [601 kB]\n",
            "Get:24 http://archive.ubuntu.com/ubuntu bionic/universe amd64 libgvpr2 amd64 2.40.1-2 [169 kB]\n",
            "Get:25 http://archive.ubuntu.com/ubuntu bionic/universe amd64 liblab-gamut1 amd64 2.40.1-2 [178 kB]\n",
            "Get:26 http://archive.ubuntu.com/ubuntu bionic/main amd64 libxt6 amd64 1:1.1.5-1 [160 kB]\n",
            "Get:27 http://archive.ubuntu.com/ubuntu bionic/main amd64 libxmu6 amd64 2:1.1.2-2 [46.0 kB]\n",
            "Get:28 http://archive.ubuntu.com/ubuntu bionic/main amd64 libxaw7 amd64 2:1.0.13-1 [173 kB]\n",
            "Get:29 http://archive.ubuntu.com/ubuntu bionic/universe amd64 graphviz amd64 2.40.1-2 [601 kB]\n",
            "Get:30 http://archive.ubuntu.com/ubuntu bionic/universe amd64 libgts-bin amd64 0.7.6+darcs121130-4 [41.3 kB]\n",
            "Fetched 4,154 kB in 3s (1,234 kB/s)\n",
            "Selecting previously unselected package fontconfig.\n",
            "(Reading database ... 26397 files and directories currently installed.)\n",
            "Preparing to unpack .../00-fontconfig_2.12.6-0ubuntu2_amd64.deb ...\n",
            "Unpacking fontconfig (2.12.6-0ubuntu2) ...\n",
            "Selecting previously unselected package libann0.\n",
            "Preparing to unpack .../01-libann0_1.1.2+doc-6_amd64.deb ...\n",
            "Unpacking libann0 (1.1.2+doc-6) ...\n",
            "Selecting previously unselected package libcdt5.\n",
            "Preparing to unpack .../02-libcdt5_2.40.1-2_amd64.deb ...\n",
            "Unpacking libcdt5 (2.40.1-2) ...\n",
            "Selecting previously unselected package libcgraph6.\n",
            "Preparing to unpack .../03-libcgraph6_2.40.1-2_amd64.deb ...\n",
            "Unpacking libcgraph6 (2.40.1-2) ...\n",
            "Selecting previously unselected package libjbig0:amd64.\n",
            "Preparing to unpack .../04-libjbig0_2.1-3.1build1_amd64.deb ...\n",
            "Unpacking libjbig0:amd64 (2.1-3.1build1) ...\n",
            "Selecting previously unselected package libtiff5:amd64.\n",
            "Preparing to unpack .../05-libtiff5_4.0.9-5_amd64.deb ...\n",
            "Unpacking libtiff5:amd64 (4.0.9-5) ...\n",
            "Selecting previously unselected package libwebp6:amd64.\n",
            "Preparing to unpack .../06-libwebp6_0.6.1-2_amd64.deb ...\n",
            "Unpacking libwebp6:amd64 (0.6.1-2) ...\n",
            "Selecting previously unselected package libxpm4:amd64.\n",
            "Preparing to unpack .../07-libxpm4_1%3a3.5.12-1_amd64.deb ...\n",
            "Unpacking libxpm4:amd64 (1:3.5.12-1) ...\n",
            "Selecting previously unselected package libgd3:amd64.\n",
            "Preparing to unpack .../08-libgd3_2.2.5-4ubuntu0.2_amd64.deb ...\n",
            "Unpacking libgd3:amd64 (2.2.5-4ubuntu0.2) ...\n",
            "Selecting previously unselected package libgts-0.7-5:amd64.\n",
            "Preparing to unpack .../09-libgts-0.7-5_0.7.6+darcs121130-4_amd64.deb ...\n",
            "Unpacking libgts-0.7-5:amd64 (0.7.6+darcs121130-4) ...\n",
            "Selecting previously unselected package libpixman-1-0:amd64.\n",
            "Preparing to unpack .../10-libpixman-1-0_0.34.0-2_amd64.deb ...\n",
            "Unpacking libpixman-1-0:amd64 (0.34.0-2) ...\n",
            "Selecting previously unselected package libxcb-render0:amd64.\n",
            "Preparing to unpack .../11-libxcb-render0_1.13-1_amd64.deb ...\n",
            "Unpacking libxcb-render0:amd64 (1.13-1) ...\n",
            "Selecting previously unselected package libxcb-shm0:amd64.\n",
            "Preparing to unpack .../12-libxcb-shm0_1.13-1_amd64.deb ...\n",
            "Unpacking libxcb-shm0:amd64 (1.13-1) ...\n",
            "Selecting previously unselected package libcairo2:amd64.\n",
            "Preparing to unpack .../13-libcairo2_1.15.10-2_amd64.deb ...\n",
            "Unpacking libcairo2:amd64 (1.15.10-2) ...\n",
            "Selecting previously unselected package libltdl7:amd64.\n",
            "Preparing to unpack .../14-libltdl7_2.4.6-2_amd64.deb ...\n",
            "Unpacking libltdl7:amd64 (2.4.6-2) ...\n",
            "Selecting previously unselected package libthai-data.\n",
            "Preparing to unpack .../15-libthai-data_0.1.27-2_all.deb ...\n",
            "Unpacking libthai-data (0.1.27-2) ...\n",
            "Selecting previously unselected package libdatrie1:amd64.\n",
            "Preparing to unpack .../16-libdatrie1_0.2.10-7_amd64.deb ...\n",
            "Unpacking libdatrie1:amd64 (0.2.10-7) ...\n",
            "Selecting previously unselected package libthai0:amd64.\n",
            "Preparing to unpack .../17-libthai0_0.1.27-2_amd64.deb ...\n",
            "Unpacking libthai0:amd64 (0.1.27-2) ...\n",
            "Selecting previously unselected package libpango-1.0-0:amd64.\n",
            "Preparing to unpack .../18-libpango-1.0-0_1.40.14-1ubuntu0.1_amd64.deb ...\n",
            "Unpacking libpango-1.0-0:amd64 (1.40.14-1ubuntu0.1) ...\n",
            "Selecting previously unselected package libpangoft2-1.0-0:amd64.\n",
            "Preparing to unpack .../19-libpangoft2-1.0-0_1.40.14-1ubuntu0.1_amd64.deb ...\n",
            "Unpacking libpangoft2-1.0-0:amd64 (1.40.14-1ubuntu0.1) ...\n",
            "Selecting previously unselected package libpangocairo-1.0-0:amd64.\n",
            "Preparing to unpack .../20-libpangocairo-1.0-0_1.40.14-1ubuntu0.1_amd64.deb ...\n",
            "Unpacking libpangocairo-1.0-0:amd64 (1.40.14-1ubuntu0.1) ...\n",
            "Selecting previously unselected package libpathplan4.\n",
            "Preparing to unpack .../21-libpathplan4_2.40.1-2_amd64.deb ...\n",
            "Unpacking libpathplan4 (2.40.1-2) ...\n",
            "Selecting previously unselected package libgvc6.\n",
            "Preparing to unpack .../22-libgvc6_2.40.1-2_amd64.deb ...\n",
            "Unpacking libgvc6 (2.40.1-2) ...\n",
            "Selecting previously unselected package libgvpr2.\n",
            "Preparing to unpack .../23-libgvpr2_2.40.1-2_amd64.deb ...\n",
            "Unpacking libgvpr2 (2.40.1-2) ...\n",
            "Selecting previously unselected package liblab-gamut1.\n",
            "Preparing to unpack .../24-liblab-gamut1_2.40.1-2_amd64.deb ...\n",
            "Unpacking liblab-gamut1 (2.40.1-2) ...\n",
            "Selecting previously unselected package libxt6:amd64.\n",
            "Preparing to unpack .../25-libxt6_1%3a1.1.5-1_amd64.deb ...\n",
            "Unpacking libxt6:amd64 (1:1.1.5-1) ...\n",
            "Selecting previously unselected package libxmu6:amd64.\n",
            "Preparing to unpack .../26-libxmu6_2%3a1.1.2-2_amd64.deb ...\n",
            "Unpacking libxmu6:amd64 (2:1.1.2-2) ...\n",
            "Selecting previously unselected package libxaw7:amd64.\n",
            "Preparing to unpack .../27-libxaw7_2%3a1.0.13-1_amd64.deb ...\n",
            "Unpacking libxaw7:amd64 (2:1.0.13-1) ...\n",
            "Selecting previously unselected package graphviz.\n",
            "Preparing to unpack .../28-graphviz_2.40.1-2_amd64.deb ...\n",
            "Unpacking graphviz (2.40.1-2) ...\n",
            "Selecting previously unselected package libgts-bin.\n",
            "Preparing to unpack .../29-libgts-bin_0.7.6+darcs121130-4_amd64.deb ...\n",
            "Unpacking libgts-bin (0.7.6+darcs121130-4) ...\n",
            "Setting up libgts-0.7-5:amd64 (0.7.6+darcs121130-4) ...\n",
            "Setting up libpathplan4 (2.40.1-2) ...\n",
            "Setting up liblab-gamut1 (2.40.1-2) ...\n",
            "Setting up libxcb-render0:amd64 (1.13-1) ...\n",
            "Setting up libjbig0:amd64 (2.1-3.1build1) ...\n",
            "Setting up libdatrie1:amd64 (0.2.10-7) ...\n",
            "Setting up libtiff5:amd64 (4.0.9-5) ...\n",
            "Setting up libpixman-1-0:amd64 (0.34.0-2) ...\n",
            "Processing triggers for libc-bin (2.27-3ubuntu1) ...\n",
            "Setting up libltdl7:amd64 (2.4.6-2) ...\n",
            "Setting up libann0 (1.1.2+doc-6) ...\n",
            "Setting up libxcb-shm0:amd64 (1.13-1) ...\n",
            "Setting up libxpm4:amd64 (1:3.5.12-1) ...\n",
            "Setting up libxt6:amd64 (1:1.1.5-1) ...\n",
            "Processing triggers for man-db (2.8.3-2ubuntu0.1) ...\n",
            "Setting up libgts-bin (0.7.6+darcs121130-4) ...\n",
            "Setting up libthai-data (0.1.27-2) ...\n",
            "Setting up libcdt5 (2.40.1-2) ...\n",
            "Setting up fontconfig (2.12.6-0ubuntu2) ...\n",
            "Regenerating fonts cache... done.\n",
            "Setting up libcgraph6 (2.40.1-2) ...\n",
            "Setting up libwebp6:amd64 (0.6.1-2) ...\n",
            "Setting up libcairo2:amd64 (1.15.10-2) ...\n",
            "Setting up libgvpr2 (2.40.1-2) ...\n",
            "Setting up libgd3:amd64 (2.2.5-4ubuntu0.2) ...\n",
            "Setting up libthai0:amd64 (0.1.27-2) ...\n",
            "Setting up libxmu6:amd64 (2:1.1.2-2) ...\n",
            "Setting up libpango-1.0-0:amd64 (1.40.14-1ubuntu0.1) ...\n",
            "Setting up libxaw7:amd64 (2:1.0.13-1) ...\n",
            "Setting up libpangoft2-1.0-0:amd64 (1.40.14-1ubuntu0.1) ...\n",
            "Setting up libpangocairo-1.0-0:amd64 (1.40.14-1ubuntu0.1) ...\n",
            "Setting up libgvc6 (2.40.1-2) ...\n",
            "Setting up graphviz (2.40.1-2) ...\n",
            "Processing triggers for libc-bin (2.27-3ubuntu1) ...\n",
            "Collecting pydot\n",
            "  Downloading https://files.pythonhosted.org/packages/53/11/9db5c788f5ad05438b7c2a07fd7edd9820b7f3d95bb0690a16f7bf426204/pydot-1.4.0-py2.py3-none-any.whl\n",
            "Requirement already satisfied: pyparsing>=2.1.4 in /usr/local/lib/python3.6/dist-packages (from pydot) (2.3.0)\n",
            "Installing collected packages: pydot\n",
            "Successfully installed pydot-1.4.0\n",
            "Collecting pydot-ng\n",
            "  Downloading https://files.pythonhosted.org/packages/3c/5b/9a08333f2d70d404ffe42cea4f50159c4ad94feaa4d7585551c05cacef46/pydot_ng-2.0.0-py2.py3-none-any.whl\n",
            "Requirement already satisfied: pyparsing>=2.0.1 in /usr/local/lib/python3.6/dist-packages (from pydot-ng) (2.3.0)\n",
            "Installing collected packages: pydot-ng\n",
            "Successfully installed pydot-ng-2.0.0\n"
          ],
          "name": "stdout"
        }
      ]
    },
    {
      "metadata": {
        "collapsed": true,
        "id": "RosbCio0-j6I",
        "colab_type": "text"
      },
      "cell_type": "markdown",
      "source": [
        "## 7.3. Getting the most out of your models\n",
        "\n",
        "In this section, we’ll go beyond “works okay” to “works great and wins machine-learning competitions” by offering you a quick guide to a set of must-know techniques for building state-of-the-art deep-learning models. "
      ]
    },
    {
      "metadata": {
        "id": "cHmdlAFn-j6K",
        "colab_type": "text"
      },
      "cell_type": "markdown",
      "source": [
        "### 7.3.1. Advanced architecture patterns \n",
        "\n",
        "We covered one important design pattern in detail in the previous section: residual connections. There are two more design patterns you should know about: normalization and depthwise separable convolution. "
      ]
    },
    {
      "metadata": {
        "id": "0t_2j_Lu-j6N",
        "colab_type": "text"
      },
      "cell_type": "markdown",
      "source": [
        "#### Normalization\n",
        "\n",
        "<i>Normalization</i> is a broad category of methods that seek to make different samples seen by a machine-learning model more similar to each other, which helps the model learn and generalize well to new data. The most common form of data normalization is one you’ve seen several times in this book already: centering the data on 0 by subtracting the mean from the data, and giving the data a unit standard deviation by dividing the data by its standard deviation based on the assumption that the data follows a normal (or Gaussian) distribution:\n",
        "\n",
        "```Python\n",
        "    normalized_data = (data - np.mean(data, axis=...)) / np.std(data, axis=...)\n",
        "```\n",
        "\n",
        "#### Batch normalization \n",
        "\n",
        "Data normalization should be a concern after every transformation operated by the network: even if the data entering a Dense or Conv2D network has a 0 mean and unit variance, there’s no reason to expect a priori that this will be the case for the data coming out. \n",
        "\n",
        "<i>Batch normalization</i> is a type of layer (`BatchNormalization` in Keras) introduced in 2015 by Ioffe and Szegedy that can adaptively normalize data even as the mean and variance change over time during training. It works by internally maintaining an exponential moving average of the batch-wise mean and variance of the data seen during training. The main effect of batch normalization is that it helps with gradient propagation and allows deeper networks. For instance, BatchNormalization is used liberally in many of the advanced convnet architectures that come packaged with Keras, such as ResNet50, Inception V3, and Xception.  \n",
        "\n",
        "The `BatchNormalization` layer is typically used after a convolutional or densely connected layer:\n",
        "\n",
        "```Python\n",
        "    conv_model.add(layers.Conv2D(32, 3, activation='relu'))\n",
        "    # Batch normalization used after a Conv layer\n",
        "    conv_model.add(layers.BatchNormalization())\n",
        "\n",
        "    dense_model.add(layers.Dense(32, activation='relu'))\n",
        "    # Batch normalization used after a Dense layer\n",
        "    dense_model.add(layers.BatchNormalization())\n",
        "```\n",
        "The `BatchNormalization` layer takes an axis argument, which specifies the feature axis that should be normalized. This argument defaults to -1, the last axis in the input tensor. This is the correct value when using Dense layers, Conv1D layers, RNN layers, and Conv2D layers with data_format set to \"channels_last\". But in the niche use case of Conv2D layers with data_format set to \"channels_first\", the features axis is axis 1; the axis argument in BatchNormalization should accordingly be set to 1."
      ]
    },
    {
      "metadata": {
        "id": "8brFj4yO-j6Q",
        "colab_type": "text"
      },
      "cell_type": "markdown",
      "source": [
        "#### Batch renormalization \n",
        "A recent improvement over regular batch normalization is batch renormalization, introduced by Ioffe in 2017. It offers clears benefits over batch normalization, at no apparent cost. At the time of writing, it’s too early to tell whether it will supplant batch normalization. Even more recently, Klambauer et al. introduced self-normalizing neural networks,which manage to keep data normalized after going through any Dense layer by using a specific activation function (`selu`) and a specific initializer (`lecun_normal`). This scheme, although highly interesting, is limited to densely connected networks for now, and its usefulness hasn’t yet been broadly replicated."
      ]
    },
    {
      "metadata": {
        "id": "rYNwchcC-j6U",
        "colab_type": "text"
      },
      "cell_type": "markdown",
      "source": [
        "#### Depthwise separable convolution \n",
        "<i>Depthwise separable convolution layer</i> can make a model lighter (fewer trainable weight parameters) and faster (fewer floating-point operations) and cause it to perform a few percentage points better on its task. The For example, SeparableConv2D layer performs a spatial convolution on each channel of its input, independently, before mixing output channels via a pointwise convolution (a 1 × 1 convolution). This is equivalent to separating the learning of spatial features and the learning of channel-wise features. It requires significantly fewer parameters and involves fewer computations, thus resulting in smaller, speedier models. And because it’s a more representationally efficient way to perform convolution, it tends to learn better representations using less data, resulting in better-performing models. \n",
        "\n",
        "These advantages become especially important when you’re training small models from scratch on limited data. For instance, here’s how you can build a lightweight, depthwise separable convnet for an image-classification task (softmax categorical classification) on a small dataset:\n",
        "\n",
        "When it comes to larger-scale models, depthwise separable convolutions are the basis of the Xception architecture, a high-performing convnet that comes packaged with Keras. "
      ]
    },
    {
      "metadata": {
        "id": "-Wi9V_Fr-j6V",
        "colab_type": "text"
      },
      "cell_type": "markdown",
      "source": [
        "#### Training a Depthwise separable convolution\n",
        "#####  on the CIFAR10 dataset\n",
        "![alt text](https://storage.googleapis.com/kaggle-competitions/kaggle/3649/logos/front_page.png)\n",
        "\n",
        "The original code above requires an imges dataset in the format 64 height x 64 width x 3 channels. Furthermore, in order to work, depthwise separable convolution needs multichannel data, so MNIST dataset is not appropriate (28x28x1) since that has only one channel. Fortunately, KERAS has the CIFAR10 dataset which is in the format (32x32x3), so 3 channels. \n",
        "\n",
        "Therefore, we will adapt a code example from the KERAS GitHub repo: https://github.com/keras-team/keras/blob/master/examples/mnist_cnn.py"
      ]
    },
    {
      "metadata": {
        "id": "kmFFkgCG-j6Z",
        "colab_type": "code",
        "outputId": "3ce788e9-6e3a-4986-c13c-eba23af27cc7",
        "colab": {
          "base_uri": "https://localhost:8080/",
          "height": 100
        }
      },
      "cell_type": "code",
      "source": [
        "# https://github.com/keras-team/keras/blob/master/examples/mnist_cnn.py\n",
        "\n",
        "'''Trains a Depthwise separable convolution on the CIFAR10 dataset.\n",
        "'''\n",
        "\n",
        "\n",
        "import keras\n",
        "from keras.datasets import cifar10\n",
        "from keras.models import Sequential\n",
        "from keras import layers\n",
        "from keras.layers import Dense, Dropout, Flatten\n",
        "from keras.layers import Conv2D, MaxPooling2D\n",
        "from keras import backend as K\n",
        "\n",
        "batch_size = 128\n",
        "num_classes = 10\n",
        "epochs = 50\n",
        "\n",
        "# input image dimensions\n",
        "img_height = 32\n",
        "img_width = 32\n",
        "channels = 3\n",
        "\n",
        "# the data, split between train and test sets\n",
        "(x_train, y_train), (x_test, y_test) = cifar10.load_data()\n",
        "print('x_train shape:', x_train.shape)\n",
        "print (K.image_data_format())\n",
        "\n",
        "\n",
        "x_train = x_train.astype('float32')\n",
        "x_test = x_test.astype('float32')\n",
        "x_train = x_train/255\n",
        "x_test = x_test/255\n",
        "\n",
        "print(x_train.shape[0], 'train samples')\n",
        "print(x_test.shape[0], 'test samples')\n",
        "\n",
        "# convert class vectors to binary class matrices\n",
        "y_train = keras.utils.to_categorical(y_train, num_classes)\n",
        "y_test = keras.utils.to_categorical(y_test, num_classes)\n",
        "\n",
        "model_a = Sequential()\n",
        "model_a.add(layers.SeparableConv2D(32, 3,\n",
        "                                 activation='relu',\n",
        "                                 input_shape=(img_height, img_width, channels,))) \n",
        "model_a.add(layers.BatchNormalization())\n",
        "model_a.add(layers.SeparableConv2D(64, 3, activation='relu'))\n",
        "model_a.add(layers.BatchNormalization())\n",
        "model_a.add(layers.MaxPooling2D(2))\n",
        "model_a.add(Dropout(0.25))\n",
        "model_a.add(layers.SeparableConv2D(64, 3, activation='relu'))\n",
        "model_a.add(layers.BatchNormalization())\n",
        "model_a.add(layers.SeparableConv2D(128, 3, activation='relu'))\n",
        "model_a.add(layers.BatchNormalization())\n",
        "model_a.add(layers.MaxPooling2D(2)) \n",
        "model_a.add(Dropout(0.25))\n",
        "model_a.add(layers.SeparableConv2D(64, 3, activation='relu')) \n",
        "model_a.add(layers.BatchNormalization())\n",
        "model_a.add(layers.SeparableConv2D(128, 3, activation='relu'))\n",
        "model_a.add(layers.BatchNormalization())\n",
        "model_a.add(layers.GlobalAveragePooling2D())\n",
        "model_a.add(layers.Dense(32, activation='relu'))\n",
        "model_a.add(layers.BatchNormalization())\n",
        "model_a.add(Dropout(0.5))\n",
        "model_a.add(layers.Dense(num_classes, activation='softmax')) "
      ],
      "execution_count": 0,
      "outputs": [
        {
          "output_type": "stream",
          "text": [
            "x_train shape: (50000, 32, 32, 3)\n",
            "channels_last\n",
            "50000 train samples\n",
            "10000 test samples\n"
          ],
          "name": "stdout"
        }
      ]
    },
    {
      "metadata": {
        "id": "TWh0ok2t-j6h",
        "colab_type": "code",
        "outputId": "02bf226b-4ab1-4434-9617-6ee382ddecfc",
        "colab": {
          "base_uri": "https://localhost:8080/",
          "height": 3435
        }
      },
      "cell_type": "code",
      "source": [
        "model_a.summary()\n",
        "from keras.utils import plot_model \n",
        "plot_model(model_a, to_file='model.png')\n",
        "\n",
        "from IPython.display import SVG\n",
        "from keras.utils.vis_utils import model_to_dot\n",
        "\n",
        "SVG(model_to_dot(model_a,show_shapes=True).create(prog='dot', format='svg'))"
      ],
      "execution_count": 0,
      "outputs": [
        {
          "output_type": "stream",
          "text": [
            "_________________________________________________________________\n",
            "Layer (type)                 Output Shape              Param #   \n",
            "=================================================================\n",
            "separable_conv2d_1 (Separabl (None, 30, 30, 32)        155       \n",
            "_________________________________________________________________\n",
            "batch_normalization_1 (Batch (None, 30, 30, 32)        128       \n",
            "_________________________________________________________________\n",
            "separable_conv2d_2 (Separabl (None, 28, 28, 64)        2400      \n",
            "_________________________________________________________________\n",
            "batch_normalization_2 (Batch (None, 28, 28, 64)        256       \n",
            "_________________________________________________________________\n",
            "max_pooling2d_1 (MaxPooling2 (None, 14, 14, 64)        0         \n",
            "_________________________________________________________________\n",
            "dropout_1 (Dropout)          (None, 14, 14, 64)        0         \n",
            "_________________________________________________________________\n",
            "separable_conv2d_3 (Separabl (None, 12, 12, 64)        4736      \n",
            "_________________________________________________________________\n",
            "batch_normalization_3 (Batch (None, 12, 12, 64)        256       \n",
            "_________________________________________________________________\n",
            "separable_conv2d_4 (Separabl (None, 10, 10, 128)       8896      \n",
            "_________________________________________________________________\n",
            "batch_normalization_4 (Batch (None, 10, 10, 128)       512       \n",
            "_________________________________________________________________\n",
            "max_pooling2d_2 (MaxPooling2 (None, 5, 5, 128)         0         \n",
            "_________________________________________________________________\n",
            "dropout_2 (Dropout)          (None, 5, 5, 128)         0         \n",
            "_________________________________________________________________\n",
            "separable_conv2d_5 (Separabl (None, 3, 3, 64)          9408      \n",
            "_________________________________________________________________\n",
            "batch_normalization_5 (Batch (None, 3, 3, 64)          256       \n",
            "_________________________________________________________________\n",
            "separable_conv2d_6 (Separabl (None, 1, 1, 128)         8896      \n",
            "_________________________________________________________________\n",
            "batch_normalization_6 (Batch (None, 1, 1, 128)         512       \n",
            "_________________________________________________________________\n",
            "global_average_pooling2d_1 ( (None, 128)               0         \n",
            "_________________________________________________________________\n",
            "dense_1 (Dense)              (None, 32)                4128      \n",
            "_________________________________________________________________\n",
            "batch_normalization_7 (Batch (None, 32)                128       \n",
            "_________________________________________________________________\n",
            "dropout_3 (Dropout)          (None, 32)                0         \n",
            "_________________________________________________________________\n",
            "dense_2 (Dense)              (None, 10)                330       \n",
            "=================================================================\n",
            "Total params: 40,997\n",
            "Trainable params: 39,973\n",
            "Non-trainable params: 1,024\n",
            "_________________________________________________________________\n"
          ],
          "name": "stdout"
        },
        {
          "output_type": "execute_result",
          "data": {
            "text/plain": [
              "<IPython.core.display.SVG object>"
            ],
            "image/svg+xml": "<svg height=\"1788pt\" viewBox=\"0.00 0.00 527.00 1788.00\" width=\"527pt\" xmlns=\"http://www.w3.org/2000/svg\" xmlns:xlink=\"http://www.w3.org/1999/xlink\">\n<g class=\"graph\" id=\"graph0\" transform=\"scale(1 1) rotate(0) translate(4 1784)\">\n<title>G</title>\n<polygon fill=\"#ffffff\" points=\"-4,4 -4,-1784 523,-1784 523,4 -4,4\" stroke=\"transparent\"/>\n<!-- 140068496967664 -->\n<g class=\"node\" id=\"node1\">\n<title>140068496967664</title>\n<polygon fill=\"none\" points=\"44,-1660.5 44,-1706.5 475,-1706.5 475,-1660.5 44,-1660.5\" stroke=\"#000000\"/>\n<text fill=\"#000000\" font-family=\"Times,serif\" font-size=\"14.00\" text-anchor=\"middle\" x=\"168\" y=\"-1679.8\">separable_conv2d_1: SeparableConv2D</text>\n<polyline fill=\"none\" points=\"292,-1660.5 292,-1706.5 \" stroke=\"#000000\"/>\n<text fill=\"#000000\" font-family=\"Times,serif\" font-size=\"14.00\" text-anchor=\"middle\" x=\"321\" y=\"-1691.3\">input:</text>\n<polyline fill=\"none\" points=\"292,-1683.5 350,-1683.5 \" stroke=\"#000000\"/>\n<text fill=\"#000000\" font-family=\"Times,serif\" font-size=\"14.00\" text-anchor=\"middle\" x=\"321\" y=\"-1668.3\">output:</text>\n<polyline fill=\"none\" points=\"350,-1660.5 350,-1706.5 \" stroke=\"#000000\"/>\n<text fill=\"#000000\" font-family=\"Times,serif\" font-size=\"14.00\" text-anchor=\"middle\" x=\"412.5\" y=\"-1691.3\">(None, 32, 32, 3)</text>\n<polyline fill=\"none\" points=\"350,-1683.5 475,-1683.5 \" stroke=\"#000000\"/>\n<text fill=\"#000000\" font-family=\"Times,serif\" font-size=\"14.00\" text-anchor=\"middle\" x=\"412.5\" y=\"-1668.3\">(None, 30, 30, 32)</text>\n</g>\n<!-- 140068496967440 -->\n<g class=\"node\" id=\"node2\">\n<title>140068496967440</title>\n<polygon fill=\"none\" points=\"32.5,-1577.5 32.5,-1623.5 486.5,-1623.5 486.5,-1577.5 32.5,-1577.5\" stroke=\"#000000\"/>\n<text fill=\"#000000\" font-family=\"Times,serif\" font-size=\"14.00\" text-anchor=\"middle\" x=\"168\" y=\"-1596.8\">batch_normalization_1: BatchNormalization</text>\n<polyline fill=\"none\" points=\"303.5,-1577.5 303.5,-1623.5 \" stroke=\"#000000\"/>\n<text fill=\"#000000\" font-family=\"Times,serif\" font-size=\"14.00\" text-anchor=\"middle\" x=\"332.5\" y=\"-1608.3\">input:</text>\n<polyline fill=\"none\" points=\"303.5,-1600.5 361.5,-1600.5 \" stroke=\"#000000\"/>\n<text fill=\"#000000\" font-family=\"Times,serif\" font-size=\"14.00\" text-anchor=\"middle\" x=\"332.5\" y=\"-1585.3\">output:</text>\n<polyline fill=\"none\" points=\"361.5,-1577.5 361.5,-1623.5 \" stroke=\"#000000\"/>\n<text fill=\"#000000\" font-family=\"Times,serif\" font-size=\"14.00\" text-anchor=\"middle\" x=\"424\" y=\"-1608.3\">(None, 30, 30, 32)</text>\n<polyline fill=\"none\" points=\"361.5,-1600.5 486.5,-1600.5 \" stroke=\"#000000\"/>\n<text fill=\"#000000\" font-family=\"Times,serif\" font-size=\"14.00\" text-anchor=\"middle\" x=\"424\" y=\"-1585.3\">(None, 30, 30, 32)</text>\n</g>\n<!-- 140068496967664&#45;&gt;140068496967440 -->\n<g class=\"edge\" id=\"edge2\">\n<title>140068496967664-&gt;140068496967440</title>\n<path d=\"M259.5,-1660.3799C259.5,-1652.1745 259.5,-1642.7679 259.5,-1633.8786\" fill=\"none\" stroke=\"#000000\"/>\n<polygon fill=\"#000000\" points=\"263.0001,-1633.784 259.5,-1623.784 256.0001,-1633.784 263.0001,-1633.784\" stroke=\"#000000\"/>\n</g>\n<!-- 140068496968168 -->\n<g class=\"node\" id=\"node3\">\n<title>140068496968168</title>\n<polygon fill=\"none\" points=\"44,-1494.5 44,-1540.5 475,-1540.5 475,-1494.5 44,-1494.5\" stroke=\"#000000\"/>\n<text fill=\"#000000\" font-family=\"Times,serif\" font-size=\"14.00\" text-anchor=\"middle\" x=\"168\" y=\"-1513.8\">separable_conv2d_2: SeparableConv2D</text>\n<polyline fill=\"none\" points=\"292,-1494.5 292,-1540.5 \" stroke=\"#000000\"/>\n<text fill=\"#000000\" font-family=\"Times,serif\" font-size=\"14.00\" text-anchor=\"middle\" x=\"321\" y=\"-1525.3\">input:</text>\n<polyline fill=\"none\" points=\"292,-1517.5 350,-1517.5 \" stroke=\"#000000\"/>\n<text fill=\"#000000\" font-family=\"Times,serif\" font-size=\"14.00\" text-anchor=\"middle\" x=\"321\" y=\"-1502.3\">output:</text>\n<polyline fill=\"none\" points=\"350,-1494.5 350,-1540.5 \" stroke=\"#000000\"/>\n<text fill=\"#000000\" font-family=\"Times,serif\" font-size=\"14.00\" text-anchor=\"middle\" x=\"412.5\" y=\"-1525.3\">(None, 30, 30, 32)</text>\n<polyline fill=\"none\" points=\"350,-1517.5 475,-1517.5 \" stroke=\"#000000\"/>\n<text fill=\"#000000\" font-family=\"Times,serif\" font-size=\"14.00\" text-anchor=\"middle\" x=\"412.5\" y=\"-1502.3\">(None, 28, 28, 64)</text>\n</g>\n<!-- 140068496967440&#45;&gt;140068496968168 -->\n<g class=\"edge\" id=\"edge3\">\n<title>140068496967440-&gt;140068496968168</title>\n<path d=\"M259.5,-1577.3799C259.5,-1569.1745 259.5,-1559.7679 259.5,-1550.8786\" fill=\"none\" stroke=\"#000000\"/>\n<polygon fill=\"#000000\" points=\"263.0001,-1550.784 259.5,-1540.784 256.0001,-1550.784 263.0001,-1550.784\" stroke=\"#000000\"/>\n</g>\n<!-- 140068496968392 -->\n<g class=\"node\" id=\"node4\">\n<title>140068496968392</title>\n<polygon fill=\"none\" points=\"32.5,-1411.5 32.5,-1457.5 486.5,-1457.5 486.5,-1411.5 32.5,-1411.5\" stroke=\"#000000\"/>\n<text fill=\"#000000\" font-family=\"Times,serif\" font-size=\"14.00\" text-anchor=\"middle\" x=\"168\" y=\"-1430.8\">batch_normalization_2: BatchNormalization</text>\n<polyline fill=\"none\" points=\"303.5,-1411.5 303.5,-1457.5 \" stroke=\"#000000\"/>\n<text fill=\"#000000\" font-family=\"Times,serif\" font-size=\"14.00\" text-anchor=\"middle\" x=\"332.5\" y=\"-1442.3\">input:</text>\n<polyline fill=\"none\" points=\"303.5,-1434.5 361.5,-1434.5 \" stroke=\"#000000\"/>\n<text fill=\"#000000\" font-family=\"Times,serif\" font-size=\"14.00\" text-anchor=\"middle\" x=\"332.5\" y=\"-1419.3\">output:</text>\n<polyline fill=\"none\" points=\"361.5,-1411.5 361.5,-1457.5 \" stroke=\"#000000\"/>\n<text fill=\"#000000\" font-family=\"Times,serif\" font-size=\"14.00\" text-anchor=\"middle\" x=\"424\" y=\"-1442.3\">(None, 28, 28, 64)</text>\n<polyline fill=\"none\" points=\"361.5,-1434.5 486.5,-1434.5 \" stroke=\"#000000\"/>\n<text fill=\"#000000\" font-family=\"Times,serif\" font-size=\"14.00\" text-anchor=\"middle\" x=\"424\" y=\"-1419.3\">(None, 28, 28, 64)</text>\n</g>\n<!-- 140068496968168&#45;&gt;140068496968392 -->\n<g class=\"edge\" id=\"edge4\">\n<title>140068496968168-&gt;140068496968392</title>\n<path d=\"M259.5,-1494.3799C259.5,-1486.1745 259.5,-1476.7679 259.5,-1467.8786\" fill=\"none\" stroke=\"#000000\"/>\n<polygon fill=\"#000000\" points=\"263.0001,-1467.784 259.5,-1457.784 256.0001,-1467.784 263.0001,-1467.784\" stroke=\"#000000\"/>\n</g>\n<!-- 140068387083824 -->\n<g class=\"node\" id=\"node5\">\n<title>140068387083824</title>\n<polygon fill=\"none\" points=\"57.5,-1328.5 57.5,-1374.5 461.5,-1374.5 461.5,-1328.5 57.5,-1328.5\" stroke=\"#000000\"/>\n<text fill=\"#000000\" font-family=\"Times,serif\" font-size=\"14.00\" text-anchor=\"middle\" x=\"168\" y=\"-1347.8\">max_pooling2d_1: MaxPooling2D</text>\n<polyline fill=\"none\" points=\"278.5,-1328.5 278.5,-1374.5 \" stroke=\"#000000\"/>\n<text fill=\"#000000\" font-family=\"Times,serif\" font-size=\"14.00\" text-anchor=\"middle\" x=\"307.5\" y=\"-1359.3\">input:</text>\n<polyline fill=\"none\" points=\"278.5,-1351.5 336.5,-1351.5 \" stroke=\"#000000\"/>\n<text fill=\"#000000\" font-family=\"Times,serif\" font-size=\"14.00\" text-anchor=\"middle\" x=\"307.5\" y=\"-1336.3\">output:</text>\n<polyline fill=\"none\" points=\"336.5,-1328.5 336.5,-1374.5 \" stroke=\"#000000\"/>\n<text fill=\"#000000\" font-family=\"Times,serif\" font-size=\"14.00\" text-anchor=\"middle\" x=\"399\" y=\"-1359.3\">(None, 28, 28, 64)</text>\n<polyline fill=\"none\" points=\"336.5,-1351.5 461.5,-1351.5 \" stroke=\"#000000\"/>\n<text fill=\"#000000\" font-family=\"Times,serif\" font-size=\"14.00\" text-anchor=\"middle\" x=\"399\" y=\"-1336.3\">(None, 14, 14, 64)</text>\n</g>\n<!-- 140068496968392&#45;&gt;140068387083824 -->\n<g class=\"edge\" id=\"edge5\">\n<title>140068496968392-&gt;140068387083824</title>\n<path d=\"M259.5,-1411.3799C259.5,-1403.1745 259.5,-1393.7679 259.5,-1384.8786\" fill=\"none\" stroke=\"#000000\"/>\n<polygon fill=\"#000000\" points=\"263.0001,-1384.784 259.5,-1374.784 256.0001,-1384.784 263.0001,-1384.784\" stroke=\"#000000\"/>\n</g>\n<!-- 140068386629728 -->\n<g class=\"node\" id=\"node6\">\n<title>140068386629728</title>\n<polygon fill=\"none\" points=\"101,-1245.5 101,-1291.5 418,-1291.5 418,-1245.5 101,-1245.5\" stroke=\"#000000\"/>\n<text fill=\"#000000\" font-family=\"Times,serif\" font-size=\"14.00\" text-anchor=\"middle\" x=\"168\" y=\"-1264.8\">dropout_1: Dropout</text>\n<polyline fill=\"none\" points=\"235,-1245.5 235,-1291.5 \" stroke=\"#000000\"/>\n<text fill=\"#000000\" font-family=\"Times,serif\" font-size=\"14.00\" text-anchor=\"middle\" x=\"264\" y=\"-1276.3\">input:</text>\n<polyline fill=\"none\" points=\"235,-1268.5 293,-1268.5 \" stroke=\"#000000\"/>\n<text fill=\"#000000\" font-family=\"Times,serif\" font-size=\"14.00\" text-anchor=\"middle\" x=\"264\" y=\"-1253.3\">output:</text>\n<polyline fill=\"none\" points=\"293,-1245.5 293,-1291.5 \" stroke=\"#000000\"/>\n<text fill=\"#000000\" font-family=\"Times,serif\" font-size=\"14.00\" text-anchor=\"middle\" x=\"355.5\" y=\"-1276.3\">(None, 14, 14, 64)</text>\n<polyline fill=\"none\" points=\"293,-1268.5 418,-1268.5 \" stroke=\"#000000\"/>\n<text fill=\"#000000\" font-family=\"Times,serif\" font-size=\"14.00\" text-anchor=\"middle\" x=\"355.5\" y=\"-1253.3\">(None, 14, 14, 64)</text>\n</g>\n<!-- 140068387083824&#45;&gt;140068386629728 -->\n<g class=\"edge\" id=\"edge6\">\n<title>140068387083824-&gt;140068386629728</title>\n<path d=\"M259.5,-1328.3799C259.5,-1320.1745 259.5,-1310.7679 259.5,-1301.8786\" fill=\"none\" stroke=\"#000000\"/>\n<polygon fill=\"#000000\" points=\"263.0001,-1301.784 259.5,-1291.784 256.0001,-1301.784 263.0001,-1301.784\" stroke=\"#000000\"/>\n</g>\n<!-- 140068386629448 -->\n<g class=\"node\" id=\"node7\">\n<title>140068386629448</title>\n<polygon fill=\"none\" points=\"44,-1162.5 44,-1208.5 475,-1208.5 475,-1162.5 44,-1162.5\" stroke=\"#000000\"/>\n<text fill=\"#000000\" font-family=\"Times,serif\" font-size=\"14.00\" text-anchor=\"middle\" x=\"168\" y=\"-1181.8\">separable_conv2d_3: SeparableConv2D</text>\n<polyline fill=\"none\" points=\"292,-1162.5 292,-1208.5 \" stroke=\"#000000\"/>\n<text fill=\"#000000\" font-family=\"Times,serif\" font-size=\"14.00\" text-anchor=\"middle\" x=\"321\" y=\"-1193.3\">input:</text>\n<polyline fill=\"none\" points=\"292,-1185.5 350,-1185.5 \" stroke=\"#000000\"/>\n<text fill=\"#000000\" font-family=\"Times,serif\" font-size=\"14.00\" text-anchor=\"middle\" x=\"321\" y=\"-1170.3\">output:</text>\n<polyline fill=\"none\" points=\"350,-1162.5 350,-1208.5 \" stroke=\"#000000\"/>\n<text fill=\"#000000\" font-family=\"Times,serif\" font-size=\"14.00\" text-anchor=\"middle\" x=\"412.5\" y=\"-1193.3\">(None, 14, 14, 64)</text>\n<polyline fill=\"none\" points=\"350,-1185.5 475,-1185.5 \" stroke=\"#000000\"/>\n<text fill=\"#000000\" font-family=\"Times,serif\" font-size=\"14.00\" text-anchor=\"middle\" x=\"412.5\" y=\"-1170.3\">(None, 12, 12, 64)</text>\n</g>\n<!-- 140068386629728&#45;&gt;140068386629448 -->\n<g class=\"edge\" id=\"edge7\">\n<title>140068386629728-&gt;140068386629448</title>\n<path d=\"M259.5,-1245.3799C259.5,-1237.1745 259.5,-1227.7679 259.5,-1218.8786\" fill=\"none\" stroke=\"#000000\"/>\n<polygon fill=\"#000000\" points=\"263.0001,-1218.784 259.5,-1208.784 256.0001,-1218.784 263.0001,-1218.784\" stroke=\"#000000\"/>\n</g>\n<!-- 140068386870384 -->\n<g class=\"node\" id=\"node8\">\n<title>140068386870384</title>\n<polygon fill=\"none\" points=\"32.5,-1079.5 32.5,-1125.5 486.5,-1125.5 486.5,-1079.5 32.5,-1079.5\" stroke=\"#000000\"/>\n<text fill=\"#000000\" font-family=\"Times,serif\" font-size=\"14.00\" text-anchor=\"middle\" x=\"168\" y=\"-1098.8\">batch_normalization_3: BatchNormalization</text>\n<polyline fill=\"none\" points=\"303.5,-1079.5 303.5,-1125.5 \" stroke=\"#000000\"/>\n<text fill=\"#000000\" font-family=\"Times,serif\" font-size=\"14.00\" text-anchor=\"middle\" x=\"332.5\" y=\"-1110.3\">input:</text>\n<polyline fill=\"none\" points=\"303.5,-1102.5 361.5,-1102.5 \" stroke=\"#000000\"/>\n<text fill=\"#000000\" font-family=\"Times,serif\" font-size=\"14.00\" text-anchor=\"middle\" x=\"332.5\" y=\"-1087.3\">output:</text>\n<polyline fill=\"none\" points=\"361.5,-1079.5 361.5,-1125.5 \" stroke=\"#000000\"/>\n<text fill=\"#000000\" font-family=\"Times,serif\" font-size=\"14.00\" text-anchor=\"middle\" x=\"424\" y=\"-1110.3\">(None, 12, 12, 64)</text>\n<polyline fill=\"none\" points=\"361.5,-1102.5 486.5,-1102.5 \" stroke=\"#000000\"/>\n<text fill=\"#000000\" font-family=\"Times,serif\" font-size=\"14.00\" text-anchor=\"middle\" x=\"424\" y=\"-1087.3\">(None, 12, 12, 64)</text>\n</g>\n<!-- 140068386629448&#45;&gt;140068386870384 -->\n<g class=\"edge\" id=\"edge8\">\n<title>140068386629448-&gt;140068386870384</title>\n<path d=\"M259.5,-1162.3799C259.5,-1154.1745 259.5,-1144.7679 259.5,-1135.8786\" fill=\"none\" stroke=\"#000000\"/>\n<polygon fill=\"#000000\" points=\"263.0001,-1135.784 259.5,-1125.784 256.0001,-1135.784 263.0001,-1135.784\" stroke=\"#000000\"/>\n</g>\n<!-- 140068385907768 -->\n<g class=\"node\" id=\"node9\">\n<title>140068385907768</title>\n<polygon fill=\"none\" points=\"40.5,-996.5 40.5,-1042.5 478.5,-1042.5 478.5,-996.5 40.5,-996.5\" stroke=\"#000000\"/>\n<text fill=\"#000000\" font-family=\"Times,serif\" font-size=\"14.00\" text-anchor=\"middle\" x=\"164.5\" y=\"-1015.8\">separable_conv2d_4: SeparableConv2D</text>\n<polyline fill=\"none\" points=\"288.5,-996.5 288.5,-1042.5 \" stroke=\"#000000\"/>\n<text fill=\"#000000\" font-family=\"Times,serif\" font-size=\"14.00\" text-anchor=\"middle\" x=\"317.5\" y=\"-1027.3\">input:</text>\n<polyline fill=\"none\" points=\"288.5,-1019.5 346.5,-1019.5 \" stroke=\"#000000\"/>\n<text fill=\"#000000\" font-family=\"Times,serif\" font-size=\"14.00\" text-anchor=\"middle\" x=\"317.5\" y=\"-1004.3\">output:</text>\n<polyline fill=\"none\" points=\"346.5,-996.5 346.5,-1042.5 \" stroke=\"#000000\"/>\n<text fill=\"#000000\" font-family=\"Times,serif\" font-size=\"14.00\" text-anchor=\"middle\" x=\"412.5\" y=\"-1027.3\">(None, 12, 12, 64)</text>\n<polyline fill=\"none\" points=\"346.5,-1019.5 478.5,-1019.5 \" stroke=\"#000000\"/>\n<text fill=\"#000000\" font-family=\"Times,serif\" font-size=\"14.00\" text-anchor=\"middle\" x=\"412.5\" y=\"-1004.3\">(None, 10, 10, 128)</text>\n</g>\n<!-- 140068386870384&#45;&gt;140068385907768 -->\n<g class=\"edge\" id=\"edge9\">\n<title>140068386870384-&gt;140068385907768</title>\n<path d=\"M259.5,-1079.3799C259.5,-1071.1745 259.5,-1061.7679 259.5,-1052.8786\" fill=\"none\" stroke=\"#000000\"/>\n<polygon fill=\"#000000\" points=\"263.0001,-1052.784 259.5,-1042.784 256.0001,-1052.784 263.0001,-1052.784\" stroke=\"#000000\"/>\n</g>\n<!-- 140068385159768 -->\n<g class=\"node\" id=\"node10\">\n<title>140068385159768</title>\n<polygon fill=\"none\" points=\"29,-913.5 29,-959.5 490,-959.5 490,-913.5 29,-913.5\" stroke=\"#000000\"/>\n<text fill=\"#000000\" font-family=\"Times,serif\" font-size=\"14.00\" text-anchor=\"middle\" x=\"164.5\" y=\"-932.8\">batch_normalization_4: BatchNormalization</text>\n<polyline fill=\"none\" points=\"300,-913.5 300,-959.5 \" stroke=\"#000000\"/>\n<text fill=\"#000000\" font-family=\"Times,serif\" font-size=\"14.00\" text-anchor=\"middle\" x=\"329\" y=\"-944.3\">input:</text>\n<polyline fill=\"none\" points=\"300,-936.5 358,-936.5 \" stroke=\"#000000\"/>\n<text fill=\"#000000\" font-family=\"Times,serif\" font-size=\"14.00\" text-anchor=\"middle\" x=\"329\" y=\"-921.3\">output:</text>\n<polyline fill=\"none\" points=\"358,-913.5 358,-959.5 \" stroke=\"#000000\"/>\n<text fill=\"#000000\" font-family=\"Times,serif\" font-size=\"14.00\" text-anchor=\"middle\" x=\"424\" y=\"-944.3\">(None, 10, 10, 128)</text>\n<polyline fill=\"none\" points=\"358,-936.5 490,-936.5 \" stroke=\"#000000\"/>\n<text fill=\"#000000\" font-family=\"Times,serif\" font-size=\"14.00\" text-anchor=\"middle\" x=\"424\" y=\"-921.3\">(None, 10, 10, 128)</text>\n</g>\n<!-- 140068385907768&#45;&gt;140068385159768 -->\n<g class=\"edge\" id=\"edge10\">\n<title>140068385907768-&gt;140068385159768</title>\n<path d=\"M259.5,-996.3799C259.5,-988.1745 259.5,-978.7679 259.5,-969.8786\" fill=\"none\" stroke=\"#000000\"/>\n<polygon fill=\"#000000\" points=\"263.0001,-969.784 259.5,-959.784 256.0001,-969.784 263.0001,-969.784\" stroke=\"#000000\"/>\n</g>\n<!-- 140068385118024 -->\n<g class=\"node\" id=\"node11\">\n<title>140068385118024</title>\n<polygon fill=\"none\" points=\"54,-830.5 54,-876.5 465,-876.5 465,-830.5 54,-830.5\" stroke=\"#000000\"/>\n<text fill=\"#000000\" font-family=\"Times,serif\" font-size=\"14.00\" text-anchor=\"middle\" x=\"164.5\" y=\"-849.8\">max_pooling2d_2: MaxPooling2D</text>\n<polyline fill=\"none\" points=\"275,-830.5 275,-876.5 \" stroke=\"#000000\"/>\n<text fill=\"#000000\" font-family=\"Times,serif\" font-size=\"14.00\" text-anchor=\"middle\" x=\"304\" y=\"-861.3\">input:</text>\n<polyline fill=\"none\" points=\"275,-853.5 333,-853.5 \" stroke=\"#000000\"/>\n<text fill=\"#000000\" font-family=\"Times,serif\" font-size=\"14.00\" text-anchor=\"middle\" x=\"304\" y=\"-838.3\">output:</text>\n<polyline fill=\"none\" points=\"333,-830.5 333,-876.5 \" stroke=\"#000000\"/>\n<text fill=\"#000000\" font-family=\"Times,serif\" font-size=\"14.00\" text-anchor=\"middle\" x=\"399\" y=\"-861.3\">(None, 10, 10, 128)</text>\n<polyline fill=\"none\" points=\"333,-853.5 465,-853.5 \" stroke=\"#000000\"/>\n<text fill=\"#000000\" font-family=\"Times,serif\" font-size=\"14.00\" text-anchor=\"middle\" x=\"399\" y=\"-838.3\">(None, 5, 5, 128)</text>\n</g>\n<!-- 140068385159768&#45;&gt;140068385118024 -->\n<g class=\"edge\" id=\"edge11\">\n<title>140068385159768-&gt;140068385118024</title>\n<path d=\"M259.5,-913.3799C259.5,-905.1745 259.5,-895.7679 259.5,-886.8786\" fill=\"none\" stroke=\"#000000\"/>\n<polygon fill=\"#000000\" points=\"263.0001,-886.784 259.5,-876.784 256.0001,-886.784 263.0001,-886.784\" stroke=\"#000000\"/>\n</g>\n<!-- 140068384160344 -->\n<g class=\"node\" id=\"node12\">\n<title>140068384160344</title>\n<polygon fill=\"none\" points=\"105,-747.5 105,-793.5 414,-793.5 414,-747.5 105,-747.5\" stroke=\"#000000\"/>\n<text fill=\"#000000\" font-family=\"Times,serif\" font-size=\"14.00\" text-anchor=\"middle\" x=\"172\" y=\"-766.8\">dropout_2: Dropout</text>\n<polyline fill=\"none\" points=\"239,-747.5 239,-793.5 \" stroke=\"#000000\"/>\n<text fill=\"#000000\" font-family=\"Times,serif\" font-size=\"14.00\" text-anchor=\"middle\" x=\"268\" y=\"-778.3\">input:</text>\n<polyline fill=\"none\" points=\"239,-770.5 297,-770.5 \" stroke=\"#000000\"/>\n<text fill=\"#000000\" font-family=\"Times,serif\" font-size=\"14.00\" text-anchor=\"middle\" x=\"268\" y=\"-755.3\">output:</text>\n<polyline fill=\"none\" points=\"297,-747.5 297,-793.5 \" stroke=\"#000000\"/>\n<text fill=\"#000000\" font-family=\"Times,serif\" font-size=\"14.00\" text-anchor=\"middle\" x=\"355.5\" y=\"-778.3\">(None, 5, 5, 128)</text>\n<polyline fill=\"none\" points=\"297,-770.5 414,-770.5 \" stroke=\"#000000\"/>\n<text fill=\"#000000\" font-family=\"Times,serif\" font-size=\"14.00\" text-anchor=\"middle\" x=\"355.5\" y=\"-755.3\">(None, 5, 5, 128)</text>\n</g>\n<!-- 140068385118024&#45;&gt;140068384160344 -->\n<g class=\"edge\" id=\"edge12\">\n<title>140068385118024-&gt;140068384160344</title>\n<path d=\"M259.5,-830.3799C259.5,-822.1745 259.5,-812.7679 259.5,-803.8786\" fill=\"none\" stroke=\"#000000\"/>\n<polygon fill=\"#000000\" points=\"263.0001,-803.784 259.5,-793.784 256.0001,-803.784 263.0001,-803.784\" stroke=\"#000000\"/>\n</g>\n<!-- 140068384160064 -->\n<g class=\"node\" id=\"node13\">\n<title>140068384160064</title>\n<polygon fill=\"none\" points=\"48,-664.5 48,-710.5 471,-710.5 471,-664.5 48,-664.5\" stroke=\"#000000\"/>\n<text fill=\"#000000\" font-family=\"Times,serif\" font-size=\"14.00\" text-anchor=\"middle\" x=\"172\" y=\"-683.8\">separable_conv2d_5: SeparableConv2D</text>\n<polyline fill=\"none\" points=\"296,-664.5 296,-710.5 \" stroke=\"#000000\"/>\n<text fill=\"#000000\" font-family=\"Times,serif\" font-size=\"14.00\" text-anchor=\"middle\" x=\"325\" y=\"-695.3\">input:</text>\n<polyline fill=\"none\" points=\"296,-687.5 354,-687.5 \" stroke=\"#000000\"/>\n<text fill=\"#000000\" font-family=\"Times,serif\" font-size=\"14.00\" text-anchor=\"middle\" x=\"325\" y=\"-672.3\">output:</text>\n<polyline fill=\"none\" points=\"354,-664.5 354,-710.5 \" stroke=\"#000000\"/>\n<text fill=\"#000000\" font-family=\"Times,serif\" font-size=\"14.00\" text-anchor=\"middle\" x=\"412.5\" y=\"-695.3\">(None, 5, 5, 128)</text>\n<polyline fill=\"none\" points=\"354,-687.5 471,-687.5 \" stroke=\"#000000\"/>\n<text fill=\"#000000\" font-family=\"Times,serif\" font-size=\"14.00\" text-anchor=\"middle\" x=\"412.5\" y=\"-672.3\">(None, 3, 3, 64)</text>\n</g>\n<!-- 140068384160344&#45;&gt;140068384160064 -->\n<g class=\"edge\" id=\"edge13\">\n<title>140068384160344-&gt;140068384160064</title>\n<path d=\"M259.5,-747.3799C259.5,-739.1745 259.5,-729.7679 259.5,-720.8786\" fill=\"none\" stroke=\"#000000\"/>\n<polygon fill=\"#000000\" points=\"263.0001,-720.784 259.5,-710.784 256.0001,-720.784 263.0001,-720.784\" stroke=\"#000000\"/>\n</g>\n<!-- 140068384394544 -->\n<g class=\"node\" id=\"node14\">\n<title>140068384394544</title>\n<polygon fill=\"none\" points=\"40,-581.5 40,-627.5 479,-627.5 479,-581.5 40,-581.5\" stroke=\"#000000\"/>\n<text fill=\"#000000\" font-family=\"Times,serif\" font-size=\"14.00\" text-anchor=\"middle\" x=\"175.5\" y=\"-600.8\">batch_normalization_5: BatchNormalization</text>\n<polyline fill=\"none\" points=\"311,-581.5 311,-627.5 \" stroke=\"#000000\"/>\n<text fill=\"#000000\" font-family=\"Times,serif\" font-size=\"14.00\" text-anchor=\"middle\" x=\"340\" y=\"-612.3\">input:</text>\n<polyline fill=\"none\" points=\"311,-604.5 369,-604.5 \" stroke=\"#000000\"/>\n<text fill=\"#000000\" font-family=\"Times,serif\" font-size=\"14.00\" text-anchor=\"middle\" x=\"340\" y=\"-589.3\">output:</text>\n<polyline fill=\"none\" points=\"369,-581.5 369,-627.5 \" stroke=\"#000000\"/>\n<text fill=\"#000000\" font-family=\"Times,serif\" font-size=\"14.00\" text-anchor=\"middle\" x=\"424\" y=\"-612.3\">(None, 3, 3, 64)</text>\n<polyline fill=\"none\" points=\"369,-604.5 479,-604.5 \" stroke=\"#000000\"/>\n<text fill=\"#000000\" font-family=\"Times,serif\" font-size=\"14.00\" text-anchor=\"middle\" x=\"424\" y=\"-589.3\">(None, 3, 3, 64)</text>\n</g>\n<!-- 140068384160064&#45;&gt;140068384394544 -->\n<g class=\"edge\" id=\"edge14\">\n<title>140068384160064-&gt;140068384394544</title>\n<path d=\"M259.5,-664.3799C259.5,-656.1745 259.5,-646.7679 259.5,-637.8786\" fill=\"none\" stroke=\"#000000\"/>\n<polygon fill=\"#000000\" points=\"263.0001,-637.784 259.5,-627.784 256.0001,-637.784 263.0001,-637.784\" stroke=\"#000000\"/>\n</g>\n<!-- 140068383437992 -->\n<g class=\"node\" id=\"node15\">\n<title>140068383437992</title>\n<polygon fill=\"none\" points=\"48,-498.5 48,-544.5 471,-544.5 471,-498.5 48,-498.5\" stroke=\"#000000\"/>\n<text fill=\"#000000\" font-family=\"Times,serif\" font-size=\"14.00\" text-anchor=\"middle\" x=\"172\" y=\"-517.8\">separable_conv2d_6: SeparableConv2D</text>\n<polyline fill=\"none\" points=\"296,-498.5 296,-544.5 \" stroke=\"#000000\"/>\n<text fill=\"#000000\" font-family=\"Times,serif\" font-size=\"14.00\" text-anchor=\"middle\" x=\"325\" y=\"-529.3\">input:</text>\n<polyline fill=\"none\" points=\"296,-521.5 354,-521.5 \" stroke=\"#000000\"/>\n<text fill=\"#000000\" font-family=\"Times,serif\" font-size=\"14.00\" text-anchor=\"middle\" x=\"325\" y=\"-506.3\">output:</text>\n<polyline fill=\"none\" points=\"354,-498.5 354,-544.5 \" stroke=\"#000000\"/>\n<text fill=\"#000000\" font-family=\"Times,serif\" font-size=\"14.00\" text-anchor=\"middle\" x=\"412.5\" y=\"-529.3\">(None, 3, 3, 64)</text>\n<polyline fill=\"none\" points=\"354,-521.5 471,-521.5 \" stroke=\"#000000\"/>\n<text fill=\"#000000\" font-family=\"Times,serif\" font-size=\"14.00\" text-anchor=\"middle\" x=\"412.5\" y=\"-506.3\">(None, 1, 1, 128)</text>\n</g>\n<!-- 140068384394544&#45;&gt;140068383437992 -->\n<g class=\"edge\" id=\"edge15\">\n<title>140068384394544-&gt;140068383437992</title>\n<path d=\"M259.5,-581.3799C259.5,-573.1745 259.5,-563.7679 259.5,-554.8786\" fill=\"none\" stroke=\"#000000\"/>\n<polygon fill=\"#000000\" points=\"263.0001,-554.784 259.5,-544.784 256.0001,-554.784 263.0001,-554.784\" stroke=\"#000000\"/>\n</g>\n<!-- 140068383036192 -->\n<g class=\"node\" id=\"node16\">\n<title>140068383036192</title>\n<polygon fill=\"none\" points=\"36.5,-415.5 36.5,-461.5 482.5,-461.5 482.5,-415.5 36.5,-415.5\" stroke=\"#000000\"/>\n<text fill=\"#000000\" font-family=\"Times,serif\" font-size=\"14.00\" text-anchor=\"middle\" x=\"172\" y=\"-434.8\">batch_normalization_6: BatchNormalization</text>\n<polyline fill=\"none\" points=\"307.5,-415.5 307.5,-461.5 \" stroke=\"#000000\"/>\n<text fill=\"#000000\" font-family=\"Times,serif\" font-size=\"14.00\" text-anchor=\"middle\" x=\"336.5\" y=\"-446.3\">input:</text>\n<polyline fill=\"none\" points=\"307.5,-438.5 365.5,-438.5 \" stroke=\"#000000\"/>\n<text fill=\"#000000\" font-family=\"Times,serif\" font-size=\"14.00\" text-anchor=\"middle\" x=\"336.5\" y=\"-423.3\">output:</text>\n<polyline fill=\"none\" points=\"365.5,-415.5 365.5,-461.5 \" stroke=\"#000000\"/>\n<text fill=\"#000000\" font-family=\"Times,serif\" font-size=\"14.00\" text-anchor=\"middle\" x=\"424\" y=\"-446.3\">(None, 1, 1, 128)</text>\n<polyline fill=\"none\" points=\"365.5,-438.5 482.5,-438.5 \" stroke=\"#000000\"/>\n<text fill=\"#000000\" font-family=\"Times,serif\" font-size=\"14.00\" text-anchor=\"middle\" x=\"424\" y=\"-423.3\">(None, 1, 1, 128)</text>\n</g>\n<!-- 140068383437992&#45;&gt;140068383036192 -->\n<g class=\"edge\" id=\"edge16\">\n<title>140068383437992-&gt;140068383036192</title>\n<path d=\"M259.5,-498.3799C259.5,-490.1745 259.5,-480.7679 259.5,-471.8786\" fill=\"none\" stroke=\"#000000\"/>\n<polygon fill=\"#000000\" points=\"263.0001,-471.784 259.5,-461.784 256.0001,-471.784 263.0001,-471.784\" stroke=\"#000000\"/>\n</g>\n<!-- 140068382442776 -->\n<g class=\"node\" id=\"node17\">\n<title>140068382442776</title>\n<polygon fill=\"none\" points=\"0,-332.5 0,-378.5 519,-378.5 519,-332.5 0,-332.5\" stroke=\"#000000\"/>\n<text fill=\"#000000\" font-family=\"Times,serif\" font-size=\"14.00\" text-anchor=\"middle\" x=\"172\" y=\"-351.8\">global_average_pooling2d_1: GlobalAveragePooling2D</text>\n<polyline fill=\"none\" points=\"344,-332.5 344,-378.5 \" stroke=\"#000000\"/>\n<text fill=\"#000000\" font-family=\"Times,serif\" font-size=\"14.00\" text-anchor=\"middle\" x=\"373\" y=\"-363.3\">input:</text>\n<polyline fill=\"none\" points=\"344,-355.5 402,-355.5 \" stroke=\"#000000\"/>\n<text fill=\"#000000\" font-family=\"Times,serif\" font-size=\"14.00\" text-anchor=\"middle\" x=\"373\" y=\"-340.3\">output:</text>\n<polyline fill=\"none\" points=\"402,-332.5 402,-378.5 \" stroke=\"#000000\"/>\n<text fill=\"#000000\" font-family=\"Times,serif\" font-size=\"14.00\" text-anchor=\"middle\" x=\"460.5\" y=\"-363.3\">(None, 1, 1, 128)</text>\n<polyline fill=\"none\" points=\"402,-355.5 519,-355.5 \" stroke=\"#000000\"/>\n<text fill=\"#000000\" font-family=\"Times,serif\" font-size=\"14.00\" text-anchor=\"middle\" x=\"460.5\" y=\"-340.3\">(None, 128)</text>\n</g>\n<!-- 140068383036192&#45;&gt;140068382442776 -->\n<g class=\"edge\" id=\"edge17\">\n<title>140068383036192-&gt;140068382442776</title>\n<path d=\"M259.5,-415.3799C259.5,-407.1745 259.5,-397.7679 259.5,-388.8786\" fill=\"none\" stroke=\"#000000\"/>\n<polygon fill=\"#000000\" points=\"263.0001,-388.784 259.5,-378.784 256.0001,-388.784 263.0001,-388.784\" stroke=\"#000000\"/>\n</g>\n<!-- 140068382442496 -->\n<g class=\"node\" id=\"node18\">\n<title>140068382442496</title>\n<polygon fill=\"none\" points=\"133.5,-249.5 133.5,-295.5 385.5,-295.5 385.5,-249.5 133.5,-249.5\" stroke=\"#000000\"/>\n<text fill=\"#000000\" font-family=\"Times,serif\" font-size=\"14.00\" text-anchor=\"middle\" x=\"187\" y=\"-268.8\">dense_1: Dense</text>\n<polyline fill=\"none\" points=\"240.5,-249.5 240.5,-295.5 \" stroke=\"#000000\"/>\n<text fill=\"#000000\" font-family=\"Times,serif\" font-size=\"14.00\" text-anchor=\"middle\" x=\"269.5\" y=\"-280.3\">input:</text>\n<polyline fill=\"none\" points=\"240.5,-272.5 298.5,-272.5 \" stroke=\"#000000\"/>\n<text fill=\"#000000\" font-family=\"Times,serif\" font-size=\"14.00\" text-anchor=\"middle\" x=\"269.5\" y=\"-257.3\">output:</text>\n<polyline fill=\"none\" points=\"298.5,-249.5 298.5,-295.5 \" stroke=\"#000000\"/>\n<text fill=\"#000000\" font-family=\"Times,serif\" font-size=\"14.00\" text-anchor=\"middle\" x=\"342\" y=\"-280.3\">(None, 128)</text>\n<polyline fill=\"none\" points=\"298.5,-272.5 385.5,-272.5 \" stroke=\"#000000\"/>\n<text fill=\"#000000\" font-family=\"Times,serif\" font-size=\"14.00\" text-anchor=\"middle\" x=\"342\" y=\"-257.3\">(None, 32)</text>\n</g>\n<!-- 140068382442776&#45;&gt;140068382442496 -->\n<g class=\"edge\" id=\"edge18\">\n<title>140068382442776-&gt;140068382442496</title>\n<path d=\"M259.5,-332.3799C259.5,-324.1745 259.5,-314.7679 259.5,-305.8786\" fill=\"none\" stroke=\"#000000\"/>\n<polygon fill=\"#000000\" points=\"263.0001,-305.784 259.5,-295.784 256.0001,-305.784 263.0001,-305.784\" stroke=\"#000000\"/>\n</g>\n<!-- 140068382207504 -->\n<g class=\"node\" id=\"node19\">\n<title>140068382207504</title>\n<polygon fill=\"none\" points=\"55,-166.5 55,-212.5 464,-212.5 464,-166.5 55,-166.5\" stroke=\"#000000\"/>\n<text fill=\"#000000\" font-family=\"Times,serif\" font-size=\"14.00\" text-anchor=\"middle\" x=\"190.5\" y=\"-185.8\">batch_normalization_7: BatchNormalization</text>\n<polyline fill=\"none\" points=\"326,-166.5 326,-212.5 \" stroke=\"#000000\"/>\n<text fill=\"#000000\" font-family=\"Times,serif\" font-size=\"14.00\" text-anchor=\"middle\" x=\"355\" y=\"-197.3\">input:</text>\n<polyline fill=\"none\" points=\"326,-189.5 384,-189.5 \" stroke=\"#000000\"/>\n<text fill=\"#000000\" font-family=\"Times,serif\" font-size=\"14.00\" text-anchor=\"middle\" x=\"355\" y=\"-174.3\">output:</text>\n<polyline fill=\"none\" points=\"384,-166.5 384,-212.5 \" stroke=\"#000000\"/>\n<text fill=\"#000000\" font-family=\"Times,serif\" font-size=\"14.00\" text-anchor=\"middle\" x=\"424\" y=\"-197.3\">(None, 32)</text>\n<polyline fill=\"none\" points=\"384,-189.5 464,-189.5 \" stroke=\"#000000\"/>\n<text fill=\"#000000\" font-family=\"Times,serif\" font-size=\"14.00\" text-anchor=\"middle\" x=\"424\" y=\"-174.3\">(None, 32)</text>\n</g>\n<!-- 140068382442496&#45;&gt;140068382207504 -->\n<g class=\"edge\" id=\"edge19\">\n<title>140068382442496-&gt;140068382207504</title>\n<path d=\"M259.5,-249.3799C259.5,-241.1745 259.5,-231.7679 259.5,-222.8786\" fill=\"none\" stroke=\"#000000\"/>\n<polygon fill=\"#000000\" points=\"263.0001,-222.784 259.5,-212.784 256.0001,-222.784 263.0001,-222.784\" stroke=\"#000000\"/>\n</g>\n<!-- 140068381335224 -->\n<g class=\"node\" id=\"node20\">\n<title>140068381335224</title>\n<polygon fill=\"none\" points=\"123.5,-83.5 123.5,-129.5 395.5,-129.5 395.5,-83.5 123.5,-83.5\" stroke=\"#000000\"/>\n<text fill=\"#000000\" font-family=\"Times,serif\" font-size=\"14.00\" text-anchor=\"middle\" x=\"190.5\" y=\"-102.8\">dropout_3: Dropout</text>\n<polyline fill=\"none\" points=\"257.5,-83.5 257.5,-129.5 \" stroke=\"#000000\"/>\n<text fill=\"#000000\" font-family=\"Times,serif\" font-size=\"14.00\" text-anchor=\"middle\" x=\"286.5\" y=\"-114.3\">input:</text>\n<polyline fill=\"none\" points=\"257.5,-106.5 315.5,-106.5 \" stroke=\"#000000\"/>\n<text fill=\"#000000\" font-family=\"Times,serif\" font-size=\"14.00\" text-anchor=\"middle\" x=\"286.5\" y=\"-91.3\">output:</text>\n<polyline fill=\"none\" points=\"315.5,-83.5 315.5,-129.5 \" stroke=\"#000000\"/>\n<text fill=\"#000000\" font-family=\"Times,serif\" font-size=\"14.00\" text-anchor=\"middle\" x=\"355.5\" y=\"-114.3\">(None, 32)</text>\n<polyline fill=\"none\" points=\"315.5,-106.5 395.5,-106.5 \" stroke=\"#000000\"/>\n<text fill=\"#000000\" font-family=\"Times,serif\" font-size=\"14.00\" text-anchor=\"middle\" x=\"355.5\" y=\"-91.3\">(None, 32)</text>\n</g>\n<!-- 140068382207504&#45;&gt;140068381335224 -->\n<g class=\"edge\" id=\"edge20\">\n<title>140068382207504-&gt;140068381335224</title>\n<path d=\"M259.5,-166.3799C259.5,-158.1745 259.5,-148.7679 259.5,-139.8786\" fill=\"none\" stroke=\"#000000\"/>\n<polygon fill=\"#000000\" points=\"263.0001,-139.784 259.5,-129.784 256.0001,-139.784 263.0001,-139.784\" stroke=\"#000000\"/>\n</g>\n<!-- 140068380956936 -->\n<g class=\"node\" id=\"node21\">\n<title>140068380956936</title>\n<polygon fill=\"none\" points=\"137,-.5 137,-46.5 382,-46.5 382,-.5 137,-.5\" stroke=\"#000000\"/>\n<text fill=\"#000000\" font-family=\"Times,serif\" font-size=\"14.00\" text-anchor=\"middle\" x=\"190.5\" y=\"-19.8\">dense_2: Dense</text>\n<polyline fill=\"none\" points=\"244,-.5 244,-46.5 \" stroke=\"#000000\"/>\n<text fill=\"#000000\" font-family=\"Times,serif\" font-size=\"14.00\" text-anchor=\"middle\" x=\"273\" y=\"-31.3\">input:</text>\n<polyline fill=\"none\" points=\"244,-23.5 302,-23.5 \" stroke=\"#000000\"/>\n<text fill=\"#000000\" font-family=\"Times,serif\" font-size=\"14.00\" text-anchor=\"middle\" x=\"273\" y=\"-8.3\">output:</text>\n<polyline fill=\"none\" points=\"302,-.5 302,-46.5 \" stroke=\"#000000\"/>\n<text fill=\"#000000\" font-family=\"Times,serif\" font-size=\"14.00\" text-anchor=\"middle\" x=\"342\" y=\"-31.3\">(None, 32)</text>\n<polyline fill=\"none\" points=\"302,-23.5 382,-23.5 \" stroke=\"#000000\"/>\n<text fill=\"#000000\" font-family=\"Times,serif\" font-size=\"14.00\" text-anchor=\"middle\" x=\"342\" y=\"-8.3\">(None, 10)</text>\n</g>\n<!-- 140068381335224&#45;&gt;140068380956936 -->\n<g class=\"edge\" id=\"edge21\">\n<title>140068381335224-&gt;140068380956936</title>\n<path d=\"M259.5,-83.3799C259.5,-75.1745 259.5,-65.7679 259.5,-56.8786\" fill=\"none\" stroke=\"#000000\"/>\n<polygon fill=\"#000000\" points=\"263.0001,-56.784 259.5,-46.784 256.0001,-56.784 263.0001,-56.784\" stroke=\"#000000\"/>\n</g>\n<!-- 140068496967552 -->\n<g class=\"node\" id=\"node22\">\n<title>140068496967552</title>\n<polygon fill=\"none\" points=\"195,-1743.5 195,-1779.5 324,-1779.5 324,-1743.5 195,-1743.5\" stroke=\"#000000\"/>\n<text fill=\"#000000\" font-family=\"Times,serif\" font-size=\"14.00\" text-anchor=\"middle\" x=\"259.5\" y=\"-1757.8\">140068496967552</text>\n</g>\n<!-- 140068496967552&#45;&gt;140068496967664 -->\n<g class=\"edge\" id=\"edge1\">\n<title>140068496967552-&gt;140068496967664</title>\n<path d=\"M259.5,-1743.4092C259.5,-1735.4308 259.5,-1725.795 259.5,-1716.606\" fill=\"none\" stroke=\"#000000\"/>\n<polygon fill=\"#000000\" points=\"263.0001,-1716.5333 259.5,-1706.5333 256.0001,-1716.5334 263.0001,-1716.5333\" stroke=\"#000000\"/>\n</g>\n</g>\n</svg>"
          },
          "metadata": {
            "tags": []
          },
          "execution_count": 3
        }
      ]
    },
    {
      "metadata": {
        "id": "6BI-J_PB-j6r",
        "colab_type": "code",
        "colab": {}
      },
      "cell_type": "code",
      "source": [
        "model_a.compile(loss='categorical_crossentropy',\n",
        "              optimizer='rmsprop',\n",
        "              # Adding accuracy metrics \n",
        "              metrics=['accuracy'])"
      ],
      "execution_count": 0,
      "outputs": []
    },
    {
      "metadata": {
        "id": "Obu20RfxoROn",
        "colab_type": "code",
        "colab": {}
      },
      "cell_type": "code",
      "source": [
        "callbacks_list = [\n",
        "    # Interrupts training when improvement stops\n",
        "    keras.callbacks.EarlyStopping(\n",
        "        # Monitors the model’s validation accuracy\n",
        "        monitor='val_acc',\n",
        "        # Interrupts training when accuracy has stopped \n",
        "        # improving for more than one epoch (that is, two epochs)\n",
        "        patience=5,\n",
        "        verbose=1\n",
        "    ),\n",
        "    # Saves the current weights after every epoch\n",
        "    keras.callbacks.ModelCheckpoint(\n",
        "        # Path to the destination model file\n",
        "        filepath='depthwise_separable_model.h5',\n",
        "        # These two arguments mean you won’t overwrite the model file \n",
        "        # unless val_loss has improved, \n",
        "        monitor='val_loss',\n",
        "        # which allows you to keep the best model seen during training\n",
        "        save_best_only=True,\n",
        "        verbose=1\n",
        "    ),\n",
        "    keras.callbacks.ReduceLROnPlateau(\n",
        "        # Monitors the model’s validation loss\n",
        "        monitor='val_loss',\n",
        "        # Divides the learning rate by 10 when triggered\n",
        "        factor=0.1,\n",
        "        # The callback is triggered after the validation loss \n",
        "        # has stopped improving for 1 epochs.\n",
        "        patience=3,\n",
        "        verbose=1\n",
        "    ) \n",
        "]"
      ],
      "execution_count": 0,
      "outputs": []
    },
    {
      "metadata": {
        "id": "K8rxpQnUdsqx",
        "colab_type": "code",
        "outputId": "d3dcd716-60d9-4c18-a58f-a0985570a5fa",
        "colab": {
          "base_uri": "https://localhost:8080/",
          "height": 3901
        }
      },
      "cell_type": "code",
      "source": [
        "# Tensorboard\n",
        "\n",
        "#安裝tensorboard colab\n",
        "!pip install tensorboardcolab\n",
        "import numpy\n",
        "from tensorboardcolab import *\n",
        "\"\"\"\n",
        "tbc=TensorBoardColab()\n",
        "\n",
        "callbacks = [\n",
        "    TensorBoardColabCallback(tbc,histogram_freq=1)\n",
        "    \n",
        "] \n",
        "\"\"\"\n",
        "\n",
        "history = model_a.fit(x_train, y_train,\n",
        "          batch_size=batch_size,\n",
        "          epochs=epochs,\n",
        "          verbose=1,\n",
        "          callbacks=callbacks_list,\n",
        "          validation_data=(x_test, y_test))\n"
      ],
      "execution_count": 0,
      "outputs": [
        {
          "output_type": "stream",
          "text": [
            "Requirement already satisfied: tensorboardcolab in /usr/local/lib/python3.6/dist-packages (0.0.19)\n",
            "Train on 50000 samples, validate on 10000 samples\n",
            "Epoch 1/50\n",
            "50000/50000 [==============================] - 30s 590us/step - loss: 1.9846 - acc: 0.3106 - val_loss: 1.4570 - val_acc: 0.4753\n",
            "\n",
            "Epoch 00001: val_loss improved from inf to 1.45696, saving model to depthwise_separable_model.h5\n",
            "Epoch 2/50\n",
            "50000/50000 [==============================] - 27s 538us/step - loss: 1.4492 - acc: 0.4874 - val_loss: 1.2846 - val_acc: 0.5368\n",
            "\n",
            "Epoch 00002: val_loss improved from 1.45696 to 1.28457, saving model to depthwise_separable_model.h5\n",
            "Epoch 3/50\n",
            "50000/50000 [==============================] - 27s 531us/step - loss: 1.2724 - acc: 0.5587 - val_loss: 1.2897 - val_acc: 0.5512\n",
            "\n",
            "Epoch 00003: val_loss did not improve from 1.28457\n",
            "Epoch 4/50\n",
            "50000/50000 [==============================] - 26s 526us/step - loss: 1.1575 - acc: 0.6012 - val_loss: 1.0142 - val_acc: 0.6481\n",
            "\n",
            "Epoch 00004: val_loss improved from 1.28457 to 1.01422, saving model to depthwise_separable_model.h5\n",
            "Epoch 5/50\n",
            "50000/50000 [==============================] - 27s 531us/step - loss: 1.0734 - acc: 0.6337 - val_loss: 1.0011 - val_acc: 0.6485\n",
            "\n",
            "Epoch 00005: val_loss improved from 1.01422 to 1.00107, saving model to depthwise_separable_model.h5\n",
            "Epoch 6/50\n",
            "50000/50000 [==============================] - 27s 540us/step - loss: 1.0131 - acc: 0.6547 - val_loss: 0.9146 - val_acc: 0.6866\n",
            "\n",
            "Epoch 00006: val_loss improved from 1.00107 to 0.91464, saving model to depthwise_separable_model.h5\n",
            "Epoch 7/50\n",
            "50000/50000 [==============================] - 27s 549us/step - loss: 0.9717 - acc: 0.6719 - val_loss: 0.9471 - val_acc: 0.6768\n",
            "\n",
            "Epoch 00007: val_loss did not improve from 0.91464\n",
            "Epoch 8/50\n",
            "50000/50000 [==============================] - 27s 546us/step - loss: 0.9235 - acc: 0.6861 - val_loss: 0.8520 - val_acc: 0.7059\n",
            "\n",
            "Epoch 00008: val_loss improved from 0.91464 to 0.85196, saving model to depthwise_separable_model.h5\n",
            "Epoch 9/50\n",
            "50000/50000 [==============================] - 28s 551us/step - loss: 0.8946 - acc: 0.6983 - val_loss: 0.8555 - val_acc: 0.7084\n",
            "\n",
            "Epoch 00009: val_loss did not improve from 0.85196\n",
            "Epoch 10/50\n",
            "50000/50000 [==============================] - 27s 547us/step - loss: 0.8626 - acc: 0.7098 - val_loss: 0.7978 - val_acc: 0.7246\n",
            "\n",
            "Epoch 00010: val_loss improved from 0.85196 to 0.79782, saving model to depthwise_separable_model.h5\n",
            "Epoch 11/50\n",
            "50000/50000 [==============================] - 27s 546us/step - loss: 0.8316 - acc: 0.7189 - val_loss: 0.7917 - val_acc: 0.7225\n",
            "\n",
            "Epoch 00011: val_loss improved from 0.79782 to 0.79168, saving model to depthwise_separable_model.h5\n",
            "Epoch 12/50\n",
            "50000/50000 [==============================] - 27s 541us/step - loss: 0.8139 - acc: 0.7274 - val_loss: 0.7837 - val_acc: 0.7306\n",
            "\n",
            "Epoch 00012: val_loss improved from 0.79168 to 0.78372, saving model to depthwise_separable_model.h5\n",
            "Epoch 13/50\n",
            "50000/50000 [==============================] - 26s 529us/step - loss: 0.7903 - acc: 0.7364 - val_loss: 0.7734 - val_acc: 0.7355\n",
            "\n",
            "Epoch 00013: val_loss improved from 0.78372 to 0.77344, saving model to depthwise_separable_model.h5\n",
            "Epoch 14/50\n",
            "50000/50000 [==============================] - 27s 536us/step - loss: 0.7704 - acc: 0.7409 - val_loss: 0.7459 - val_acc: 0.7432\n",
            "\n",
            "Epoch 00014: val_loss improved from 0.77344 to 0.74594, saving model to depthwise_separable_model.h5\n",
            "Epoch 15/50\n",
            "50000/50000 [==============================] - 27s 537us/step - loss: 0.7573 - acc: 0.7495 - val_loss: 0.7320 - val_acc: 0.7540\n",
            "\n",
            "Epoch 00015: val_loss improved from 0.74594 to 0.73202, saving model to depthwise_separable_model.h5\n",
            "Epoch 16/50\n",
            "50000/50000 [==============================] - 27s 550us/step - loss: 0.7440 - acc: 0.7507 - val_loss: 0.7276 - val_acc: 0.7563\n",
            "\n",
            "Epoch 00016: val_loss improved from 0.73202 to 0.72761, saving model to depthwise_separable_model.h5\n",
            "Epoch 17/50\n",
            "50000/50000 [==============================] - 27s 547us/step - loss: 0.7249 - acc: 0.7602 - val_loss: 0.7626 - val_acc: 0.7415\n",
            "\n",
            "Epoch 00017: val_loss did not improve from 0.72761\n",
            "Epoch 18/50\n",
            "50000/50000 [==============================] - 27s 549us/step - loss: 0.7132 - acc: 0.7619 - val_loss: 0.7331 - val_acc: 0.7542\n",
            "\n",
            "Epoch 00018: val_loss did not improve from 0.72761\n",
            "Epoch 19/50\n",
            "50000/50000 [==============================] - 28s 551us/step - loss: 0.7028 - acc: 0.7674 - val_loss: 0.7269 - val_acc: 0.7561\n",
            "\n",
            "Epoch 00019: val_loss improved from 0.72761 to 0.72688, saving model to depthwise_separable_model.h5\n",
            "Epoch 20/50\n",
            "50000/50000 [==============================] - 27s 549us/step - loss: 0.6944 - acc: 0.7707 - val_loss: 0.6889 - val_acc: 0.7672\n",
            "\n",
            "Epoch 00020: val_loss improved from 0.72688 to 0.68888, saving model to depthwise_separable_model.h5\n",
            "Epoch 21/50\n",
            "50000/50000 [==============================] - 27s 542us/step - loss: 0.6846 - acc: 0.7737 - val_loss: 0.6950 - val_acc: 0.7670\n",
            "\n",
            "Epoch 00021: val_loss did not improve from 0.68888\n",
            "Epoch 22/50\n",
            "50000/50000 [==============================] - 27s 537us/step - loss: 0.6750 - acc: 0.7770 - val_loss: 0.6659 - val_acc: 0.7753\n",
            "\n",
            "Epoch 00022: val_loss improved from 0.68888 to 0.66587, saving model to depthwise_separable_model.h5\n",
            "Epoch 23/50\n",
            "50000/50000 [==============================] - 27s 536us/step - loss: 0.6646 - acc: 0.7808 - val_loss: 0.6990 - val_acc: 0.7689\n",
            "\n",
            "Epoch 00023: val_loss did not improve from 0.66587\n",
            "Epoch 24/50\n",
            "50000/50000 [==============================] - 27s 534us/step - loss: 0.6564 - acc: 0.7818 - val_loss: 0.6802 - val_acc: 0.7746\n",
            "\n",
            "Epoch 00024: val_loss did not improve from 0.66587\n",
            "Epoch 25/50\n",
            "50000/50000 [==============================] - 27s 536us/step - loss: 0.6477 - acc: 0.7857 - val_loss: 0.6733 - val_acc: 0.7729\n",
            "\n",
            "Epoch 00025: val_loss did not improve from 0.66587\n",
            "\n",
            "Epoch 00025: ReduceLROnPlateau reducing learning rate to 0.00010000000474974513.\n",
            "Epoch 26/50\n",
            "50000/50000 [==============================] - 27s 549us/step - loss: 0.5946 - acc: 0.8039 - val_loss: 0.6122 - val_acc: 0.7940\n",
            "\n",
            "Epoch 00026: val_loss improved from 0.66587 to 0.61217, saving model to depthwise_separable_model.h5\n",
            "Epoch 27/50\n",
            "50000/50000 [==============================] - 27s 549us/step - loss: 0.5873 - acc: 0.8055 - val_loss: 0.6122 - val_acc: 0.7943\n",
            "\n",
            "Epoch 00027: val_loss did not improve from 0.61217\n",
            "Epoch 28/50\n",
            "50000/50000 [==============================] - 27s 546us/step - loss: 0.5785 - acc: 0.8097 - val_loss: 0.6083 - val_acc: 0.7969\n",
            "\n",
            "Epoch 00028: val_loss improved from 0.61217 to 0.60831, saving model to depthwise_separable_model.h5\n",
            "Epoch 29/50\n",
            "50000/50000 [==============================] - 27s 547us/step - loss: 0.5746 - acc: 0.8111 - val_loss: 0.6072 - val_acc: 0.7987\n",
            "\n",
            "Epoch 00029: val_loss improved from 0.60831 to 0.60721, saving model to depthwise_separable_model.h5\n",
            "Epoch 30/50\n",
            "50000/50000 [==============================] - 27s 546us/step - loss: 0.5755 - acc: 0.8097 - val_loss: 0.6087 - val_acc: 0.7993\n",
            "\n",
            "Epoch 00030: val_loss did not improve from 0.60721\n",
            "Epoch 31/50\n",
            "50000/50000 [==============================] - 27s 536us/step - loss: 0.5690 - acc: 0.8121 - val_loss: 0.6047 - val_acc: 0.7977\n",
            "\n",
            "Epoch 00031: val_loss improved from 0.60721 to 0.60466, saving model to depthwise_separable_model.h5\n",
            "Epoch 32/50\n",
            "50000/50000 [==============================] - 26s 528us/step - loss: 0.5654 - acc: 0.8154 - val_loss: 0.6137 - val_acc: 0.7965\n",
            "\n",
            "Epoch 00032: val_loss did not improve from 0.60466\n",
            "Epoch 33/50\n",
            "50000/50000 [==============================] - 27s 530us/step - loss: 0.5663 - acc: 0.8132 - val_loss: 0.6087 - val_acc: 0.7988\n",
            "\n",
            "Epoch 00033: val_loss did not improve from 0.60466\n",
            "Epoch 34/50\n",
            "50000/50000 [==============================] - 26s 528us/step - loss: 0.5652 - acc: 0.8138 - val_loss: 0.6088 - val_acc: 0.8000\n",
            "\n",
            "Epoch 00034: val_loss did not improve from 0.60466\n",
            "\n",
            "Epoch 00034: ReduceLROnPlateau reducing learning rate to 1.0000000474974514e-05.\n",
            "Epoch 35/50\n",
            "50000/50000 [==============================] - 27s 545us/step - loss: 0.5541 - acc: 0.8168 - val_loss: 0.6068 - val_acc: 0.7999\n",
            "\n",
            "Epoch 00035: val_loss did not improve from 0.60466\n",
            "Epoch 36/50\n",
            "50000/50000 [==============================] - 27s 547us/step - loss: 0.5557 - acc: 0.8159 - val_loss: 0.6068 - val_acc: 0.7994\n",
            "\n",
            "Epoch 00036: val_loss did not improve from 0.60466\n",
            "Epoch 37/50\n",
            "50000/50000 [==============================] - 27s 547us/step - loss: 0.5592 - acc: 0.8152 - val_loss: 0.6063 - val_acc: 0.7999\n",
            "\n",
            "Epoch 00037: val_loss did not improve from 0.60466\n",
            "\n",
            "Epoch 00037: ReduceLROnPlateau reducing learning rate to 1.0000000656873453e-06.\n",
            "Epoch 38/50\n",
            "50000/50000 [==============================] - 27s 545us/step - loss: 0.5530 - acc: 0.8169 - val_loss: 0.6057 - val_acc: 0.8003\n",
            "\n",
            "Epoch 00038: val_loss did not improve from 0.60466\n",
            "Epoch 39/50\n",
            "50000/50000 [==============================] - 27s 544us/step - loss: 0.5564 - acc: 0.8160 - val_loss: 0.6060 - val_acc: 0.8001\n",
            "\n",
            "Epoch 00039: val_loss did not improve from 0.60466\n",
            "Epoch 40/50\n",
            "50000/50000 [==============================] - 26s 527us/step - loss: 0.5570 - acc: 0.8156 - val_loss: 0.6064 - val_acc: 0.7994\n",
            "\n",
            "Epoch 00040: val_loss did not improve from 0.60466\n",
            "\n",
            "Epoch 00040: ReduceLROnPlateau reducing learning rate to 1.0000001111620805e-07.\n",
            "Epoch 41/50\n",
            "50000/50000 [==============================] - 27s 534us/step - loss: 0.5551 - acc: 0.8165 - val_loss: 0.6063 - val_acc: 0.7998\n",
            "\n",
            "Epoch 00041: val_loss did not improve from 0.60466\n",
            "Epoch 42/50\n",
            "50000/50000 [==============================] - 26s 525us/step - loss: 0.5545 - acc: 0.8169 - val_loss: 0.6063 - val_acc: 0.7996\n",
            "\n",
            "Epoch 00042: val_loss did not improve from 0.60466\n",
            "Epoch 43/50\n",
            "50000/50000 [==============================] - 27s 534us/step - loss: 0.5508 - acc: 0.8175 - val_loss: 0.6061 - val_acc: 0.7991\n",
            "\n",
            "Epoch 00043: val_loss did not improve from 0.60466\n",
            "\n",
            "Epoch 00043: ReduceLROnPlateau reducing learning rate to 1.000000082740371e-08.\n",
            "Epoch 00043: early stopping\n"
          ],
          "name": "stdout"
        }
      ]
    },
    {
      "metadata": {
        "id": "Tvxu7U0uyKxT",
        "colab_type": "code",
        "colab": {}
      },
      "cell_type": "code",
      "source": [
        "model_json = model_a.to_json()\n",
        "with open(\"depthwise_separable_model.json\", \"w\") as json_file:\n",
        "    json_file.write(model_json)"
      ],
      "execution_count": 0,
      "outputs": []
    },
    {
      "metadata": {
        "id": "vfcHSVSt-j6-",
        "colab_type": "code",
        "outputId": "48bf5e26-bf9e-40ce-90a6-7927087a53a9",
        "colab": {
          "base_uri": "https://localhost:8080/",
          "height": 58
        }
      },
      "cell_type": "code",
      "source": [
        "model_a.load_weights('depthwise_separable_model.h5')\n",
        "score = model_a.evaluate(x_test, y_test, verbose=0)\n",
        "print('Test loss:', score[0])\n",
        "print('Test accuracy:', score[1])"
      ],
      "execution_count": 0,
      "outputs": [
        {
          "output_type": "stream",
          "text": [
            "Test loss: 0.6046573032855987\n",
            "Test accuracy: 0.7977\n"
          ],
          "name": "stdout"
        }
      ]
    },
    {
      "metadata": {
        "id": "9eL1Lo3wZYey",
        "colab_type": "code",
        "colab": {}
      },
      "cell_type": "code",
      "source": [
        "#下載模型的視覺化圖檔\n",
        "from keras.utils import plot_model\n",
        "plot_model(model_a, to_file='model_a.png')\n",
        "from google.colab import files\n",
        "files.download('model_a.png')"
      ],
      "execution_count": 0,
      "outputs": []
    },
    {
      "metadata": {
        "id": "lw344gA5Tn_y",
        "colab_type": "code",
        "outputId": "2d8e56fe-e02f-4613-f9d1-4cd649ca3717",
        "colab": {
          "base_uri": "https://localhost:8080/",
          "height": 34
        }
      },
      "cell_type": "code",
      "source": [
        "K.image_data_format()"
      ],
      "execution_count": 0,
      "outputs": [
        {
          "output_type": "execute_result",
          "data": {
            "text/plain": [
              "'channels_last'"
            ]
          },
          "metadata": {
            "tags": []
          },
          "execution_count": 12
        }
      ]
    },
    {
      "metadata": {
        "id": "99O7NKlcRx8s",
        "colab_type": "code",
        "outputId": "d0bfde57-d98f-4e92-c948-6d709a8e8d45",
        "colab": {
          "base_uri": "https://localhost:8080/",
          "height": 706
        }
      },
      "cell_type": "code",
      "source": [
        "import matplotlib.pyplot as plt\n",
        "\n",
        "acc = history.history['acc']\n",
        "val_acc = history.history['val_acc']\n",
        "loss = history.history['loss']\n",
        "val_loss = history.history['val_loss']\n",
        "\n",
        "epochs = range(len(acc))\n",
        "\n",
        "plt.plot(epochs, acc, 'bo', label='Training acc')\n",
        "plt.plot(epochs, val_acc, 'b', label='Validation acc')\n",
        "plt.title('Training and validation accuracy')\n",
        "plt.legend()\n",
        "\n",
        "plt.figure()\n",
        "\n",
        "plt.plot(epochs, loss, 'bo', label='Training loss')\n",
        "plt.plot(epochs, val_loss, 'b', label='Validation loss')\n",
        "plt.title('Training and validation loss')\n",
        "plt.legend()\n",
        "\n",
        "plt.show()"
      ],
      "execution_count": 0,
      "outputs": [
        {
          "output_type": "display_data",
          "data": {
            "image/png": "[encoded data removed]",
            "text/plain": [
              "<matplotlib.figure.Figure at 0x7f6434c5e3c8>"
            ]
          },
          "metadata": {
            "tags": []
          }
        },
        {
          "output_type": "display_data",
          "data": {
            "image/png": "[encoded data removed]",
            "text/plain": [
              "<matplotlib.figure.Figure at 0x7f6434c26438>"
            ]
          },
          "metadata": {
            "tags": []
          }
        }
      ]
    },
    {
      "metadata": {
        "id": "ZY7l0VXb-j7Q",
        "colab_type": "text"
      },
      "cell_type": "markdown",
      "source": [
        "#### Regular Training with a simple ConvNet \n",
        "#####  on the CIFAR10 dataset"
      ]
    },
    {
      "metadata": {
        "scrolled": true,
        "id": "sAEClUbg-j7S",
        "colab_type": "code",
        "outputId": "424d898b-2bf7-42f6-ad60-c8dde3bcf39b",
        "colab": {
          "base_uri": "https://localhost:8080/",
          "height": 1990
        }
      },
      "cell_type": "code",
      "source": [
        "'''\n",
        "Trains a simple convnet on the CIFAR10 dataset.\n",
        "with rmsprop optimizer\n",
        "'''\n",
        "\n",
        "import keras\n",
        "from keras.datasets import cifar10\n",
        "from keras.models import Sequential\n",
        "from keras import layers\n",
        "from keras.layers import Dense, Dropout, Flatten\n",
        "from keras.layers import Conv2D, MaxPooling2D\n",
        "from keras import backend as K\n",
        "\n",
        "batch_size = 128\n",
        "num_classes = 10\n",
        "epochs = 50\n",
        "\n",
        "# input image dimensions\n",
        "img_height = 32\n",
        "img_width = 32\n",
        "channels = 3\n",
        "\n",
        "# the data, split between train and test sets\n",
        "(x_train, y_train), (x_test, y_test) = cifar10.load_data()\n",
        "\n",
        "if K.image_data_format() == 'channels_first':\n",
        "    x_train = x_train.reshape(x_train.shape[0], channels, img_height, img_width)\n",
        "    x_test = x_test.reshape(x_test.shape[0], channels, img_height, img_width)\n",
        "    input_shape = (channels, img_height, img_width)\n",
        "else:\n",
        "    x_train = x_train.reshape(x_train.shape[0], img_height, img_width, channels)\n",
        "    x_test = x_test.reshape(x_test.shape[0], img_height, img_width, channels)\n",
        "    input_shape = (img_height, img_width, channels)\n",
        "\n",
        "x_train = x_train.astype('float32')\n",
        "x_test = x_test.astype('float32')\n",
        "x_train /= 255\n",
        "x_test /= 255\n",
        "print('x_train shape:', x_train.shape)\n",
        "print(x_train.shape[0], 'train samples')\n",
        "print(x_test.shape[0], 'test samples')\n",
        "\n",
        "# convert class vectors to binary class matrices\n",
        "y_train = keras.utils.to_categorical(y_train, num_classes)\n",
        "y_test = keras.utils.to_categorical(y_test, num_classes)\n",
        "\n",
        "model_b = Sequential()\n",
        "model_b.add(Conv2D(32, kernel_size=(3, 3),\n",
        "                 activation='relu',\n",
        "                 input_shape=input_shape))\n",
        "model_b.add(layers.BatchNormalization())\n",
        "model_b.add(Conv2D(64, (3, 3), activation='relu'))\n",
        "model_b.add(layers.BatchNormalization())\n",
        "model_b.add(MaxPooling2D(pool_size=(2, 2)))\n",
        "model_b.add(Dropout(0.25))\n",
        "model_b.add(Flatten())\n",
        "model_b.add(Dense(128, activation='relu'))\n",
        "model_b.add(layers.BatchNormalization())\n",
        "model_b.add(Dropout(0.5))\n",
        "model_b.add(Dense(num_classes, activation='softmax'))\n",
        "\n",
        "model_b.compile(loss='categorical_crossentropy',\n",
        "              # replace by rmsprop for comparison\n",
        "              optimizer='rmsprop',\n",
        "              # Adding accuracy metrics \n",
        "              metrics=['accuracy'])\n",
        "callbacks_list = [\n",
        "    # Interrupts training when improvement stops\n",
        "    keras.callbacks.EarlyStopping(\n",
        "        # Monitors the model’s validation accuracy\n",
        "        monitor='val_acc',\n",
        "        # Interrupts training when accuracy has stopped \n",
        "        # improving for more than one epoch (that is, two epochs)\n",
        "        patience=5,\n",
        "        verbose=1\n",
        "    ),\n",
        "    # Saves the current weights after every epoch\n",
        "    keras.callbacks.ModelCheckpoint(\n",
        "        # Path to the destination model file\n",
        "        filepath='model_b.h5',\n",
        "        # These two arguments mean you won’t overwrite the model file \n",
        "        # unless val_loss has improved, \n",
        "        monitor='val_loss',\n",
        "        # which allows you to keep the best model seen during training\n",
        "        save_best_only=True,\n",
        "        verbose=1\n",
        "    ),\n",
        "    keras.callbacks.ReduceLROnPlateau(\n",
        "        # Monitors the model’s validation loss\n",
        "        monitor='val_loss',\n",
        "        # Divides the learning rate by 10 when triggered\n",
        "        factor=0.1,\n",
        "        # The callback is triggered after the validation loss \n",
        "        # has stopped improving for 1 epochs.\n",
        "        patience=3,\n",
        "        verbose=1\n",
        "    ) \n",
        "]\n",
        "\n",
        "model_b.fit(x_train, y_train,\n",
        "          batch_size=batch_size,\n",
        "          epochs=epochs,\n",
        "          verbose=1,\n",
        "          callbacks=callbacks_list,\n",
        "          validation_data=(x_test, y_test))"
      ],
      "execution_count": 0,
      "outputs": [
        {
          "output_type": "stream",
          "text": [
            "x_train shape: (50000, 32, 32, 3)\n",
            "50000 train samples\n",
            "10000 test samples\n",
            "Train on 50000 samples, validate on 10000 samples\n",
            "Epoch 1/50\n",
            "50000/50000 [==============================] - 13s 267us/step - loss: 1.4793 - acc: 0.5057 - val_loss: 1.2769 - val_acc: 0.5463\n",
            "\n",
            "Epoch 00001: val_loss improved from inf to 1.27690, saving model to model_b.h5\n",
            "Epoch 2/50\n",
            "50000/50000 [==============================] - 12s 245us/step - loss: 0.9980 - acc: 0.6520 - val_loss: 0.9947 - val_acc: 0.6450\n",
            "\n",
            "Epoch 00002: val_loss improved from 1.27690 to 0.99474, saving model to model_b.h5\n",
            "Epoch 3/50\n",
            "50000/50000 [==============================] - 12s 244us/step - loss: 0.8459 - acc: 0.7068 - val_loss: 1.4733 - val_acc: 0.5679\n",
            "\n",
            "Epoch 00003: val_loss did not improve from 0.99474\n",
            "Epoch 4/50\n",
            "50000/50000 [==============================] - 12s 243us/step - loss: 0.7521 - acc: 0.7387 - val_loss: 0.9695 - val_acc: 0.6720\n",
            "\n",
            "Epoch 00004: val_loss improved from 0.99474 to 0.96953, saving model to model_b.h5\n",
            "Epoch 5/50\n",
            "50000/50000 [==============================] - 12s 244us/step - loss: 0.6752 - acc: 0.7660 - val_loss: 1.0508 - val_acc: 0.6562\n",
            "\n",
            "Epoch 00005: val_loss did not improve from 0.96953\n",
            "Epoch 6/50\n",
            "50000/50000 [==============================] - 12s 244us/step - loss: 0.6172 - acc: 0.7873 - val_loss: 0.9907 - val_acc: 0.6721\n",
            "\n",
            "Epoch 00006: val_loss did not improve from 0.96953\n",
            "Epoch 7/50\n",
            "50000/50000 [==============================] - 12s 244us/step - loss: 0.5637 - acc: 0.8054 - val_loss: 1.0558 - val_acc: 0.6768\n",
            "\n",
            "Epoch 00007: val_loss did not improve from 0.96953\n",
            "\n",
            "Epoch 00007: ReduceLROnPlateau reducing learning rate to 0.00010000000474974513.\n",
            "Epoch 8/50\n",
            "50000/50000 [==============================] - 12s 244us/step - loss: 0.4325 - acc: 0.8540 - val_loss: 0.7704 - val_acc: 0.7445\n",
            "\n",
            "Epoch 00008: val_loss improved from 0.96953 to 0.77045, saving model to model_b.h5\n",
            "Epoch 9/50\n",
            "50000/50000 [==============================] - 12s 244us/step - loss: 0.4049 - acc: 0.8622 - val_loss: 0.7662 - val_acc: 0.7477\n",
            "\n",
            "Epoch 00009: val_loss improved from 0.77045 to 0.76620, saving model to model_b.h5\n",
            "Epoch 10/50\n",
            "50000/50000 [==============================] - 12s 244us/step - loss: 0.3898 - acc: 0.8658 - val_loss: 0.7610 - val_acc: 0.7485\n",
            "\n",
            "Epoch 00010: val_loss improved from 0.76620 to 0.76100, saving model to model_b.h5\n",
            "Epoch 11/50\n",
            "50000/50000 [==============================] - 12s 244us/step - loss: 0.3785 - acc: 0.8704 - val_loss: 0.7559 - val_acc: 0.7501\n",
            "\n",
            "Epoch 00011: val_loss improved from 0.76100 to 0.75595, saving model to model_b.h5\n",
            "Epoch 12/50\n",
            "50000/50000 [==============================] - 12s 246us/step - loss: 0.3681 - acc: 0.8745 - val_loss: 0.8011 - val_acc: 0.7495\n",
            "\n",
            "Epoch 00012: val_loss did not improve from 0.75595\n",
            "Epoch 13/50\n",
            "50000/50000 [==============================] - 12s 244us/step - loss: 0.3561 - acc: 0.8793 - val_loss: 0.8246 - val_acc: 0.7469\n",
            "\n",
            "Epoch 00013: val_loss did not improve from 0.75595\n",
            "Epoch 14/50\n",
            "50000/50000 [==============================] - 12s 245us/step - loss: 0.3496 - acc: 0.8805 - val_loss: 0.7981 - val_acc: 0.7492\n",
            "\n",
            "Epoch 00014: val_loss did not improve from 0.75595\n",
            "\n",
            "Epoch 00014: ReduceLROnPlateau reducing learning rate to 1.0000000474974514e-05.\n",
            "Epoch 15/50\n",
            "50000/50000 [==============================] - 12s 244us/step - loss: 0.3289 - acc: 0.8894 - val_loss: 0.7744 - val_acc: 0.7518\n",
            "\n",
            "Epoch 00015: val_loss did not improve from 0.75595\n",
            "Epoch 16/50\n",
            "50000/50000 [==============================] - 12s 244us/step - loss: 0.3256 - acc: 0.8895 - val_loss: 0.7801 - val_acc: 0.7515\n",
            "\n",
            "Epoch 00016: val_loss did not improve from 0.75595\n",
            "Epoch 17/50\n",
            "50000/50000 [==============================] - 12s 244us/step - loss: 0.3280 - acc: 0.8883 - val_loss: 0.7807 - val_acc: 0.7510\n",
            "\n",
            "Epoch 00017: val_loss did not improve from 0.75595\n",
            "\n",
            "Epoch 00017: ReduceLROnPlateau reducing learning rate to 1.0000000656873453e-06.\n",
            "Epoch 18/50\n",
            "50000/50000 [==============================] - 12s 244us/step - loss: 0.3256 - acc: 0.8893 - val_loss: 0.7746 - val_acc: 0.7517\n",
            "\n",
            "Epoch 00018: val_loss did not improve from 0.75595\n",
            "Epoch 19/50\n",
            "50000/50000 [==============================] - 12s 244us/step - loss: 0.3314 - acc: 0.8874 - val_loss: 0.7740 - val_acc: 0.7515\n",
            "\n",
            "Epoch 00019: val_loss did not improve from 0.75595\n",
            "Epoch 20/50\n",
            "50000/50000 [==============================] - 12s 245us/step - loss: 0.3278 - acc: 0.8883 - val_loss: 0.7754 - val_acc: 0.7513\n",
            "\n",
            "Epoch 00020: val_loss did not improve from 0.75595\n",
            "\n",
            "Epoch 00020: ReduceLROnPlateau reducing learning rate to 1.0000001111620805e-07.\n",
            "Epoch 00020: early stopping\n"
          ],
          "name": "stdout"
        },
        {
          "output_type": "execute_result",
          "data": {
            "text/plain": [
              "<keras.callbacks.History at 0x7f6434b9d8d0>"
            ]
          },
          "metadata": {
            "tags": []
          },
          "execution_count": 16
        }
      ]
    },
    {
      "metadata": {
        "id": "6ZrzrV8VD01Y",
        "colab_type": "code",
        "colab": {}
      },
      "cell_type": "code",
      "source": [
        "model_b.load_weights('model_b.h5')"
      ],
      "execution_count": 0,
      "outputs": []
    },
    {
      "metadata": {
        "id": "gUAJdc2z-j7c",
        "colab_type": "code",
        "outputId": "24c18084-ab30-44ba-9c28-93428453e5ab",
        "colab": {
          "base_uri": "https://localhost:8080/",
          "height": 58
        }
      },
      "cell_type": "code",
      "source": [
        "score = model_b.evaluate(x_test, y_test, verbose=0)\n",
        "print('Test loss:', score[0])\n",
        "print('Test accuracy:', score[1])"
      ],
      "execution_count": 0,
      "outputs": [
        {
          "output_type": "stream",
          "text": [
            "Test loss: 0.7559461263656616\n",
            "Test accuracy: 0.7501\n"
          ],
          "name": "stdout"
        }
      ]
    },
    {
      "metadata": {
        "id": "A3OdeUXNchoH",
        "colab_type": "code",
        "colab": {}
      },
      "cell_type": "code",
      "source": [
        "#下載模型的視覺化圖檔\n",
        "from keras.utils import plot_model\n",
        "plot_model(model_b, to_file='model_b.png')\n",
        "from google.colab import files\n",
        "files.download('model_b.png')"
      ],
      "execution_count": 0,
      "outputs": []
    },
    {
      "metadata": {
        "id": "_aV-PjPR-j7p",
        "colab_type": "text"
      },
      "cell_type": "markdown",
      "source": [
        "The results are not very convincing. Depthwise separable convolution gives an accuracy of 55% that is inferior to the 70% of the simple ConvNet model. Probably that the model is not big /deep enough. "
      ]
    },
    {
      "metadata": {
        "scrolled": true,
        "id": "lNoUROqR-j7q",
        "colab_type": "code",
        "outputId": "3f2b1116-ba73-49cc-9aaf-32e8b02f5e0e",
        "colab": {
          "base_uri": "https://localhost:8080/",
          "height": 1948
        }
      },
      "cell_type": "code",
      "source": [
        "'''\n",
        "Trains a simple convnet on the CIFAR10 dataset.\n",
        "with Adadelta optimizer\n",
        "'''\n",
        "\n",
        "\n",
        "import keras\n",
        "from keras.datasets import cifar10\n",
        "from keras.models import Sequential\n",
        "from keras import layers\n",
        "from keras.layers import Dense, Dropout, Flatten\n",
        "from keras.layers import Conv2D, MaxPooling2D\n",
        "from keras import backend as K\n",
        "\n",
        "batch_size = 128\n",
        "num_classes = 10\n",
        "epochs = 50\n",
        "\n",
        "# input image dimensions\n",
        "img_height = 32\n",
        "img_width = 32\n",
        "channels = 3\n",
        "\n",
        "# the data, split between train and test sets\n",
        "(x_train, y_train), (x_test, y_test) = cifar10.load_data()\n",
        "\n",
        "if K.image_data_format() == 'channels_first':\n",
        "    x_train = x_train.reshape(x_train.shape[0], channels, img_height, img_width)\n",
        "    x_test = x_test.reshape(x_test.shape[0], channels, img_height, img_width)\n",
        "    input_shape = (channels, img_height, img_width)\n",
        "else:\n",
        "    x_train = x_train.reshape(x_train.shape[0], img_height, img_width, channels)\n",
        "    x_test = x_test.reshape(x_test.shape[0], img_height, img_width, channels)\n",
        "    input_shape = (img_height, img_width, channels)\n",
        "\n",
        "x_train = x_train.astype('float32')\n",
        "x_test = x_test.astype('float32')\n",
        "x_train /= 255\n",
        "x_test /= 255\n",
        "print('x_train shape:', x_train.shape)\n",
        "print(x_train.shape[0], 'train samples')\n",
        "print(x_test.shape[0], 'test samples')\n",
        "\n",
        "# convert class vectors to binary class matrices\n",
        "y_train = keras.utils.to_categorical(y_train, num_classes)\n",
        "y_test = keras.utils.to_categorical(y_test, num_classes)\n",
        "\n",
        "model_c = Sequential()\n",
        "model_c.add(Conv2D(32, kernel_size=(3, 3),\n",
        "                 activation='relu',\n",
        "                 input_shape=input_shape))\n",
        "model_c.add(layers.BatchNormalization())\n",
        "model_c.add(Conv2D(64, (3, 3), activation='relu'))\n",
        "model_c.add(layers.BatchNormalization())\n",
        "model_c.add(MaxPooling2D(pool_size=(2, 2)))\n",
        "model_c.add(Dropout(0.25))\n",
        "model_c.add(Flatten())\n",
        "model_c.add(Dense(128, activation='relu'))\n",
        "model_c.add(layers.BatchNormalization())\n",
        "model_c.add(Dropout(0.5))\n",
        "model_c.add(Dense(num_classes, activation='softmax'))\n",
        "\n",
        "model_c.compile(loss='categorical_crossentropy',\n",
        "              # The model_c is optimized with the Adadelta optimizer\n",
        "              optimizer='Adadelta',\n",
        "              # Adding accuracy metrics \n",
        "              metrics=['accuracy'])\n",
        "callbacks_list = [\n",
        "    # Interrupts training when improvement stops\n",
        "    keras.callbacks.EarlyStopping(\n",
        "        # Monitors the model’s validation accuracy\n",
        "        monitor='val_acc',\n",
        "        # Interrupts training when accuracy has stopped \n",
        "        # improving for more than one epoch (that is, two epochs)\n",
        "        patience=5,\n",
        "        verbose=1\n",
        "    ),\n",
        "    # Saves the current weights after every epoch\n",
        "    keras.callbacks.ModelCheckpoint(\n",
        "        # Path to the destination model file\n",
        "        filepath='model_c.h5',\n",
        "        # These two arguments mean you won’t overwrite the model file \n",
        "        # unless val_loss has improved, \n",
        "        monitor='val_loss',\n",
        "        # which allows you to keep the best model seen during training\n",
        "        save_best_only=True,\n",
        "        verbose=1\n",
        "    ),\n",
        "    keras.callbacks.ReduceLROnPlateau(\n",
        "        # Monitors the model’s validation loss\n",
        "        monitor='val_loss',\n",
        "        # Divides the learning rate by 10 when triggered\n",
        "        factor=0.1,\n",
        "        # The callback is triggered after the validation loss \n",
        "        # has stopped improving for 1 epochs.\n",
        "        patience=3,\n",
        "        verbose=1\n",
        "    ) \n",
        "]\n",
        "\n",
        "model_c.fit(x_train, y_train,\n",
        "          batch_size=batch_size,\n",
        "          epochs=epochs,\n",
        "          verbose=1,\n",
        "          callbacks=callbacks_list,\n",
        "          validation_data=(x_test, y_test))"
      ],
      "execution_count": 0,
      "outputs": [
        {
          "output_type": "stream",
          "text": [
            "x_train shape: (50000, 32, 32, 3)\n",
            "50000 train samples\n",
            "10000 test samples\n",
            "Train on 50000 samples, validate on 10000 samples\n",
            "Epoch 1/50\n",
            "50000/50000 [==============================] - 15s 295us/step - loss: 1.5036 - acc: 0.4956 - val_loss: 1.2605 - val_acc: 0.5521\n",
            "\n",
            "Epoch 00001: val_loss improved from inf to 1.26049, saving model to model_c.h5\n",
            "Epoch 2/50\n",
            "50000/50000 [==============================] - 13s 263us/step - loss: 0.9988 - acc: 0.6508 - val_loss: 0.9233 - val_acc: 0.6757\n",
            "\n",
            "Epoch 00002: val_loss improved from 1.26049 to 0.92332, saving model to model_c.h5\n",
            "Epoch 3/50\n",
            "50000/50000 [==============================] - 13s 263us/step - loss: 0.8544 - acc: 0.7023 - val_loss: 0.8934 - val_acc: 0.6903\n",
            "\n",
            "Epoch 00003: val_loss improved from 0.92332 to 0.89340, saving model to model_c.h5\n",
            "Epoch 4/50\n",
            "50000/50000 [==============================] - 13s 264us/step - loss: 0.7499 - acc: 0.7388 - val_loss: 0.8779 - val_acc: 0.6930\n",
            "\n",
            "Epoch 00004: val_loss improved from 0.89340 to 0.87791, saving model to model_c.h5\n",
            "Epoch 5/50\n",
            "50000/50000 [==============================] - 13s 263us/step - loss: 0.6713 - acc: 0.7662 - val_loss: 0.9324 - val_acc: 0.6831\n",
            "\n",
            "Epoch 00005: val_loss did not improve from 0.87791\n",
            "Epoch 6/50\n",
            "50000/50000 [==============================] - 13s 263us/step - loss: 0.6059 - acc: 0.7895 - val_loss: 0.9847 - val_acc: 0.6717\n",
            "\n",
            "Epoch 00006: val_loss did not improve from 0.87791\n",
            "Epoch 7/50\n",
            "50000/50000 [==============================] - 13s 264us/step - loss: 0.5506 - acc: 0.8080 - val_loss: 0.8596 - val_acc: 0.7103\n",
            "\n",
            "Epoch 00007: val_loss improved from 0.87791 to 0.85965, saving model to model_c.h5\n",
            "Epoch 8/50\n",
            "50000/50000 [==============================] - 13s 264us/step - loss: 0.5042 - acc: 0.8237 - val_loss: 0.8399 - val_acc: 0.7241\n",
            "\n",
            "Epoch 00008: val_loss improved from 0.85965 to 0.83995, saving model to model_c.h5\n",
            "Epoch 9/50\n",
            "50000/50000 [==============================] - 13s 263us/step - loss: 0.4623 - acc: 0.8376 - val_loss: 0.8491 - val_acc: 0.7138\n",
            "\n",
            "Epoch 00009: val_loss did not improve from 0.83995\n",
            "Epoch 10/50\n",
            "50000/50000 [==============================] - 13s 262us/step - loss: 0.4242 - acc: 0.8513 - val_loss: 0.8808 - val_acc: 0.7195\n",
            "\n",
            "Epoch 00010: val_loss did not improve from 0.83995\n",
            "Epoch 11/50\n",
            "50000/50000 [==============================] - 13s 263us/step - loss: 0.3976 - acc: 0.8596 - val_loss: 1.0904 - val_acc: 0.6955\n",
            "\n",
            "Epoch 00011: val_loss did not improve from 0.83995\n",
            "\n",
            "Epoch 00011: ReduceLROnPlateau reducing learning rate to 0.1.\n",
            "Epoch 12/50\n",
            "50000/50000 [==============================] - 13s 263us/step - loss: 0.3076 - acc: 0.8930 - val_loss: 0.8179 - val_acc: 0.7450\n",
            "\n",
            "Epoch 00012: val_loss improved from 0.83995 to 0.81793, saving model to model_c.h5\n",
            "Epoch 13/50\n",
            "50000/50000 [==============================] - 13s 264us/step - loss: 0.2845 - acc: 0.9035 - val_loss: 0.8147 - val_acc: 0.7480\n",
            "\n",
            "Epoch 00013: val_loss improved from 0.81793 to 0.81472, saving model to model_c.h5\n",
            "Epoch 14/50\n",
            "50000/50000 [==============================] - 13s 263us/step - loss: 0.2758 - acc: 0.9054 - val_loss: 0.7933 - val_acc: 0.7489\n",
            "\n",
            "Epoch 00014: val_loss improved from 0.81472 to 0.79331, saving model to model_c.h5\n",
            "Epoch 15/50\n",
            "50000/50000 [==============================] - 13s 264us/step - loss: 0.2688 - acc: 0.9072 - val_loss: 0.7994 - val_acc: 0.7509\n",
            "\n",
            "Epoch 00015: val_loss did not improve from 0.79331\n",
            "Epoch 16/50\n",
            "50000/50000 [==============================] - 13s 263us/step - loss: 0.2580 - acc: 0.9125 - val_loss: 0.8217 - val_acc: 0.7497\n",
            "\n",
            "Epoch 00016: val_loss did not improve from 0.79331\n",
            "Epoch 17/50\n",
            "50000/50000 [==============================] - 13s 263us/step - loss: 0.2510 - acc: 0.9136 - val_loss: 0.8004 - val_acc: 0.7472\n",
            "\n",
            "Epoch 00017: val_loss did not improve from 0.79331\n",
            "\n",
            "Epoch 00017: ReduceLROnPlateau reducing learning rate to 0.010000000149011612.\n",
            "Epoch 18/50\n",
            "50000/50000 [==============================] - 13s 262us/step - loss: 0.2395 - acc: 0.9195 - val_loss: 0.8134 - val_acc: 0.7489\n",
            "\n",
            "Epoch 00018: val_loss did not improve from 0.79331\n",
            "Epoch 19/50\n",
            "50000/50000 [==============================] - 13s 263us/step - loss: 0.2400 - acc: 0.9189 - val_loss: 0.8123 - val_acc: 0.7489\n",
            "\n",
            "Epoch 00019: val_loss did not improve from 0.79331\n",
            "Epoch 20/50\n",
            "50000/50000 [==============================] - 13s 263us/step - loss: 0.2418 - acc: 0.9163 - val_loss: 0.8130 - val_acc: 0.7484\n",
            "\n",
            "Epoch 00020: val_loss did not improve from 0.79331\n",
            "\n",
            "Epoch 00020: ReduceLROnPlateau reducing learning rate to 0.0009999999776482583.\n",
            "Epoch 00020: early stopping\n"
          ],
          "name": "stdout"
        },
        {
          "output_type": "execute_result",
          "data": {
            "text/plain": [
              "<keras.callbacks.History at 0x7f641ff92b00>"
            ]
          },
          "metadata": {
            "tags": []
          },
          "execution_count": 20
        }
      ]
    },
    {
      "metadata": {
        "id": "AZRQJ7RVExAC",
        "colab_type": "code",
        "colab": {}
      },
      "cell_type": "code",
      "source": [
        "model_c.load_weights('model_c.h5')"
      ],
      "execution_count": 0,
      "outputs": []
    },
    {
      "metadata": {
        "id": "etC2i0qm-j7z",
        "colab_type": "code",
        "outputId": "55375c10-2def-4bcf-c94d-b053515a6c58",
        "colab": {
          "base_uri": "https://localhost:8080/",
          "height": 58
        }
      },
      "cell_type": "code",
      "source": [
        "score = model_c.evaluate(x_test, y_test, verbose=0)\n",
        "print('Test loss:', score[0])\n",
        "print('Test accuracy:', score[1])"
      ],
      "execution_count": 0,
      "outputs": [
        {
          "output_type": "stream",
          "text": [
            "Test loss: 0.7933071930885315\n",
            "Test accuracy: 0.7489\n"
          ],
          "name": "stdout"
        }
      ]
    },
    {
      "metadata": {
        "id": "ayepsEfOdFk_",
        "colab_type": "code",
        "colab": {}
      },
      "cell_type": "code",
      "source": [
        "#下載模型的視覺化圖檔\n",
        "from keras.utils import plot_model\n",
        "plot_model(model_c, to_file='model_c.png')\n",
        "from google.colab import files\n",
        "files.download('model_c.png')"
      ],
      "execution_count": 0,
      "outputs": []
    },
    {
      "metadata": {
        "scrolled": true,
        "id": "idFiEnrV-j79",
        "colab_type": "code",
        "outputId": "2b270e3d-9a42-462f-c6ff-e824d1f81f3b",
        "colab": {
          "base_uri": "https://localhost:8080/",
          "height": 3019
        }
      },
      "cell_type": "code",
      "source": [
        "'''Trains a simple deep NN (MLP: Multi-Layer Perceptron) \n",
        "   on the CIFAR10 dataset.\n",
        "'''\n",
        "\n",
        "\n",
        "import keras\n",
        "from keras.datasets import mnist\n",
        "from keras.models import Sequential\n",
        "from keras import layers\n",
        "from keras.layers import Dense, Dropout\n",
        "from keras.optimizers import RMSprop\n",
        "\n",
        "batch_size = 128\n",
        "num_classes = 10\n",
        "epochs = 50\n",
        "# epochs = 12\n",
        "\n",
        "# the data, split between train and test sets\n",
        "# (x_train, y_train), (x_test, y_test) = mnist.load_data()\n",
        "(x_train, y_train), (x_test, y_test) = cifar10.load_data()\n",
        "\n",
        "print(x_train.shape)\n",
        "print(x_test.shape)\n",
        "\n",
        "# x_train = x_train.reshape(60000, 784)\n",
        "x_train = x_train.reshape(50000, 3072)\n",
        "# x_test = x_test.reshape(10000, 784)\n",
        "x_test = x_test.reshape(10000, 3072)\n",
        "x_train = x_train.astype('float32')\n",
        "x_test = x_test.astype('float32')\n",
        "x_train /= 255\n",
        "x_test /= 255\n",
        "print(x_train.shape[0], 'train samples')\n",
        "print(x_test.shape[0], 'test samples')\n",
        "\n",
        "# convert class vectors to binary class matrices\n",
        "y_train = keras.utils.to_categorical(y_train, num_classes)\n",
        "y_test = keras.utils.to_categorical(y_test, num_classes)\n",
        "\n",
        "model_d = Sequential()\n",
        "# model_d.add(Dense(512, activation='relu', input_shape=(784,)))\n",
        "model_d.add(Dense(512, activation='relu', input_shape=(3072,)))\n",
        "model_d.add(layers.BatchNormalization())\n",
        "model_d.add(Dropout(0.2))\n",
        "model_d.add(Dense(512, activation='relu'))\n",
        "model_d.add(layers.BatchNormalization())\n",
        "model_d.add(Dropout(0.2))\n",
        "model_d.add(Dense(num_classes, activation='softmax'))\n",
        "\n",
        "model_d.summary()\n",
        "\n",
        "model_d.compile(loss='categorical_crossentropy',\n",
        "              optimizer=RMSprop(),\n",
        "              metrics=['accuracy'])\n",
        "callbacks_list = [\n",
        "    # Interrupts training when improvement stops\n",
        "    keras.callbacks.EarlyStopping(\n",
        "        # Monitors the model’s validation accuracy\n",
        "        monitor='val_acc',\n",
        "        # Interrupts training when accuracy has stopped \n",
        "        # improving for more than one epoch (that is, two epochs)\n",
        "        patience=5,\n",
        "        verbose=1\n",
        "    ),\n",
        "    # Saves the current weights after every epoch\n",
        "    keras.callbacks.ModelCheckpoint(\n",
        "        # Path to the destination model file\n",
        "        filepath='model_d.h5',\n",
        "        # These two arguments mean you won’t overwrite the model file \n",
        "        # unless val_loss has improved, \n",
        "        monitor='val_loss',\n",
        "        # which allows you to keep the best model seen during training\n",
        "        save_best_only=True,\n",
        "        verbose=1\n",
        "    ),\n",
        "    keras.callbacks.ReduceLROnPlateau(\n",
        "        # Monitors the model’s validation loss\n",
        "        monitor='val_loss',\n",
        "        # Divides the learning rate by 10 when triggered\n",
        "        factor=0.1,\n",
        "        # The callback is triggered after the validation loss \n",
        "        # has stopped improving for 1 epochs.\n",
        "        patience=3,\n",
        "        verbose=1\n",
        "    ) \n",
        "]\n",
        "\n",
        "history = model_d.fit(x_train, y_train,\n",
        "                    batch_size=batch_size,\n",
        "                    epochs=epochs,\n",
        "                    verbose=1,\n",
        "                    callbacks=callbacks_list,\n",
        "                    validation_data=(x_test, y_test))"
      ],
      "execution_count": 0,
      "outputs": [
        {
          "output_type": "stream",
          "text": [
            "(50000, 32, 32, 3)\n",
            "(10000, 32, 32, 3)\n",
            "50000 train samples\n",
            "10000 test samples\n",
            "_________________________________________________________________\n",
            "Layer (type)                 Output Shape              Param #   \n",
            "=================================================================\n",
            "dense_11 (Dense)             (None, 512)               1573376   \n",
            "_________________________________________________________________\n",
            "batch_normalization_20 (Batc (None, 512)               2048      \n",
            "_________________________________________________________________\n",
            "dropout_12 (Dropout)         (None, 512)               0         \n",
            "_________________________________________________________________\n",
            "dense_12 (Dense)             (None, 512)               262656    \n",
            "_________________________________________________________________\n",
            "batch_normalization_21 (Batc (None, 512)               2048      \n",
            "_________________________________________________________________\n",
            "dropout_13 (Dropout)         (None, 512)               0         \n",
            "_________________________________________________________________\n",
            "dense_13 (Dense)             (None, 10)                5130      \n",
            "=================================================================\n",
            "Total params: 1,845,258\n",
            "Trainable params: 1,843,210\n",
            "Non-trainable params: 2,048\n",
            "_________________________________________________________________\n",
            "Train on 50000 samples, validate on 10000 samples\n",
            "Epoch 1/50\n",
            "50000/50000 [==============================] - 6s 130us/step - loss: 1.9234 - acc: 0.3471 - val_loss: 2.1850 - val_acc: 0.3013\n",
            "\n",
            "Epoch 00001: val_loss improved from inf to 2.18501, saving model to model_d.h5\n",
            "Epoch 2/50\n",
            "50000/50000 [==============================] - 5s 104us/step - loss: 1.6605 - acc: 0.4179 - val_loss: 1.8731 - val_acc: 0.3393\n",
            "\n",
            "Epoch 00002: val_loss improved from 2.18501 to 1.87314, saving model to model_d.h5\n",
            "Epoch 3/50\n",
            "50000/50000 [==============================] - 5s 104us/step - loss: 1.5743 - acc: 0.4418 - val_loss: 1.6982 - val_acc: 0.3987\n",
            "\n",
            "Epoch 00003: val_loss improved from 1.87314 to 1.69823, saving model to model_d.h5\n",
            "Epoch 4/50\n",
            "50000/50000 [==============================] - 5s 104us/step - loss: 1.5293 - acc: 0.4577 - val_loss: 1.7252 - val_acc: 0.3858\n",
            "\n",
            "Epoch 00004: val_loss did not improve from 1.69823\n",
            "Epoch 5/50\n",
            "50000/50000 [==============================] - 5s 104us/step - loss: 1.4976 - acc: 0.4704 - val_loss: 2.3747 - val_acc: 0.2739\n",
            "\n",
            "Epoch 00005: val_loss did not improve from 1.69823\n",
            "Epoch 6/50\n",
            "50000/50000 [==============================] - 5s 104us/step - loss: 1.4766 - acc: 0.4747 - val_loss: 1.6059 - val_acc: 0.4403\n",
            "\n",
            "Epoch 00006: val_loss improved from 1.69823 to 1.60592, saving model to model_d.h5\n",
            "Epoch 7/50\n",
            "50000/50000 [==============================] - 5s 104us/step - loss: 1.4493 - acc: 0.4875 - val_loss: 1.5147 - val_acc: 0.4629\n",
            "\n",
            "Epoch 00007: val_loss improved from 1.60592 to 1.51466, saving model to model_d.h5\n",
            "Epoch 8/50\n",
            "50000/50000 [==============================] - 5s 105us/step - loss: 1.4325 - acc: 0.4906 - val_loss: 1.5417 - val_acc: 0.4454\n",
            "\n",
            "Epoch 00008: val_loss did not improve from 1.51466\n",
            "Epoch 9/50\n",
            "50000/50000 [==============================] - 5s 104us/step - loss: 1.4175 - acc: 0.4955 - val_loss: 1.5175 - val_acc: 0.4683\n",
            "\n",
            "Epoch 00009: val_loss did not improve from 1.51466\n",
            "Epoch 10/50\n",
            "50000/50000 [==============================] - 5s 106us/step - loss: 1.4088 - acc: 0.4995 - val_loss: 1.5493 - val_acc: 0.4505\n",
            "\n",
            "Epoch 00010: val_loss did not improve from 1.51466\n",
            "\n",
            "Epoch 00010: ReduceLROnPlateau reducing learning rate to 0.00010000000474974513.\n",
            "Epoch 11/50\n",
            "50000/50000 [==============================] - 5s 106us/step - loss: 1.3382 - acc: 0.5262 - val_loss: 1.3138 - val_acc: 0.5369\n",
            "\n",
            "Epoch 00011: val_loss improved from 1.51466 to 1.31377, saving model to model_d.h5\n",
            "Epoch 12/50\n",
            "50000/50000 [==============================] - 5s 104us/step - loss: 1.3193 - acc: 0.5320 - val_loss: 1.3080 - val_acc: 0.5397\n",
            "\n",
            "Epoch 00012: val_loss improved from 1.31377 to 1.30805, saving model to model_d.h5\n",
            "Epoch 13/50\n",
            "50000/50000 [==============================] - 5s 103us/step - loss: 1.3091 - acc: 0.5379 - val_loss: 1.3018 - val_acc: 0.5442\n",
            "\n",
            "Epoch 00013: val_loss improved from 1.30805 to 1.30182, saving model to model_d.h5\n",
            "Epoch 14/50\n",
            "50000/50000 [==============================] - 5s 104us/step - loss: 1.3029 - acc: 0.5384 - val_loss: 1.3077 - val_acc: 0.5376\n",
            "\n",
            "Epoch 00014: val_loss did not improve from 1.30182\n",
            "Epoch 15/50\n",
            "50000/50000 [==============================] - 5s 103us/step - loss: 1.3002 - acc: 0.5396 - val_loss: 1.3024 - val_acc: 0.5435\n",
            "\n",
            "Epoch 00015: val_loss did not improve from 1.30182\n",
            "Epoch 16/50\n",
            "50000/50000 [==============================] - 5s 104us/step - loss: 1.2930 - acc: 0.5409 - val_loss: 1.2989 - val_acc: 0.5394\n",
            "\n",
            "Epoch 00016: val_loss improved from 1.30182 to 1.29890, saving model to model_d.h5\n",
            "Epoch 17/50\n",
            "50000/50000 [==============================] - 5s 104us/step - loss: 1.2851 - acc: 0.5428 - val_loss: 1.3028 - val_acc: 0.5388\n",
            "\n",
            "Epoch 00017: val_loss did not improve from 1.29890\n",
            "Epoch 18/50\n",
            "50000/50000 [==============================] - 5s 104us/step - loss: 1.2870 - acc: 0.5452 - val_loss: 1.2897 - val_acc: 0.5451\n",
            "\n",
            "Epoch 00018: val_loss improved from 1.29890 to 1.28973, saving model to model_d.h5\n",
            "Epoch 19/50\n",
            "50000/50000 [==============================] - 5s 104us/step - loss: 1.2807 - acc: 0.5451 - val_loss: 1.2937 - val_acc: 0.5445\n",
            "\n",
            "Epoch 00019: val_loss did not improve from 1.28973\n",
            "Epoch 20/50\n",
            "50000/50000 [==============================] - 5s 104us/step - loss: 1.2795 - acc: 0.5456 - val_loss: 1.2891 - val_acc: 0.5424\n",
            "\n",
            "Epoch 00020: val_loss improved from 1.28973 to 1.28909, saving model to model_d.h5\n",
            "Epoch 21/50\n",
            "50000/50000 [==============================] - 5s 103us/step - loss: 1.2757 - acc: 0.5471 - val_loss: 1.2863 - val_acc: 0.5471\n",
            "\n",
            "Epoch 00021: val_loss improved from 1.28909 to 1.28630, saving model to model_d.h5\n",
            "Epoch 22/50\n",
            "50000/50000 [==============================] - 5s 105us/step - loss: 1.2672 - acc: 0.5533 - val_loss: 1.2858 - val_acc: 0.5479\n",
            "\n",
            "Epoch 00022: val_loss improved from 1.28630 to 1.28582, saving model to model_d.h5\n",
            "Epoch 23/50\n",
            "50000/50000 [==============================] - 5s 103us/step - loss: 1.2708 - acc: 0.5469 - val_loss: 1.2854 - val_acc: 0.5481\n",
            "\n",
            "Epoch 00023: val_loss improved from 1.28582 to 1.28542, saving model to model_d.h5\n",
            "Epoch 24/50\n",
            "50000/50000 [==============================] - 5s 104us/step - loss: 1.2676 - acc: 0.5519 - val_loss: 1.2858 - val_acc: 0.5434\n",
            "\n",
            "Epoch 00024: val_loss did not improve from 1.28542\n",
            "Epoch 25/50\n",
            "50000/50000 [==============================] - 5s 103us/step - loss: 1.2610 - acc: 0.5530 - val_loss: 1.2882 - val_acc: 0.5433\n",
            "\n",
            "Epoch 00025: val_loss did not improve from 1.28542\n",
            "Epoch 26/50\n",
            "50000/50000 [==============================] - 5s 103us/step - loss: 1.2613 - acc: 0.5542 - val_loss: 1.2897 - val_acc: 0.5443\n",
            "\n",
            "Epoch 00026: val_loss did not improve from 1.28542\n",
            "\n",
            "Epoch 00026: ReduceLROnPlateau reducing learning rate to 1.0000000474974514e-05.\n",
            "Epoch 27/50\n",
            "50000/50000 [==============================] - 5s 103us/step - loss: 1.2499 - acc: 0.5591 - val_loss: 1.2777 - val_acc: 0.5463\n",
            "\n",
            "Epoch 00027: val_loss improved from 1.28542 to 1.27766, saving model to model_d.h5\n",
            "Epoch 28/50\n",
            "50000/50000 [==============================] - 5s 104us/step - loss: 1.2469 - acc: 0.5591 - val_loss: 1.2756 - val_acc: 0.5476\n",
            "\n",
            "Epoch 00028: val_loss improved from 1.27766 to 1.27556, saving model to model_d.h5\n",
            "Epoch 00028: early stopping\n"
          ],
          "name": "stdout"
        }
      ]
    },
    {
      "metadata": {
        "id": "6v5EgVK_G5cP",
        "colab_type": "code",
        "colab": {}
      },
      "cell_type": "code",
      "source": [
        "model_d.load_weights('model_d.h5')"
      ],
      "execution_count": 0,
      "outputs": []
    },
    {
      "metadata": {
        "id": "0PU0Xcgy-j8E",
        "colab_type": "code",
        "outputId": "9ad4b6b2-ce90-4519-f69f-2d8978370a02",
        "colab": {
          "base_uri": "https://localhost:8080/",
          "height": 58
        }
      },
      "cell_type": "code",
      "source": [
        "score = model_d.evaluate(x_test, y_test, verbose=0)\n",
        "print('Test loss:', score[0])\n",
        "print('Test accuracy:', score[1])"
      ],
      "execution_count": 0,
      "outputs": [
        {
          "output_type": "stream",
          "text": [
            "Test loss: 1.2755645107269287\n",
            "Test accuracy: 0.5476\n"
          ],
          "name": "stdout"
        }
      ]
    },
    {
      "metadata": {
        "id": "-b9Azd6cdWsG",
        "colab_type": "code",
        "colab": {}
      },
      "cell_type": "code",
      "source": [
        "#下載模型的視覺化圖檔\n",
        "from keras.utils import plot_model\n",
        "plot_model(model_d, to_file='model_d.png')\n",
        "from google.colab import files\n",
        "files.download('model_d.png')"
      ],
      "execution_count": 0,
      "outputs": []
    },
    {
      "metadata": {
        "id": "qhDKhQIC-j8W",
        "colab_type": "text"
      },
      "cell_type": "markdown",
      "source": [
        "### 7.3.2. Hyperparameter optimization \n",
        "\n",
        "When building a deep-learning model, you have to make many seemingly arbitrary decisions: How many layers should you stack? How many units or filters should go in each layer? Should you use `relu` as activation, or a different function? Should you use `BatchNormalization` after a given layer? How much dropout should you use? And so on. These architecture-level parameters are called <i>hyperparameters</i> to distinguish them from the parameters of a model, which are trained via backpropagation. \n",
        "\n",
        "In practice, experienced machine-learning engineers and researchers build intuition over time as to what works and what doesn’t when it comes to these choices—they develop hyperparameter-tuning skills. But there are no formal rules. If you want to get to the very limit of what can be achieved on a given task, you can’t be content with arbitrary choices made by a fallible human. Your initial decisions are almost always suboptimal, even if you have good intuition. You can refine your choices by tweaking them by hand and retraining the model repeatedly—that’s what machine-learning engineers and researchers spend most of their time doing. But it shouldn’t be your job as a human to fiddle with hyperparameters all day—that is better left to a machine. \n",
        "\n",
        "Thus you need to explore the space of possible decisions automatically, systematically, in a principled way. You need to search the architecture space and find the best-performing ones empirically. That’s what the field of automatic hyperparameter optimization is about: it’s an entire field of research, and an important one.\n",
        "\n",
        "The process of optimizing hyperparameters typically looks like this: \n",
        "\n",
        "* Choose a set of hyperparameters (automatically).\n",
        "* Build the corresponding model.\n",
        "* Fit it to your training data, and measure the final performance on the validation data. \n",
        "* Choose the next set of hyperparameters to try (automatically). \n",
        "* Repeat. \n",
        "* Eventually, measure performance on your test data. \n",
        "\n",
        "The key to this process is the algorithm that uses this history of validation performance, given various sets of hyperparameters, to choose the next set of hyperparameters to evaluate. Many different techniques are possible: Bayesian optimization (https://en.wikipedia.org/wiki/Bayesian_optimization), genetic algorithms (https://en.wikipedia.org/wiki/Genetic_algorithm), simple random search (https://en.wikipedia.org/wiki/Random_search), and so on.\n",
        "\n",
        "The key to this process is the algorithm that uses this history of validation performance, given various sets of hyperparameters, to choose the next set of hyperparameters to evaluate. Many different techniques are possible: Bayesian optimization, genetic algorithms, simple random search, and so on. \n",
        "\n",
        "Training the weights of a model is relatively easy: you compute a loss function on a mini-batch of data and then use the Backpropagation algorithm to move the weights in the right direction. Updating hyperparameters, on the other hand, is extremely challenging. Consider the following: \n",
        "\n",
        "* Computing the feedback signal (does this set of hyperparameters lead to a high-performing model on this task?) can be extremely expensive: it requires creating and training a new model from scratch on your dataset. \n",
        "* The hyperparameter space is typically made of discrete decisions and thus isn’t continuous or differentiable. Hence, you typically can’t do gradient descent in hyperparameter space. Instead, you must rely on gradient-free optimization techniques, which naturally are far less efficient than gradient descent.\n",
        "\n",
        "Because these challenges are difficult and the field is still young, we currently only have access to very limited tools to optimize models. Often, it turns out that random search (choosing hyperparameters to evaluate at random, repeatedly) is the best solution, despite being the most naive one. But one tool I have found reliably better than random search is Hyperopt (https://github.com/hyperopt/hyperopt), a Python library for hyperparameter optimization that internally uses trees of Parzen estimators to predict sets of hyperparameters that are likely to work well. Another library called Hyperas (https://github.com/maxpumperla/hyperas) integrates Hyperopt for use with Keras models. Do check it out.\n",
        "\n",
        "** Note ** \n",
        "> One important issue to keep in mind when doing automatic hyperparameter optimization at scale is validation-set overfitting. Because you’re updating hyperparameters based on a signal that is computed using your validation data, you’re effectively training them on the validation data, and thus they will quickly overfit to the validation data. Always keep this in mind.\n",
        "\n",
        "Overall, hyperparameter optimization is a powerful technique that is an absolute requirement to get to state-of-the-art models on any task or to win machine-learning competitions. Think about it: once upon a time, people handcrafted the features that went into shallow machine-learning models. That was very much suboptimal. Now, deep learning automates the task of hierarchical feature engineering—features are learned using a feedback signal, not hand-tuned, and that’s the way it should be. In the same way, you shouldn’t handcraft your model architectures; you should optimize them in a principled way. At the time of writing, the field of automatic hyperparameter optimization is very young and immature, as deep learning was some years ago, but I expect it to boom in the next few years."
      ]
    },
    {
      "metadata": {
        "id": "EJzVm2NB-j8e",
        "colab_type": "text"
      },
      "cell_type": "markdown",
      "source": [
        "### 7.3.3. Model ensembling \n",
        "Another powerful technique for obtaining the best possible results on a task is model ensembling. Ensembling consists of pooling together the predictions of a set of different models, to produce better predictions. If you look at machine-learning competitions, in particular on Kaggle, you’ll see that the winners use very large ensembles of models that inevitably beat any single model, no matter how good. \n",
        "\n",
        "Ensembling relies on the assumption that different good models trained independently are likely to be good for different reasons: each model looks at slightly different aspects of the data to make its predictions, getting part of the “truth” but not all of it. You may be familiar with the ancient parable of the blind men and the elephant: a group of blind men come across an elephant for the first time and try to understand what the elephant is by touching it. Each man touches a different part of the elephant’s body—just one part, such as the trunk or a leg. Then the men describe to each other what an elephant is: “It’s like a snake,” “Like a pillar or a tree,” and so on. The blind men are essentially machine-learning models trying to understand the manifold of the training data, each from its own perspective, using its own assumptions (provided by the unique architecture of the model and the unique random weight initialization). Each of them gets part of the truth of the data, but not the whole truth. By pooling their perspectives together, you can get a far more accurate description of the data. The elephant is a combination of parts: not any single blind man gets it quite right, but, interviewed together, they can tell a fairly accurate story. \n",
        "\n",
        "Let’s use classification as an example. The easiest way to pool the predictions of a set of classifiers (to ensemble the classifiers) is to average their predictions at inference time:"
      ]
    },
    {
      "metadata": {
        "id": "bn7cNVrL-j8g",
        "colab_type": "code",
        "outputId": "de9b65cf-7160-4ddb-dd9c-092577c3d95f",
        "colab": {
          "base_uri": "https://localhost:8080/",
          "height": 37
        }
      },
      "cell_type": "code",
      "source": [
        "x_test.shape"
      ],
      "execution_count": 0,
      "outputs": [
        {
          "output_type": "execute_result",
          "data": {
            "text/plain": [
              "(10000, 3072)"
            ]
          },
          "metadata": {
            "tags": []
          },
          "execution_count": 33
        }
      ]
    },
    {
      "metadata": {
        "id": "IkVekl8E-j8r",
        "colab_type": "code",
        "outputId": "e0b2f933-423b-42d4-dd1f-c108b07ed64a",
        "colab": {
          "base_uri": "https://localhost:8080/",
          "height": 37
        }
      },
      "cell_type": "code",
      "source": [
        "x_val = x_test.reshape(10000, 32, 32, 3)\n",
        "# Use four different models to compute initial predictions.\n",
        "preds_a = model_a.predict(x_val)\n",
        "preds_b = model_b.predict(x_val)\n",
        "preds_c = model_c.predict(x_val)\n",
        "preds_d = model_d.predict(x_test)\n",
        "\n",
        "# This new prediction array should be more accurate than any of the initial ones.\n",
        "final_preds = 0.25 * (preds_a + preds_b + preds_c + preds_d)\n",
        "\n",
        "import numpy as np\n",
        "final_preds_one_hot = np.zeros_like(final_preds)\n",
        "final_preds_one_hot[np.arange(len(final_preds)), final_preds.argmax(1)] = 1\n",
        "\n",
        "from sklearn.metrics import accuracy_score\n",
        "accuracy_score(y_test, final_preds_one_hot)"
      ],
      "execution_count": 0,
      "outputs": [
        {
          "output_type": "execute_result",
          "data": {
            "text/plain": [
              "0.7977"
            ]
          },
          "metadata": {
            "tags": []
          },
          "execution_count": 34
        }
      ]
    },
    {
      "metadata": {
        "id": "bF1cRgOu-j87",
        "colab_type": "text"
      },
      "cell_type": "markdown",
      "source": [
        "This will work only if the classifiers are more or less equally good. If one of them is significantly worse than the others, the final predictions may not be as good as the best classifier of the group. A smarter way to ensemble classifiers is to do a weighted average, where the weights are learned on the validation data—typically, the better classifiers are given a higher weight, and the worse classifiers are given a lower weight. To search for a good set of ensembling weights, you can use random search or a simple optimization algorithm such as Nelder-Mead.\n",
        "\n",
        "With a homemade one_hot_encoder and accuracy_score from Scikit Learn:"
      ]
    },
    {
      "metadata": {
        "id": "ej3jM8hPIMNn",
        "colab_type": "code",
        "outputId": "219a86a7-82da-4e35-9d06-8be3f8db7a08",
        "colab": {
          "base_uri": "https://localhost:8080/",
          "height": 37
        }
      },
      "cell_type": "code",
      "source": [
        "import numpy as np\n",
        "final_preds = 0.40 * preds_a + 0.35 * preds_b + 0.15 * preds_c + 0.1 * preds_d \n",
        "final_preds_one_hot = np.zeros_like(final_preds)\n",
        "final_preds_one_hot[np.arange(len(final_preds)), final_preds.argmax(1)] = 1\n",
        "\n",
        "from sklearn.metrics import accuracy_score\n",
        "accuracy_score(y_test, final_preds_one_hot)"
      ],
      "execution_count": 0,
      "outputs": [
        {
          "output_type": "execute_result",
          "data": {
            "text/plain": [
              "0.8045"
            ]
          },
          "metadata": {
            "tags": []
          },
          "execution_count": 40
        }
      ]
    },
    {
      "metadata": {
        "id": "r7clzEGl-j9C",
        "colab_type": "text"
      },
      "cell_type": "markdown",
      "source": [
        "With a Keras one_hot encoder and accuracy_score from Scikit Learn:"
      ]
    },
    {
      "metadata": {
        "id": "-HOUgqei-j9D",
        "colab_type": "code",
        "outputId": "6ac37831-bd44-4c38-b249-912e1a63d21b",
        "colab": {
          "base_uri": "https://localhost:8080/",
          "height": 37
        }
      },
      "cell_type": "code",
      "source": [
        "from keras import backend as K\n",
        "final_preds_one_hot = K.one_hot(K.argmax(final_preds,axis=1),10)\n",
        "\n",
        "from sklearn.metrics import accuracy_score\n",
        "accuracy_score(y_test,tf.Session().run(final_preds_one_hot))"
      ],
      "execution_count": 0,
      "outputs": [
        {
          "output_type": "execute_result",
          "data": {
            "text/plain": [
              "0.8045"
            ]
          },
          "metadata": {
            "tags": []
          },
          "execution_count": 41
        }
      ]
    },
    {
      "metadata": {
        "id": "Ig1Cda2PKK3Z",
        "colab_type": "code",
        "outputId": "00a7fa5e-0964-468f-95be-11455c937381",
        "colab": {
          "base_uri": "https://localhost:8080/",
          "height": 37
        }
      },
      "cell_type": "code",
      "source": [
        "final_preds_one_hot"
      ],
      "execution_count": 0,
      "outputs": [
        {
          "output_type": "execute_result",
          "data": {
            "text/plain": [
              "<tf.Tensor 'one_hot:0' shape=(10000, 10) dtype=float32>"
            ]
          },
          "metadata": {
            "tags": []
          },
          "execution_count": 42
        }
      ]
    },
    {
      "metadata": {
        "id": "AmQtFYFrKU1m",
        "colab_type": "code",
        "outputId": "e2fc0039-7a34-41cb-da24-bfaedc10973e",
        "colab": {
          "base_uri": "https://localhost:8080/",
          "height": 37
        }
      },
      "cell_type": "code",
      "source": [
        "final_preds.argmax(1)"
      ],
      "execution_count": 0,
      "outputs": [
        {
          "output_type": "execute_result",
          "data": {
            "text/plain": [
              "array([3, 8, 8, ..., 5, 1, 7])"
            ]
          },
          "metadata": {
            "tags": []
          },
          "execution_count": 44
        }
      ]
    },
    {
      "metadata": {
        "id": "YNtm-UciKnCw",
        "colab_type": "code",
        "outputId": "692dc233-1202-44a8-ed89-d1d888393ee4",
        "colab": {
          "base_uri": "https://localhost:8080/",
          "height": 37
        }
      },
      "cell_type": "code",
      "source": [
        "np.arange(len(final_preds))"
      ],
      "execution_count": 0,
      "outputs": [
        {
          "output_type": "execute_result",
          "data": {
            "text/plain": [
              "array([   0,    1,    2, ..., 9997, 9998, 9999])"
            ]
          },
          "metadata": {
            "tags": []
          },
          "execution_count": 46
        }
      ]
    },
    {
      "metadata": {
        "id": "h2qfk8Yz-j9I",
        "colab_type": "text"
      },
      "cell_type": "markdown",
      "source": [
        "There are many possible variants: you can do an average of an exponential of the predictions, for instance. In general, a simple weighted average with weights optimized on the validation data provides a very strong baseline. \n",
        "\n",
        "The key to making ensembling work is the <i>diversity</i> of the set of classifiers. Diversity is strength. If your models are <i>biased in different ways</i>, the biases will cancel each other out, and the ensemble will be more robust and more accurate. \n",
        "\n",
        "For this reason, you should ensemble models that are <i>as good as possible</i> while being as different as possible. This typically means using very different architectures or even different brands of machine-learning approaches. One thing that is largely not worth doing is ensembling the same network trained several times independently, from different random initializations. If the only difference between your models is their random initialization and the order in which they were exposed to the training data, then your ensemble will be low-diversity and will provide only a tiny improvement over any single model. The point of ensembling. It’s not so much about how good your best model is; it’s about the diversity of your set of candidate models. \n",
        "\n",
        "In recent times, one style of basic ensemble that has been very successful in practice is the wide and deep category of models, blending deep learning with shallow learning. Such models consist of jointly training a deep neural network with a large linear model. The joint training of a family of diverse models is yet another option to achieve model ensembling. "
      ]
    },
    {
      "metadata": {
        "id": "Sfix8Yi04rpA",
        "colab_type": "code",
        "colab": {}
      },
      "cell_type": "code",
      "source": [
        "!py3clean ."
      ],
      "execution_count": 0,
      "outputs": []
    },
    {
      "metadata": {
        "id": "ldwCEeUrF8cy",
        "colab_type": "code",
        "outputId": "5167d6f9-6158-4763-a80c-9d487d967a4d",
        "colab": {
          "base_uri": "https://localhost:8080/",
          "height": 35
        }
      },
      "cell_type": "code",
      "source": [
        "X_test.shape"
      ],
      "execution_count": 0,
      "outputs": [
        {
          "output_type": "execute_result",
          "data": {
            "text/plain": [
              "(10000, 784)"
            ]
          },
          "metadata": {
            "tags": []
          },
          "execution_count": 21
        }
      ]
    },
    {
      "metadata": {
        "id": "KKbh0t4WGhlY",
        "colab_type": "code",
        "outputId": "a2d8cc2c-53dd-44f1-dfa5-bb0d2a22a08f",
        "colab": {
          "base_uri": "https://localhost:8080/",
          "height": 35
        }
      },
      "cell_type": "code",
      "source": [
        "X_val.shape"
      ],
      "execution_count": 0,
      "outputs": [
        {
          "output_type": "execute_result",
          "data": {
            "text/plain": [
              "(12000, 784)"
            ]
          },
          "metadata": {
            "tags": []
          },
          "execution_count": 22
        }
      ]
    },
    {
      "metadata": {
        "id": "3sN9bRRpGm7L",
        "colab_type": "code",
        "colab": {}
      },
      "cell_type": "code",
      "source": [
        ""
      ],
      "execution_count": 0,
      "outputs": []
    }
  ]
}